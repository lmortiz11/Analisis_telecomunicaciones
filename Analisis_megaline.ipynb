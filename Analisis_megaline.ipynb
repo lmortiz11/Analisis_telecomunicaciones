{
 "cells": [
  {
   "cell_type": "markdown",
   "metadata": {
    "id": "3rYiDeEH0q0f"
   },
   "source": [
    "# ¿Cuál es la mejor tarifa?\n",
    "\n",
    "Trabajas como analista para el operador de telecomunicaciones Megaline. La empresa ofrece a sus clientes dos tarifas de prepago, Surf y Ultimate. El departamento comercial quiere saber cuál de las tarifas genera más ingresos para poder ajustar el presupuesto de publicidad.\n",
    "\n",
    "Vas a realizar un análisis preliminar de las tarifas basado en una selección de clientes relativamente pequeña. Tendrás los datos de 500 clientes de Megaline: quiénes son los clientes, de dónde son, qué tarifa usan, así como la cantidad de llamadas que hicieron y los mensajes de texto que enviaron en 2018. Tu trabajo es analizar el comportamiento de los clientes y determinar qué tarifa de prepago genera más ingresos."
   ]
  },
  {
   "cell_type": "markdown",
   "metadata": {
    "id": "MQi4IPy70q0y"
   },
   "source": [
    "## Inicialización"
   ]
  },
  {
   "cell_type": "code",
   "execution_count": 1,
   "metadata": {
    "id": "MtYIuBxu0q0z"
   },
   "outputs": [],
   "source": [
    "# Cargar todas las librerías\n",
    "import pandas as pd\n",
    "import matplotlib.pyplot as plt\n",
    "from scipy import stats as st\n",
    "import numpy as np\n",
    "import math\n",
    "import seaborn as sns"
   ]
  },
  {
   "cell_type": "markdown",
   "metadata": {
    "id": "4ysWWC5i0q00"
   },
   "source": [
    "## Cargar datos"
   ]
  },
  {
   "cell_type": "code",
   "execution_count": 2,
   "metadata": {
    "id": "CCqPW7rS0q01"
   },
   "outputs": [],
   "source": [
    "# Carga los archivos de datos en diferentes DataFrames\n",
    "megaline_calls=pd.read_csv('/datasets/megaline_calls.csv')\n",
    "megaline_internet=pd.read_csv('/datasets/megaline_internet.csv')\n",
    "megaline_sms=pd.read_csv('/datasets/megaline_messages.csv')\n",
    "megaline_plans=pd.read_csv('/datasets/megaline_plans.csv')\n",
    "megaline_users=pd.read_csv('/datasets/megaline_users.csv')"
   ]
  },
  {
   "cell_type": "markdown",
   "metadata": {
    "id": "69qqoJ3r0q01"
   },
   "source": [
    "## Preparar los datos"
   ]
  },
  {
   "cell_type": "markdown",
   "metadata": {
    "id": "ohBhimvH0q01"
   },
   "source": [
    "## Tarifas"
   ]
  },
  {
   "cell_type": "code",
   "execution_count": 3,
   "metadata": {
    "id": "GptqP3Q40q02"
   },
   "outputs": [
    {
     "name": "stdout",
     "output_type": "stream",
     "text": [
      "<class 'pandas.core.frame.DataFrame'>\n",
      "RangeIndex: 2 entries, 0 to 1\n",
      "Data columns (total 8 columns):\n",
      " #   Column                 Non-Null Count  Dtype  \n",
      "---  ------                 --------------  -----  \n",
      " 0   messages_included      2 non-null      int64  \n",
      " 1   mb_per_month_included  2 non-null      int64  \n",
      " 2   minutes_included       2 non-null      int64  \n",
      " 3   usd_monthly_pay        2 non-null      int64  \n",
      " 4   usd_per_gb             2 non-null      int64  \n",
      " 5   usd_per_message        2 non-null      float64\n",
      " 6   usd_per_minute         2 non-null      float64\n",
      " 7   plan_name              2 non-null      object \n",
      "dtypes: float64(2), int64(5), object(1)\n",
      "memory usage: 256.0+ bytes\n"
     ]
    }
   ],
   "source": [
    "# Imprime la información general/resumida sobre el DataFrame de las tarifas\n",
    "megaline_plans.info()"
   ]
  },
  {
   "cell_type": "code",
   "execution_count": 4,
   "metadata": {
    "id": "64xzjwL70q02"
   },
   "outputs": [
    {
     "data": {
      "text/html": [
       "<div>\n",
       "<style scoped>\n",
       "    .dataframe tbody tr th:only-of-type {\n",
       "        vertical-align: middle;\n",
       "    }\n",
       "\n",
       "    .dataframe tbody tr th {\n",
       "        vertical-align: top;\n",
       "    }\n",
       "\n",
       "    .dataframe thead th {\n",
       "        text-align: right;\n",
       "    }\n",
       "</style>\n",
       "<table border=\"1\" class=\"dataframe\">\n",
       "  <thead>\n",
       "    <tr style=\"text-align: right;\">\n",
       "      <th></th>\n",
       "      <th>messages_included</th>\n",
       "      <th>mb_per_month_included</th>\n",
       "      <th>minutes_included</th>\n",
       "      <th>usd_monthly_pay</th>\n",
       "      <th>usd_per_gb</th>\n",
       "      <th>usd_per_message</th>\n",
       "      <th>usd_per_minute</th>\n",
       "      <th>plan_name</th>\n",
       "    </tr>\n",
       "  </thead>\n",
       "  <tbody>\n",
       "    <tr>\n",
       "      <th>0</th>\n",
       "      <td>50</td>\n",
       "      <td>15360</td>\n",
       "      <td>500</td>\n",
       "      <td>20</td>\n",
       "      <td>10</td>\n",
       "      <td>0.03</td>\n",
       "      <td>0.03</td>\n",
       "      <td>surf</td>\n",
       "    </tr>\n",
       "    <tr>\n",
       "      <th>1</th>\n",
       "      <td>1000</td>\n",
       "      <td>30720</td>\n",
       "      <td>3000</td>\n",
       "      <td>70</td>\n",
       "      <td>7</td>\n",
       "      <td>0.01</td>\n",
       "      <td>0.01</td>\n",
       "      <td>ultimate</td>\n",
       "    </tr>\n",
       "  </tbody>\n",
       "</table>\n",
       "</div>"
      ],
      "text/plain": [
       "   messages_included  mb_per_month_included  minutes_included  \\\n",
       "0                 50                  15360               500   \n",
       "1               1000                  30720              3000   \n",
       "\n",
       "   usd_monthly_pay  usd_per_gb  usd_per_message  usd_per_minute plan_name  \n",
       "0               20          10             0.03            0.03      surf  \n",
       "1               70           7             0.01            0.01  ultimate  "
      ]
     },
     "execution_count": 4,
     "metadata": {},
     "output_type": "execute_result"
    }
   ],
   "source": [
    "# Imprime una muestra de los datos para las tarifas\n",
    "megaline_plans.head()"
   ]
  },
  {
   "cell_type": "markdown",
   "metadata": {},
   "source": [
    "De el archivo de los planes se observa que tiene todos los datos, no hay valores auscentes y los tipo de datos de casi todosestán correctos, solo cambiaría el tipo de datos de  usd_monthly_pay y usd_per_gb de int a float, para que cuando se necesite hacer operaciones con la otras columnas que manejan precio en dolares todas sean de tipo float y no se pierda información sobre el dinero pagado al final por el cliente. "
   ]
  },
  {
   "cell_type": "markdown",
   "metadata": {
    "id": "R3C05i1l0q03"
   },
   "source": [
    "## Corregir datos"
   ]
  },
  {
   "cell_type": "code",
   "execution_count": 5,
   "metadata": {
    "id": "Y7SVmjGn0q03"
   },
   "outputs": [],
   "source": [
    "#Se pasan las columnas de enteros a float\n",
    "megaline_plans['usd_monthly_pay']=megaline_plans['usd_monthly_pay'].astype('float')\n",
    "megaline_plans['usd_per_gb']=megaline_plans['usd_per_gb'].astype('float')"
   ]
  },
  {
   "cell_type": "markdown",
   "metadata": {
    "id": "LJir7bml0q03"
   },
   "source": [
    "## Enriquecer los datos"
   ]
  },
  {
   "cell_type": "code",
   "execution_count": 6,
   "metadata": {
    "id": "gfcIEuXV0q04"
   },
   "outputs": [],
   "source": [
    "#Se le agregas una columna con las gigas incluidas\n",
    "megaline_plans['gb_per_month_included']=megaline_plans['mb_per_month_included']/1000\n",
    "megaline_plans['gb_per_month_included']=megaline_plans['gb_per_month_included'].astype('int')"
   ]
  },
  {
   "cell_type": "code",
   "execution_count": 7,
   "metadata": {},
   "outputs": [
    {
     "data": {
      "text/html": [
       "<div>\n",
       "<style scoped>\n",
       "    .dataframe tbody tr th:only-of-type {\n",
       "        vertical-align: middle;\n",
       "    }\n",
       "\n",
       "    .dataframe tbody tr th {\n",
       "        vertical-align: top;\n",
       "    }\n",
       "\n",
       "    .dataframe thead th {\n",
       "        text-align: right;\n",
       "    }\n",
       "</style>\n",
       "<table border=\"1\" class=\"dataframe\">\n",
       "  <thead>\n",
       "    <tr style=\"text-align: right;\">\n",
       "      <th></th>\n",
       "      <th>messages_included</th>\n",
       "      <th>mb_per_month_included</th>\n",
       "      <th>minutes_included</th>\n",
       "      <th>usd_monthly_pay</th>\n",
       "      <th>usd_per_gb</th>\n",
       "      <th>usd_per_message</th>\n",
       "      <th>usd_per_minute</th>\n",
       "      <th>plan_name</th>\n",
       "      <th>gb_per_month_included</th>\n",
       "    </tr>\n",
       "  </thead>\n",
       "  <tbody>\n",
       "    <tr>\n",
       "      <th>0</th>\n",
       "      <td>50</td>\n",
       "      <td>15360</td>\n",
       "      <td>500</td>\n",
       "      <td>20.0</td>\n",
       "      <td>10.0</td>\n",
       "      <td>0.03</td>\n",
       "      <td>0.03</td>\n",
       "      <td>surf</td>\n",
       "      <td>15</td>\n",
       "    </tr>\n",
       "    <tr>\n",
       "      <th>1</th>\n",
       "      <td>1000</td>\n",
       "      <td>30720</td>\n",
       "      <td>3000</td>\n",
       "      <td>70.0</td>\n",
       "      <td>7.0</td>\n",
       "      <td>0.01</td>\n",
       "      <td>0.01</td>\n",
       "      <td>ultimate</td>\n",
       "      <td>30</td>\n",
       "    </tr>\n",
       "  </tbody>\n",
       "</table>\n",
       "</div>"
      ],
      "text/plain": [
       "   messages_included  mb_per_month_included  minutes_included  \\\n",
       "0                 50                  15360               500   \n",
       "1               1000                  30720              3000   \n",
       "\n",
       "   usd_monthly_pay  usd_per_gb  usd_per_message  usd_per_minute plan_name  \\\n",
       "0             20.0        10.0             0.03            0.03      surf   \n",
       "1             70.0         7.0             0.01            0.01  ultimate   \n",
       "\n",
       "   gb_per_month_included  \n",
       "0                     15  \n",
       "1                     30  "
      ]
     },
     "execution_count": 7,
     "metadata": {},
     "output_type": "execute_result"
    }
   ],
   "source": [
    "megaline_plans.head()"
   ]
  },
  {
   "cell_type": "markdown",
   "metadata": {
    "id": "1n2X6WXf0q04"
   },
   "source": [
    "## Usuarios/as"
   ]
  },
  {
   "cell_type": "code",
   "execution_count": 8,
   "metadata": {
    "id": "2NgjWFqx0q05"
   },
   "outputs": [
    {
     "name": "stdout",
     "output_type": "stream",
     "text": [
      "<class 'pandas.core.frame.DataFrame'>\n",
      "RangeIndex: 500 entries, 0 to 499\n",
      "Data columns (total 8 columns):\n",
      " #   Column      Non-Null Count  Dtype \n",
      "---  ------      --------------  ----- \n",
      " 0   user_id     500 non-null    int64 \n",
      " 1   first_name  500 non-null    object\n",
      " 2   last_name   500 non-null    object\n",
      " 3   age         500 non-null    int64 \n",
      " 4   city        500 non-null    object\n",
      " 5   reg_date    500 non-null    object\n",
      " 6   plan        500 non-null    object\n",
      " 7   churn_date  34 non-null     object\n",
      "dtypes: int64(2), object(6)\n",
      "memory usage: 31.4+ KB\n"
     ]
    }
   ],
   "source": [
    "# Imprime la información general/resumida sobre el DataFrame de usuarios\n",
    "\n",
    "megaline_users.info()"
   ]
  },
  {
   "cell_type": "code",
   "execution_count": 9,
   "metadata": {
    "id": "1IN1L9uh0q05"
   },
   "outputs": [
    {
     "data": {
      "text/html": [
       "<div>\n",
       "<style scoped>\n",
       "    .dataframe tbody tr th:only-of-type {\n",
       "        vertical-align: middle;\n",
       "    }\n",
       "\n",
       "    .dataframe tbody tr th {\n",
       "        vertical-align: top;\n",
       "    }\n",
       "\n",
       "    .dataframe thead th {\n",
       "        text-align: right;\n",
       "    }\n",
       "</style>\n",
       "<table border=\"1\" class=\"dataframe\">\n",
       "  <thead>\n",
       "    <tr style=\"text-align: right;\">\n",
       "      <th></th>\n",
       "      <th>user_id</th>\n",
       "      <th>first_name</th>\n",
       "      <th>last_name</th>\n",
       "      <th>age</th>\n",
       "      <th>city</th>\n",
       "      <th>reg_date</th>\n",
       "      <th>plan</th>\n",
       "      <th>churn_date</th>\n",
       "    </tr>\n",
       "  </thead>\n",
       "  <tbody>\n",
       "    <tr>\n",
       "      <th>345</th>\n",
       "      <td>1345</td>\n",
       "      <td>Pasquale</td>\n",
       "      <td>Caldwell</td>\n",
       "      <td>26</td>\n",
       "      <td>Los Angeles-Long Beach-Anaheim, CA MSA</td>\n",
       "      <td>2018-07-12</td>\n",
       "      <td>surf</td>\n",
       "      <td>NaN</td>\n",
       "    </tr>\n",
       "    <tr>\n",
       "      <th>94</th>\n",
       "      <td>1094</td>\n",
       "      <td>Walter</td>\n",
       "      <td>Petersen</td>\n",
       "      <td>54</td>\n",
       "      <td>Los Angeles-Long Beach-Anaheim, CA MSA</td>\n",
       "      <td>2018-10-30</td>\n",
       "      <td>surf</td>\n",
       "      <td>2018-12-12</td>\n",
       "    </tr>\n",
       "    <tr>\n",
       "      <th>161</th>\n",
       "      <td>1161</td>\n",
       "      <td>Florance</td>\n",
       "      <td>Estrada</td>\n",
       "      <td>52</td>\n",
       "      <td>New York-Newark-Jersey City, NY-NJ-PA MSA</td>\n",
       "      <td>2018-11-27</td>\n",
       "      <td>ultimate</td>\n",
       "      <td>NaN</td>\n",
       "    </tr>\n",
       "    <tr>\n",
       "      <th>323</th>\n",
       "      <td>1323</td>\n",
       "      <td>Pamelia</td>\n",
       "      <td>Atkins</td>\n",
       "      <td>42</td>\n",
       "      <td>Baltimore-Columbia-Towson, MD MSA</td>\n",
       "      <td>2018-12-30</td>\n",
       "      <td>surf</td>\n",
       "      <td>NaN</td>\n",
       "    </tr>\n",
       "    <tr>\n",
       "      <th>313</th>\n",
       "      <td>1313</td>\n",
       "      <td>Antoine</td>\n",
       "      <td>Baker</td>\n",
       "      <td>49</td>\n",
       "      <td>San Francisco-Oakland-Berkeley, CA MSA</td>\n",
       "      <td>2018-05-24</td>\n",
       "      <td>surf</td>\n",
       "      <td>NaN</td>\n",
       "    </tr>\n",
       "    <tr>\n",
       "      <th>116</th>\n",
       "      <td>1116</td>\n",
       "      <td>Moriah</td>\n",
       "      <td>Yates</td>\n",
       "      <td>60</td>\n",
       "      <td>Cincinnati, OH-KY-IN MSA</td>\n",
       "      <td>2018-08-08</td>\n",
       "      <td>surf</td>\n",
       "      <td>NaN</td>\n",
       "    </tr>\n",
       "    <tr>\n",
       "      <th>396</th>\n",
       "      <td>1396</td>\n",
       "      <td>Ardelia</td>\n",
       "      <td>Benton</td>\n",
       "      <td>65</td>\n",
       "      <td>Salt Lake City, UT MSA</td>\n",
       "      <td>2018-06-01</td>\n",
       "      <td>surf</td>\n",
       "      <td>NaN</td>\n",
       "    </tr>\n",
       "    <tr>\n",
       "      <th>308</th>\n",
       "      <td>1308</td>\n",
       "      <td>Samara</td>\n",
       "      <td>Monroe</td>\n",
       "      <td>46</td>\n",
       "      <td>Virginia Beach-Norfolk-Newport News, VA-NC MSA</td>\n",
       "      <td>2018-11-22</td>\n",
       "      <td>surf</td>\n",
       "      <td>NaN</td>\n",
       "    </tr>\n",
       "    <tr>\n",
       "      <th>499</th>\n",
       "      <td>1499</td>\n",
       "      <td>Shena</td>\n",
       "      <td>Dickson</td>\n",
       "      <td>37</td>\n",
       "      <td>Orlando-Kissimmee-Sanford, FL MSA</td>\n",
       "      <td>2018-05-06</td>\n",
       "      <td>surf</td>\n",
       "      <td>NaN</td>\n",
       "    </tr>\n",
       "    <tr>\n",
       "      <th>170</th>\n",
       "      <td>1170</td>\n",
       "      <td>Olin</td>\n",
       "      <td>Adkins</td>\n",
       "      <td>18</td>\n",
       "      <td>Pittsburgh, PA MSA</td>\n",
       "      <td>2018-09-25</td>\n",
       "      <td>surf</td>\n",
       "      <td>NaN</td>\n",
       "    </tr>\n",
       "  </tbody>\n",
       "</table>\n",
       "</div>"
      ],
      "text/plain": [
       "     user_id first_name last_name  age  \\\n",
       "345     1345   Pasquale  Caldwell   26   \n",
       "94      1094     Walter  Petersen   54   \n",
       "161     1161   Florance   Estrada   52   \n",
       "323     1323    Pamelia    Atkins   42   \n",
       "313     1313    Antoine     Baker   49   \n",
       "116     1116     Moriah     Yates   60   \n",
       "396     1396    Ardelia    Benton   65   \n",
       "308     1308     Samara    Monroe   46   \n",
       "499     1499      Shena   Dickson   37   \n",
       "170     1170       Olin    Adkins   18   \n",
       "\n",
       "                                               city    reg_date      plan  \\\n",
       "345          Los Angeles-Long Beach-Anaheim, CA MSA  2018-07-12      surf   \n",
       "94           Los Angeles-Long Beach-Anaheim, CA MSA  2018-10-30      surf   \n",
       "161       New York-Newark-Jersey City, NY-NJ-PA MSA  2018-11-27  ultimate   \n",
       "323               Baltimore-Columbia-Towson, MD MSA  2018-12-30      surf   \n",
       "313          San Francisco-Oakland-Berkeley, CA MSA  2018-05-24      surf   \n",
       "116                        Cincinnati, OH-KY-IN MSA  2018-08-08      surf   \n",
       "396                          Salt Lake City, UT MSA  2018-06-01      surf   \n",
       "308  Virginia Beach-Norfolk-Newport News, VA-NC MSA  2018-11-22      surf   \n",
       "499               Orlando-Kissimmee-Sanford, FL MSA  2018-05-06      surf   \n",
       "170                              Pittsburgh, PA MSA  2018-09-25      surf   \n",
       "\n",
       "     churn_date  \n",
       "345         NaN  \n",
       "94   2018-12-12  \n",
       "161         NaN  \n",
       "323         NaN  \n",
       "313         NaN  \n",
       "116         NaN  \n",
       "396         NaN  \n",
       "308         NaN  \n",
       "499         NaN  \n",
       "170         NaN  "
      ]
     },
     "execution_count": 9,
     "metadata": {},
     "output_type": "execute_result"
    }
   ],
   "source": [
    "# Imprime una muestra de datos para usuarios\n",
    "megaline_users.sample(10)"
   ]
  },
  {
   "cell_type": "markdown",
   "metadata": {},
   "source": [
    "Del archivo se ve que reg_date y churn_date es de tipo object se debería cambia a tipo datetime, chrun_date hay datos auscentes, y sabemos que estos datos ausentes significan que el usuario sigue con este plan. El resto no ay datos ausentes y están en el formato correcto. "
   ]
  },
  {
   "cell_type": "markdown",
   "metadata": {
    "id": "BX5FQh_I0q06"
   },
   "source": [
    "### Corregir los datos"
   ]
  },
  {
   "cell_type": "code",
   "execution_count": 10,
   "metadata": {
    "id": "yUqX-K0C0q07"
   },
   "outputs": [],
   "source": [
    "#Se cambia el reg_date de object a datetime con formato Y-m-d\n",
    "megaline_users['reg_date']=pd.to_datetime(megaline_users['reg_date'], format='%Y-%m-%d')\n",
    "\n",
    "megaline_users['churn_date']=pd.to_datetime(megaline_users['churn_date'], format='%Y-%m-%d')"
   ]
  },
  {
   "cell_type": "markdown",
   "metadata": {
    "id": "ycwuARJp0q07"
   },
   "source": [
    "### Enriquecer los datos"
   ]
  },
  {
   "cell_type": "code",
   "execution_count": 11,
   "metadata": {},
   "outputs": [],
   "source": [
    "#Obtener una columna con los meses en los que se suscribio\n",
    "megaline_users['reg_month']=megaline_users['reg_date'].dt.month"
   ]
  },
  {
   "cell_type": "markdown",
   "metadata": {
    "id": "o7MeKCid0q08"
   },
   "source": [
    "## Llamadas"
   ]
  },
  {
   "cell_type": "code",
   "execution_count": 12,
   "metadata": {
    "id": "6dDlnoDm0q08"
   },
   "outputs": [
    {
     "name": "stdout",
     "output_type": "stream",
     "text": [
      "<class 'pandas.core.frame.DataFrame'>\n",
      "RangeIndex: 137735 entries, 0 to 137734\n",
      "Data columns (total 4 columns):\n",
      " #   Column     Non-Null Count   Dtype  \n",
      "---  ------     --------------   -----  \n",
      " 0   id         137735 non-null  object \n",
      " 1   user_id    137735 non-null  int64  \n",
      " 2   call_date  137735 non-null  object \n",
      " 3   duration   137735 non-null  float64\n",
      "dtypes: float64(1), int64(1), object(2)\n",
      "memory usage: 4.2+ MB\n"
     ]
    }
   ],
   "source": [
    "# Imprime la información general/resumida sobre el DataFrame de las llamadas\n",
    "megaline_calls.info()\n"
   ]
  },
  {
   "cell_type": "code",
   "execution_count": 13,
   "metadata": {
    "id": "kuh1vlNB0q09"
   },
   "outputs": [
    {
     "data": {
      "text/html": [
       "<div>\n",
       "<style scoped>\n",
       "    .dataframe tbody tr th:only-of-type {\n",
       "        vertical-align: middle;\n",
       "    }\n",
       "\n",
       "    .dataframe tbody tr th {\n",
       "        vertical-align: top;\n",
       "    }\n",
       "\n",
       "    .dataframe thead th {\n",
       "        text-align: right;\n",
       "    }\n",
       "</style>\n",
       "<table border=\"1\" class=\"dataframe\">\n",
       "  <thead>\n",
       "    <tr style=\"text-align: right;\">\n",
       "      <th></th>\n",
       "      <th>id</th>\n",
       "      <th>user_id</th>\n",
       "      <th>call_date</th>\n",
       "      <th>duration</th>\n",
       "    </tr>\n",
       "  </thead>\n",
       "  <tbody>\n",
       "    <tr>\n",
       "      <th>137609</th>\n",
       "      <td>1499_78</td>\n",
       "      <td>1499</td>\n",
       "      <td>2018-12-26</td>\n",
       "      <td>0.00</td>\n",
       "    </tr>\n",
       "    <tr>\n",
       "      <th>29563</th>\n",
       "      <td>1112_72</td>\n",
       "      <td>1112</td>\n",
       "      <td>2018-12-30</td>\n",
       "      <td>4.34</td>\n",
       "    </tr>\n",
       "    <tr>\n",
       "      <th>52441</th>\n",
       "      <td>1187_634</td>\n",
       "      <td>1187</td>\n",
       "      <td>2018-11-06</td>\n",
       "      <td>0.00</td>\n",
       "    </tr>\n",
       "    <tr>\n",
       "      <th>90654</th>\n",
       "      <td>1328_284</td>\n",
       "      <td>1328</td>\n",
       "      <td>2018-10-14</td>\n",
       "      <td>0.00</td>\n",
       "    </tr>\n",
       "    <tr>\n",
       "      <th>50847</th>\n",
       "      <td>1183_191</td>\n",
       "      <td>1183</td>\n",
       "      <td>2018-12-02</td>\n",
       "      <td>2.46</td>\n",
       "    </tr>\n",
       "    <tr>\n",
       "      <th>65444</th>\n",
       "      <td>1237_51</td>\n",
       "      <td>1237</td>\n",
       "      <td>2018-10-24</td>\n",
       "      <td>0.00</td>\n",
       "    </tr>\n",
       "    <tr>\n",
       "      <th>100666</th>\n",
       "      <td>1359_550</td>\n",
       "      <td>1359</td>\n",
       "      <td>2018-10-20</td>\n",
       "      <td>0.00</td>\n",
       "    </tr>\n",
       "    <tr>\n",
       "      <th>15820</th>\n",
       "      <td>1062_60</td>\n",
       "      <td>1062</td>\n",
       "      <td>2018-05-11</td>\n",
       "      <td>8.78</td>\n",
       "    </tr>\n",
       "    <tr>\n",
       "      <th>136951</th>\n",
       "      <td>1496_120</td>\n",
       "      <td>1496</td>\n",
       "      <td>2018-12-31</td>\n",
       "      <td>11.94</td>\n",
       "    </tr>\n",
       "    <tr>\n",
       "      <th>46913</th>\n",
       "      <td>1170_1023</td>\n",
       "      <td>1170</td>\n",
       "      <td>2018-10-22</td>\n",
       "      <td>13.98</td>\n",
       "    </tr>\n",
       "  </tbody>\n",
       "</table>\n",
       "</div>"
      ],
      "text/plain": [
       "               id  user_id   call_date  duration\n",
       "137609    1499_78     1499  2018-12-26      0.00\n",
       "29563     1112_72     1112  2018-12-30      4.34\n",
       "52441    1187_634     1187  2018-11-06      0.00\n",
       "90654    1328_284     1328  2018-10-14      0.00\n",
       "50847    1183_191     1183  2018-12-02      2.46\n",
       "65444     1237_51     1237  2018-10-24      0.00\n",
       "100666   1359_550     1359  2018-10-20      0.00\n",
       "15820     1062_60     1062  2018-05-11      8.78\n",
       "136951   1496_120     1496  2018-12-31     11.94\n",
       "46913   1170_1023     1170  2018-10-22     13.98"
      ]
     },
     "execution_count": 13,
     "metadata": {},
     "output_type": "execute_result"
    }
   ],
   "source": [
    "# Imprime una muestra de datos para las llamadas\n",
    "megaline_calls.sample(10)\n"
   ]
  },
  {
   "cell_type": "markdown",
   "metadata": {},
   "source": [
    "Del archivo se ve que call_date debe ser de tipo datetime y debido a que la compañia aproxima los segundos a minutos, es mejor aproximar la duración de cada llamada a el siguiente minuto."
   ]
  },
  {
   "cell_type": "markdown",
   "metadata": {
    "id": "S7hzxmbX0q0-"
   },
   "source": [
    "### Corregir los datos"
   ]
  },
  {
   "cell_type": "code",
   "execution_count": 14,
   "metadata": {
    "id": "S2r8xA4f0q0-"
   },
   "outputs": [],
   "source": [
    "megaline_calls['call_date']=pd.to_datetime(megaline_calls['call_date'], format='%Y-%m-%d')"
   ]
  },
  {
   "cell_type": "markdown",
   "metadata": {
    "id": "KrMgTrlG0q0_"
   },
   "source": [
    "### Enriquecer los datos"
   ]
  },
  {
   "cell_type": "code",
   "execution_count": 15,
   "metadata": {},
   "outputs": [
    {
     "name": "stdout",
     "output_type": "stream",
     "text": [
      "0\n",
      "0\n"
     ]
    }
   ],
   "source": [
    "#ver si hay filas duplicadas\n",
    "print(megaline_calls.duplicated().sum())\n",
    "#Ver si hay id duplicados\n",
    "print(megaline_calls['id'].duplicated().sum())"
   ]
  },
  {
   "cell_type": "code",
   "execution_count": 16,
   "metadata": {},
   "outputs": [],
   "source": [
    "#redondear los minutos al siguiente numero y se añade esta duración y se pone de tipo int\n",
    "megaline_calls['rounded_duration']=megaline_calls['duration'].apply(np.ceil)\n",
    "megaline_calls['rounded_duration']=megaline_calls['rounded_duration'].astype('int')"
   ]
  },
  {
   "cell_type": "code",
   "execution_count": 17,
   "metadata": {},
   "outputs": [],
   "source": [
    "#sacar una columna con los meses \n",
    "megaline_calls['month_call']=megaline_calls['call_date'].dt.month"
   ]
  },
  {
   "cell_type": "code",
   "execution_count": 18,
   "metadata": {},
   "outputs": [
    {
     "data": {
      "text/html": [
       "<div>\n",
       "<style scoped>\n",
       "    .dataframe tbody tr th:only-of-type {\n",
       "        vertical-align: middle;\n",
       "    }\n",
       "\n",
       "    .dataframe tbody tr th {\n",
       "        vertical-align: top;\n",
       "    }\n",
       "\n",
       "    .dataframe thead th {\n",
       "        text-align: right;\n",
       "    }\n",
       "</style>\n",
       "<table border=\"1\" class=\"dataframe\">\n",
       "  <thead>\n",
       "    <tr style=\"text-align: right;\">\n",
       "      <th></th>\n",
       "      <th>id</th>\n",
       "      <th>user_id</th>\n",
       "      <th>call_date</th>\n",
       "      <th>duration</th>\n",
       "      <th>rounded_duration</th>\n",
       "      <th>month_call</th>\n",
       "    </tr>\n",
       "  </thead>\n",
       "  <tbody>\n",
       "    <tr>\n",
       "      <th>89645</th>\n",
       "      <td>1326_296</td>\n",
       "      <td>1326</td>\n",
       "      <td>2018-12-07</td>\n",
       "      <td>0.48</td>\n",
       "      <td>1</td>\n",
       "      <td>12</td>\n",
       "    </tr>\n",
       "    <tr>\n",
       "      <th>70978</th>\n",
       "      <td>1252_413</td>\n",
       "      <td>1252</td>\n",
       "      <td>2018-09-29</td>\n",
       "      <td>0.84</td>\n",
       "      <td>1</td>\n",
       "      <td>9</td>\n",
       "    </tr>\n",
       "    <tr>\n",
       "      <th>90573</th>\n",
       "      <td>1328_203</td>\n",
       "      <td>1328</td>\n",
       "      <td>2018-11-30</td>\n",
       "      <td>1.43</td>\n",
       "      <td>2</td>\n",
       "      <td>11</td>\n",
       "    </tr>\n",
       "    <tr>\n",
       "      <th>97486</th>\n",
       "      <td>1347_312</td>\n",
       "      <td>1347</td>\n",
       "      <td>2018-08-14</td>\n",
       "      <td>4.13</td>\n",
       "      <td>5</td>\n",
       "      <td>8</td>\n",
       "    </tr>\n",
       "    <tr>\n",
       "      <th>60023</th>\n",
       "      <td>1216_8</td>\n",
       "      <td>1216</td>\n",
       "      <td>2018-12-16</td>\n",
       "      <td>18.87</td>\n",
       "      <td>19</td>\n",
       "      <td>12</td>\n",
       "    </tr>\n",
       "    <tr>\n",
       "      <th>7830</th>\n",
       "      <td>1037_8</td>\n",
       "      <td>1037</td>\n",
       "      <td>2018-12-12</td>\n",
       "      <td>7.42</td>\n",
       "      <td>8</td>\n",
       "      <td>12</td>\n",
       "    </tr>\n",
       "    <tr>\n",
       "      <th>102592</th>\n",
       "      <td>1364_81</td>\n",
       "      <td>1364</td>\n",
       "      <td>2018-11-21</td>\n",
       "      <td>0.00</td>\n",
       "      <td>0</td>\n",
       "      <td>11</td>\n",
       "    </tr>\n",
       "    <tr>\n",
       "      <th>86928</th>\n",
       "      <td>1320_597</td>\n",
       "      <td>1320</td>\n",
       "      <td>2018-05-14</td>\n",
       "      <td>5.17</td>\n",
       "      <td>6</td>\n",
       "      <td>5</td>\n",
       "    </tr>\n",
       "    <tr>\n",
       "      <th>86083</th>\n",
       "      <td>1317_129</td>\n",
       "      <td>1317</td>\n",
       "      <td>2018-12-25</td>\n",
       "      <td>2.39</td>\n",
       "      <td>3</td>\n",
       "      <td>12</td>\n",
       "    </tr>\n",
       "    <tr>\n",
       "      <th>48246</th>\n",
       "      <td>1174_223</td>\n",
       "      <td>1174</td>\n",
       "      <td>2018-06-02</td>\n",
       "      <td>5.47</td>\n",
       "      <td>6</td>\n",
       "      <td>6</td>\n",
       "    </tr>\n",
       "  </tbody>\n",
       "</table>\n",
       "</div>"
      ],
      "text/plain": [
       "              id  user_id  call_date  duration  rounded_duration  month_call\n",
       "89645   1326_296     1326 2018-12-07      0.48                 1          12\n",
       "70978   1252_413     1252 2018-09-29      0.84                 1           9\n",
       "90573   1328_203     1328 2018-11-30      1.43                 2          11\n",
       "97486   1347_312     1347 2018-08-14      4.13                 5           8\n",
       "60023     1216_8     1216 2018-12-16     18.87                19          12\n",
       "7830      1037_8     1037 2018-12-12      7.42                 8          12\n",
       "102592   1364_81     1364 2018-11-21      0.00                 0          11\n",
       "86928   1320_597     1320 2018-05-14      5.17                 6           5\n",
       "86083   1317_129     1317 2018-12-25      2.39                 3          12\n",
       "48246   1174_223     1174 2018-06-02      5.47                 6           6"
      ]
     },
     "execution_count": 18,
     "metadata": {},
     "output_type": "execute_result"
    }
   ],
   "source": [
    "megaline_calls.sample(10)"
   ]
  },
  {
   "cell_type": "markdown",
   "metadata": {
    "id": "mOUZSi180q0_"
   },
   "source": [
    "## Mensajes"
   ]
  },
  {
   "cell_type": "code",
   "execution_count": 19,
   "metadata": {
    "id": "R-bYJpdV0q1A"
   },
   "outputs": [
    {
     "name": "stdout",
     "output_type": "stream",
     "text": [
      "<class 'pandas.core.frame.DataFrame'>\n",
      "RangeIndex: 76051 entries, 0 to 76050\n",
      "Data columns (total 3 columns):\n",
      " #   Column        Non-Null Count  Dtype \n",
      "---  ------        --------------  ----- \n",
      " 0   id            76051 non-null  object\n",
      " 1   user_id       76051 non-null  int64 \n",
      " 2   message_date  76051 non-null  object\n",
      "dtypes: int64(1), object(2)\n",
      "memory usage: 1.7+ MB\n"
     ]
    }
   ],
   "source": [
    "# Imprime la información general/resumida sobre el DataFrame de los mensajes\n",
    "megaline_sms.info()\n"
   ]
  },
  {
   "cell_type": "code",
   "execution_count": 20,
   "metadata": {
    "id": "mCEl2iGE0q1A"
   },
   "outputs": [
    {
     "data": {
      "text/html": [
       "<div>\n",
       "<style scoped>\n",
       "    .dataframe tbody tr th:only-of-type {\n",
       "        vertical-align: middle;\n",
       "    }\n",
       "\n",
       "    .dataframe tbody tr th {\n",
       "        vertical-align: top;\n",
       "    }\n",
       "\n",
       "    .dataframe thead th {\n",
       "        text-align: right;\n",
       "    }\n",
       "</style>\n",
       "<table border=\"1\" class=\"dataframe\">\n",
       "  <thead>\n",
       "    <tr style=\"text-align: right;\">\n",
       "      <th></th>\n",
       "      <th>id</th>\n",
       "      <th>user_id</th>\n",
       "      <th>message_date</th>\n",
       "    </tr>\n",
       "  </thead>\n",
       "  <tbody>\n",
       "    <tr>\n",
       "      <th>47173</th>\n",
       "      <td>1320_417</td>\n",
       "      <td>1320</td>\n",
       "      <td>2018-08-01</td>\n",
       "    </tr>\n",
       "    <tr>\n",
       "      <th>30416</th>\n",
       "      <td>1192_54</td>\n",
       "      <td>1192</td>\n",
       "      <td>2018-12-08</td>\n",
       "    </tr>\n",
       "    <tr>\n",
       "      <th>71824</th>\n",
       "      <td>1467_156</td>\n",
       "      <td>1467</td>\n",
       "      <td>2018-05-03</td>\n",
       "    </tr>\n",
       "    <tr>\n",
       "      <th>62008</th>\n",
       "      <td>1388_2</td>\n",
       "      <td>1388</td>\n",
       "      <td>2018-12-25</td>\n",
       "    </tr>\n",
       "    <tr>\n",
       "      <th>21831</th>\n",
       "      <td>1132_1333</td>\n",
       "      <td>1132</td>\n",
       "      <td>2018-12-08</td>\n",
       "    </tr>\n",
       "    <tr>\n",
       "      <th>39436</th>\n",
       "      <td>1256_235</td>\n",
       "      <td>1256</td>\n",
       "      <td>2018-12-27</td>\n",
       "    </tr>\n",
       "    <tr>\n",
       "      <th>29013</th>\n",
       "      <td>1176_154</td>\n",
       "      <td>1176</td>\n",
       "      <td>2018-11-29</td>\n",
       "    </tr>\n",
       "    <tr>\n",
       "      <th>37312</th>\n",
       "      <td>1247_476</td>\n",
       "      <td>1247</td>\n",
       "      <td>2018-12-09</td>\n",
       "    </tr>\n",
       "    <tr>\n",
       "      <th>12925</th>\n",
       "      <td>1084_165</td>\n",
       "      <td>1084</td>\n",
       "      <td>2018-12-13</td>\n",
       "    </tr>\n",
       "    <tr>\n",
       "      <th>2630</th>\n",
       "      <td>1028_553</td>\n",
       "      <td>1028</td>\n",
       "      <td>2018-12-29</td>\n",
       "    </tr>\n",
       "  </tbody>\n",
       "</table>\n",
       "</div>"
      ],
      "text/plain": [
       "              id  user_id message_date\n",
       "47173   1320_417     1320   2018-08-01\n",
       "30416    1192_54     1192   2018-12-08\n",
       "71824   1467_156     1467   2018-05-03\n",
       "62008     1388_2     1388   2018-12-25\n",
       "21831  1132_1333     1132   2018-12-08\n",
       "39436   1256_235     1256   2018-12-27\n",
       "29013   1176_154     1176   2018-11-29\n",
       "37312   1247_476     1247   2018-12-09\n",
       "12925   1084_165     1084   2018-12-13\n",
       "2630    1028_553     1028   2018-12-29"
      ]
     },
     "execution_count": 20,
     "metadata": {},
     "output_type": "execute_result"
    }
   ],
   "source": [
    "# Imprime una muestra de datos para los mensajes\n",
    "megaline_sms.sample(10)\n"
   ]
  },
  {
   "cell_type": "markdown",
   "metadata": {},
   "source": [
    "La información de message_date esta como object esta se debe convertir a tipo datatime, no hay datos ausentes, se debe revisar que no hayan filas duplicadas y que no hayan id duplicados, ya que este id es único para cada mensaje."
   ]
  },
  {
   "cell_type": "markdown",
   "metadata": {
    "id": "Sprfak900q1B"
   },
   "source": [
    "### Corregir los datos"
   ]
  },
  {
   "cell_type": "code",
   "execution_count": 21,
   "metadata": {
    "id": "vsllvkoa0q1B"
   },
   "outputs": [],
   "source": [
    "megaline_sms['message_date']=pd.to_datetime(megaline_sms['message_date'], format='%Y-%m-%d')"
   ]
  },
  {
   "cell_type": "markdown",
   "metadata": {
    "id": "HvLid7iD0q1B"
   },
   "source": [
    "### Enriquecer los datos"
   ]
  },
  {
   "cell_type": "code",
   "execution_count": 22,
   "metadata": {
    "id": "zYEXZac10q1C"
   },
   "outputs": [
    {
     "name": "stdout",
     "output_type": "stream",
     "text": [
      "0\n",
      "0\n"
     ]
    }
   ],
   "source": [
    "#ver si hay filas duplicadas\n",
    "print(megaline_sms.duplicated().sum())\n",
    "#ver si hay id duplicados\n",
    "print(megaline_sms['id'].duplicated().sum())"
   ]
  },
  {
   "cell_type": "code",
   "execution_count": 23,
   "metadata": {},
   "outputs": [],
   "source": [
    "#sacar una columna con los meses \n",
    "megaline_sms['message_month']=megaline_sms['message_date'].dt.month"
   ]
  },
  {
   "cell_type": "markdown",
   "metadata": {
    "id": "bStkaxn40q1C"
   },
   "source": [
    "## Internet"
   ]
  },
  {
   "cell_type": "code",
   "execution_count": 24,
   "metadata": {
    "id": "e-Uz5qyn0q1C"
   },
   "outputs": [
    {
     "name": "stdout",
     "output_type": "stream",
     "text": [
      "<class 'pandas.core.frame.DataFrame'>\n",
      "RangeIndex: 104825 entries, 0 to 104824\n",
      "Data columns (total 4 columns):\n",
      " #   Column        Non-Null Count   Dtype  \n",
      "---  ------        --------------   -----  \n",
      " 0   id            104825 non-null  object \n",
      " 1   user_id       104825 non-null  int64  \n",
      " 2   session_date  104825 non-null  object \n",
      " 3   mb_used       104825 non-null  float64\n",
      "dtypes: float64(1), int64(1), object(2)\n",
      "memory usage: 3.2+ MB\n"
     ]
    }
   ],
   "source": [
    "# Imprime la información general/resumida sobre el DataFrame de internet\n",
    "megaline_internet.info()\n"
   ]
  },
  {
   "cell_type": "code",
   "execution_count": 25,
   "metadata": {
    "id": "9r3x_XLw0q1C"
   },
   "outputs": [
    {
     "data": {
      "text/html": [
       "<div>\n",
       "<style scoped>\n",
       "    .dataframe tbody tr th:only-of-type {\n",
       "        vertical-align: middle;\n",
       "    }\n",
       "\n",
       "    .dataframe tbody tr th {\n",
       "        vertical-align: top;\n",
       "    }\n",
       "\n",
       "    .dataframe thead th {\n",
       "        text-align: right;\n",
       "    }\n",
       "</style>\n",
       "<table border=\"1\" class=\"dataframe\">\n",
       "  <thead>\n",
       "    <tr style=\"text-align: right;\">\n",
       "      <th></th>\n",
       "      <th>id</th>\n",
       "      <th>user_id</th>\n",
       "      <th>session_date</th>\n",
       "      <th>mb_used</th>\n",
       "    </tr>\n",
       "  </thead>\n",
       "  <tbody>\n",
       "    <tr>\n",
       "      <th>54642</th>\n",
       "      <td>1247_57</td>\n",
       "      <td>1247</td>\n",
       "      <td>2018-08-30</td>\n",
       "      <td>0.00</td>\n",
       "    </tr>\n",
       "    <tr>\n",
       "      <th>92658</th>\n",
       "      <td>1433_42</td>\n",
       "      <td>1433</td>\n",
       "      <td>2018-11-24</td>\n",
       "      <td>80.53</td>\n",
       "    </tr>\n",
       "    <tr>\n",
       "      <th>41568</th>\n",
       "      <td>1185_605</td>\n",
       "      <td>1185</td>\n",
       "      <td>2018-04-09</td>\n",
       "      <td>468.09</td>\n",
       "    </tr>\n",
       "    <tr>\n",
       "      <th>41102</th>\n",
       "      <td>1185_139</td>\n",
       "      <td>1185</td>\n",
       "      <td>2018-02-21</td>\n",
       "      <td>202.13</td>\n",
       "    </tr>\n",
       "    <tr>\n",
       "      <th>33379</th>\n",
       "      <td>1151_121</td>\n",
       "      <td>1151</td>\n",
       "      <td>2018-10-06</td>\n",
       "      <td>227.21</td>\n",
       "    </tr>\n",
       "    <tr>\n",
       "      <th>100012</th>\n",
       "      <td>1474_163</td>\n",
       "      <td>1474</td>\n",
       "      <td>2018-11-23</td>\n",
       "      <td>1159.27</td>\n",
       "    </tr>\n",
       "    <tr>\n",
       "      <th>48255</th>\n",
       "      <td>1214_629</td>\n",
       "      <td>1214</td>\n",
       "      <td>2018-05-28</td>\n",
       "      <td>508.70</td>\n",
       "    </tr>\n",
       "    <tr>\n",
       "      <th>19902</th>\n",
       "      <td>1090_134</td>\n",
       "      <td>1090</td>\n",
       "      <td>2018-08-30</td>\n",
       "      <td>329.85</td>\n",
       "    </tr>\n",
       "    <tr>\n",
       "      <th>72911</th>\n",
       "      <td>1339_48</td>\n",
       "      <td>1339</td>\n",
       "      <td>2018-11-28</td>\n",
       "      <td>519.43</td>\n",
       "    </tr>\n",
       "    <tr>\n",
       "      <th>59765</th>\n",
       "      <td>1268_434</td>\n",
       "      <td>1268</td>\n",
       "      <td>2018-08-21</td>\n",
       "      <td>372.20</td>\n",
       "    </tr>\n",
       "  </tbody>\n",
       "</table>\n",
       "</div>"
      ],
      "text/plain": [
       "              id  user_id session_date  mb_used\n",
       "54642    1247_57     1247   2018-08-30     0.00\n",
       "92658    1433_42     1433   2018-11-24    80.53\n",
       "41568   1185_605     1185   2018-04-09   468.09\n",
       "41102   1185_139     1185   2018-02-21   202.13\n",
       "33379   1151_121     1151   2018-10-06   227.21\n",
       "100012  1474_163     1474   2018-11-23  1159.27\n",
       "48255   1214_629     1214   2018-05-28   508.70\n",
       "19902   1090_134     1090   2018-08-30   329.85\n",
       "72911    1339_48     1339   2018-11-28   519.43\n",
       "59765   1268_434     1268   2018-08-21   372.20"
      ]
     },
     "execution_count": 25,
     "metadata": {},
     "output_type": "execute_result"
    }
   ],
   "source": [
    "# Imprime una muestra de datos para el tráfico de internet\n",
    "megaline_internet.sample(10)\n"
   ]
  },
  {
   "cell_type": "markdown",
   "metadata": {},
   "source": [
    "Los datos en session_date se debe cambiar a un tipo de datos datetime, se ve que no hay datos ausentes. Se puede ver si hay filas duplicadas o id que estén duplicados."
   ]
  },
  {
   "cell_type": "markdown",
   "metadata": {
    "id": "yA0tkPFg0q1D"
   },
   "source": [
    "### Corregir los datos"
   ]
  },
  {
   "cell_type": "code",
   "execution_count": 26,
   "metadata": {
    "id": "zVeanzdd0q1E"
   },
   "outputs": [],
   "source": [
    "#cambian el formato a datetime\n",
    "megaline_internet['session_date']=pd.to_datetime(megaline_internet['session_date'], format='%Y-%m-%d')"
   ]
  },
  {
   "cell_type": "markdown",
   "metadata": {
    "id": "e8_mLF4a0q1E"
   },
   "source": [
    "### Enriquecer los datos"
   ]
  },
  {
   "cell_type": "code",
   "execution_count": 27,
   "metadata": {
    "id": "ESiYPIEK0q1E"
   },
   "outputs": [
    {
     "name": "stdout",
     "output_type": "stream",
     "text": [
      "0\n",
      "0\n"
     ]
    }
   ],
   "source": [
    "#ver si hay filas duplicadas\n",
    "print(megaline_internet.duplicated().sum())\n",
    "#ver si hay id duplicadas\n",
    "print(megaline_internet['id'].duplicated().sum())"
   ]
  },
  {
   "cell_type": "code",
   "execution_count": 28,
   "metadata": {},
   "outputs": [],
   "source": [
    "megaline_internet['session_month']=megaline_internet['session_date'].dt.month"
   ]
  },
  {
   "cell_type": "markdown",
   "metadata": {
    "id": "3UA2cqIW0q1E"
   },
   "source": [
    "## Estudiar las condiciones de las tarifas"
   ]
  },
  {
   "cell_type": "markdown",
   "metadata": {
    "id": "T86Sqltq0q1F"
   },
   "source": [
    "Se imprime la información de la las dos tarifas para ver sus condiciones"
   ]
  },
  {
   "cell_type": "code",
   "execution_count": 29,
   "metadata": {},
   "outputs": [
    {
     "name": "stdout",
     "output_type": "stream",
     "text": [
      " Nombre del plan: surf\n",
      "     Pago mensual: 20.0\n",
      "     Minutos incluidos: 500\n",
      "     Mensajes incluidos:50\n",
      "     Gigas incluidas:15360\n",
      "     Minuto adicional(USD): 0.03\n",
      "     Gigas adicional (usd):10.0\n",
      "     Mensajes adicionales(usd): 0.03\n",
      "     \n",
      " Nombre del plan: ultimate\n",
      "     Pago mensual: 70.0\n",
      "     Minutos incluidos: 3000\n",
      "     Mensajes incluidos:1000\n",
      "     Gigas incluidas:30720\n",
      "     Minuto adicional(USD): 0.01\n",
      "     Gigas adicional (usd):7.0\n",
      "     Mensajes adicionales(usd): 0.01\n",
      "     \n"
     ]
    }
   ],
   "source": [
    "for i in range(2):\n",
    "    print(f''' Nombre del plan: {megaline_plans['plan_name'][i]}\n",
    "     Pago mensual: {megaline_plans['usd_monthly_pay'][i]}\n",
    "     Minutos incluidos: {megaline_plans['minutes_included'][i]}\n",
    "     Mensajes incluidos:{megaline_plans['messages_included'][i]}\n",
    "     Gigas incluidas:{megaline_plans['mb_per_month_included'][i]}\n",
    "     Minuto adicional(USD): {megaline_plans['usd_per_minute'][i]}\n",
    "     Gigas adicional (usd):{megaline_plans['usd_per_gb'][i]}\n",
    "     Mensajes adicionales(usd): {megaline_plans['usd_per_message'][i]}\n",
    "     ''')\n",
    "    "
   ]
  },
  {
   "cell_type": "markdown",
   "metadata": {
    "id": "hMR1tP5d0q1F"
   },
   "source": [
    "## Agregar datos por usuario\n",
    "\n"
   ]
  },
  {
   "cell_type": "code",
   "execution_count": 30,
   "metadata": {
    "id": "A332cedB0q1G"
   },
   "outputs": [],
   "source": [
    "# Calcula el número de llamadas hechas por cada usuario al mes. Guarda el resultado.\n",
    "calls_per_user=megaline_calls.groupby(['user_id','month_call'])['id'].count()\n"
   ]
  },
  {
   "cell_type": "code",
   "execution_count": 31,
   "metadata": {
    "id": "aw2cmuql0q1G"
   },
   "outputs": [],
   "source": [
    "# Calcula la cantidad de minutos usados por cada usuario al mes. Guarda el resultado.\n",
    "minutes_month_per_user=megaline_calls.groupby(['user_id','month_call'])['rounded_duration'].sum()"
   ]
  },
  {
   "cell_type": "code",
   "execution_count": 32,
   "metadata": {
    "id": "CcQvNHn60q1G"
   },
   "outputs": [],
   "source": [
    "# Calcula el número de mensajes enviados por cada usuario al mes. Guarda el resultado.\n",
    "sms_month_user=megaline_sms.groupby(['user_id','message_month'])['id'].count()"
   ]
  },
  {
   "cell_type": "code",
   "execution_count": 33,
   "metadata": {
    "id": "H1AqN2eG0q1H"
   },
   "outputs": [],
   "source": [
    "# Calcula el volumen del tráfico de Internet usado por cada usuario al mes. Guarda el resultado.\n",
    "\n",
    "internet_month_per_user=megaline_internet.groupby(['user_id', 'session_month'])['mb_used'].sum()"
   ]
  },
  {
   "cell_type": "markdown",
   "metadata": {
    "id": "VDfYXnj80q1H"
   },
   "source": [
    "Juntan los datos en un DataFrame dondde muestre lo que consumio cada usuario en el mes."
   ]
  },
  {
   "cell_type": "code",
   "execution_count": 34,
   "metadata": {
    "id": "FW99ykyf0q1H"
   },
   "outputs": [
    {
     "name": "stdout",
     "output_type": "stream",
     "text": [
      "<class 'pandas.core.frame.DataFrame'>\n",
      "RangeIndex: 2293 entries, 0 to 2292\n",
      "Data columns (total 6 columns):\n",
      " #   Column        Non-Null Count  Dtype  \n",
      "---  ------        --------------  -----  \n",
      " 0   user_id       2293 non-null   int64  \n",
      " 1   month         2293 non-null   int64  \n",
      " 2   number_calls  2293 non-null   float64\n",
      " 3   minutes_used  2293 non-null   float64\n",
      " 4   sms_used      2293 non-null   float64\n",
      " 5   mb_used       2293 non-null   float64\n",
      "dtypes: float64(4), int64(2)\n",
      "memory usage: 107.6 KB\n"
     ]
    }
   ],
   "source": [
    "# Fusiona los datos de llamadas, minutos, mensajes e Internet con base en user_id y month\n",
    "\n",
    "consumo_user=pd.concat([calls_per_user,minutes_month_per_user,sms_month_user,internet_month_per_user],axis=1).reset_index()\n",
    "consumo_user.columns=['user_id','month','number_calls','minutes_used','sms_used','mb_used']\n",
    "\n",
    "#Los meses que tienen nan en sms_used, giga y llamadas se cambian a 0\n",
    "consumo_user['number_calls'].fillna(0,inplace=True)\n",
    "consumo_user['minutes_used'].fillna(0,inplace=True)\n",
    "consumo_user['sms_used'].fillna(0,inplace=True)\n",
    "consumo_user['mb_used'].fillna(0,inplace=True)\n",
    "\n",
    "consumo_user.info()\n"
   ]
  },
  {
   "cell_type": "code",
   "execution_count": 35,
   "metadata": {
    "id": "0dNOXHag0q1H"
   },
   "outputs": [
    {
     "data": {
      "text/html": [
       "<div>\n",
       "<style scoped>\n",
       "    .dataframe tbody tr th:only-of-type {\n",
       "        vertical-align: middle;\n",
       "    }\n",
       "\n",
       "    .dataframe tbody tr th {\n",
       "        vertical-align: top;\n",
       "    }\n",
       "\n",
       "    .dataframe thead th {\n",
       "        text-align: right;\n",
       "    }\n",
       "</style>\n",
       "<table border=\"1\" class=\"dataframe\">\n",
       "  <thead>\n",
       "    <tr style=\"text-align: right;\">\n",
       "      <th></th>\n",
       "      <th>user_id</th>\n",
       "      <th>month</th>\n",
       "      <th>number_calls</th>\n",
       "      <th>minutes_used</th>\n",
       "      <th>sms_used</th>\n",
       "      <th>mb_used</th>\n",
       "      <th>plan_name</th>\n",
       "      <th>city</th>\n",
       "    </tr>\n",
       "  </thead>\n",
       "  <tbody>\n",
       "    <tr>\n",
       "      <th>0</th>\n",
       "      <td>1000</td>\n",
       "      <td>12</td>\n",
       "      <td>16.0</td>\n",
       "      <td>124.0</td>\n",
       "      <td>11.0</td>\n",
       "      <td>1901.47</td>\n",
       "      <td>ultimate</td>\n",
       "      <td>Atlanta-Sandy Springs-Roswell, GA MSA</td>\n",
       "    </tr>\n",
       "    <tr>\n",
       "      <th>1</th>\n",
       "      <td>1001</td>\n",
       "      <td>8</td>\n",
       "      <td>27.0</td>\n",
       "      <td>182.0</td>\n",
       "      <td>30.0</td>\n",
       "      <td>6919.15</td>\n",
       "      <td>surf</td>\n",
       "      <td>Seattle-Tacoma-Bellevue, WA MSA</td>\n",
       "    </tr>\n",
       "    <tr>\n",
       "      <th>2</th>\n",
       "      <td>1001</td>\n",
       "      <td>9</td>\n",
       "      <td>49.0</td>\n",
       "      <td>315.0</td>\n",
       "      <td>44.0</td>\n",
       "      <td>13314.82</td>\n",
       "      <td>surf</td>\n",
       "      <td>Seattle-Tacoma-Bellevue, WA MSA</td>\n",
       "    </tr>\n",
       "    <tr>\n",
       "      <th>3</th>\n",
       "      <td>1001</td>\n",
       "      <td>10</td>\n",
       "      <td>65.0</td>\n",
       "      <td>393.0</td>\n",
       "      <td>53.0</td>\n",
       "      <td>22330.49</td>\n",
       "      <td>surf</td>\n",
       "      <td>Seattle-Tacoma-Bellevue, WA MSA</td>\n",
       "    </tr>\n",
       "    <tr>\n",
       "      <th>4</th>\n",
       "      <td>1001</td>\n",
       "      <td>11</td>\n",
       "      <td>64.0</td>\n",
       "      <td>426.0</td>\n",
       "      <td>36.0</td>\n",
       "      <td>18504.30</td>\n",
       "      <td>surf</td>\n",
       "      <td>Seattle-Tacoma-Bellevue, WA MSA</td>\n",
       "    </tr>\n",
       "    <tr>\n",
       "      <th>...</th>\n",
       "      <td>...</td>\n",
       "      <td>...</td>\n",
       "      <td>...</td>\n",
       "      <td>...</td>\n",
       "      <td>...</td>\n",
       "      <td>...</td>\n",
       "      <td>...</td>\n",
       "      <td>...</td>\n",
       "    </tr>\n",
       "    <tr>\n",
       "      <th>2288</th>\n",
       "      <td>1498</td>\n",
       "      <td>12</td>\n",
       "      <td>39.0</td>\n",
       "      <td>339.0</td>\n",
       "      <td>0.0</td>\n",
       "      <td>23137.69</td>\n",
       "      <td>surf</td>\n",
       "      <td>New York-Newark-Jersey City, NY-NJ-PA MSA</td>\n",
       "    </tr>\n",
       "    <tr>\n",
       "      <th>2289</th>\n",
       "      <td>1499</td>\n",
       "      <td>9</td>\n",
       "      <td>41.0</td>\n",
       "      <td>346.0</td>\n",
       "      <td>0.0</td>\n",
       "      <td>12984.76</td>\n",
       "      <td>surf</td>\n",
       "      <td>Orlando-Kissimmee-Sanford, FL MSA</td>\n",
       "    </tr>\n",
       "    <tr>\n",
       "      <th>2290</th>\n",
       "      <td>1499</td>\n",
       "      <td>10</td>\n",
       "      <td>53.0</td>\n",
       "      <td>385.0</td>\n",
       "      <td>0.0</td>\n",
       "      <td>19492.43</td>\n",
       "      <td>surf</td>\n",
       "      <td>Orlando-Kissimmee-Sanford, FL MSA</td>\n",
       "    </tr>\n",
       "    <tr>\n",
       "      <th>2291</th>\n",
       "      <td>1499</td>\n",
       "      <td>11</td>\n",
       "      <td>45.0</td>\n",
       "      <td>308.0</td>\n",
       "      <td>0.0</td>\n",
       "      <td>16813.83</td>\n",
       "      <td>surf</td>\n",
       "      <td>Orlando-Kissimmee-Sanford, FL MSA</td>\n",
       "    </tr>\n",
       "    <tr>\n",
       "      <th>2292</th>\n",
       "      <td>1499</td>\n",
       "      <td>12</td>\n",
       "      <td>65.0</td>\n",
       "      <td>496.0</td>\n",
       "      <td>0.0</td>\n",
       "      <td>22059.21</td>\n",
       "      <td>surf</td>\n",
       "      <td>Orlando-Kissimmee-Sanford, FL MSA</td>\n",
       "    </tr>\n",
       "  </tbody>\n",
       "</table>\n",
       "<p>2293 rows × 8 columns</p>\n",
       "</div>"
      ],
      "text/plain": [
       "      user_id  month  number_calls  minutes_used  sms_used   mb_used  \\\n",
       "0        1000     12          16.0         124.0      11.0   1901.47   \n",
       "1        1001      8          27.0         182.0      30.0   6919.15   \n",
       "2        1001      9          49.0         315.0      44.0  13314.82   \n",
       "3        1001     10          65.0         393.0      53.0  22330.49   \n",
       "4        1001     11          64.0         426.0      36.0  18504.30   \n",
       "...       ...    ...           ...           ...       ...       ...   \n",
       "2288     1498     12          39.0         339.0       0.0  23137.69   \n",
       "2289     1499      9          41.0         346.0       0.0  12984.76   \n",
       "2290     1499     10          53.0         385.0       0.0  19492.43   \n",
       "2291     1499     11          45.0         308.0       0.0  16813.83   \n",
       "2292     1499     12          65.0         496.0       0.0  22059.21   \n",
       "\n",
       "     plan_name                                       city  \n",
       "0     ultimate      Atlanta-Sandy Springs-Roswell, GA MSA  \n",
       "1         surf            Seattle-Tacoma-Bellevue, WA MSA  \n",
       "2         surf            Seattle-Tacoma-Bellevue, WA MSA  \n",
       "3         surf            Seattle-Tacoma-Bellevue, WA MSA  \n",
       "4         surf            Seattle-Tacoma-Bellevue, WA MSA  \n",
       "...        ...                                        ...  \n",
       "2288      surf  New York-Newark-Jersey City, NY-NJ-PA MSA  \n",
       "2289      surf          Orlando-Kissimmee-Sanford, FL MSA  \n",
       "2290      surf          Orlando-Kissimmee-Sanford, FL MSA  \n",
       "2291      surf          Orlando-Kissimmee-Sanford, FL MSA  \n",
       "2292      surf          Orlando-Kissimmee-Sanford, FL MSA  \n",
       "\n",
       "[2293 rows x 8 columns]"
      ]
     },
     "execution_count": 35,
     "metadata": {},
     "output_type": "execute_result"
    }
   ],
   "source": [
    "# Añade la información de la tarifa, de users se obtiene cual es el plan de cada uno\n",
    "consumo_plan=consumo_user.merge(megaline_users,on='user_id')[['user_id','month','number_calls','minutes_used','sms_used','mb_used','plan','city']]\n",
    "consumo_plan.columns=['user_id','month','number_calls','minutes_used','sms_used','mb_used','plan_name','city']\n",
    "consumo_plan"
   ]
  },
  {
   "cell_type": "code",
   "execution_count": 36,
   "metadata": {},
   "outputs": [
    {
     "data": {
      "text/html": [
       "<div>\n",
       "<style scoped>\n",
       "    .dataframe tbody tr th:only-of-type {\n",
       "        vertical-align: middle;\n",
       "    }\n",
       "\n",
       "    .dataframe tbody tr th {\n",
       "        vertical-align: top;\n",
       "    }\n",
       "\n",
       "    .dataframe thead th {\n",
       "        text-align: right;\n",
       "    }\n",
       "</style>\n",
       "<table border=\"1\" class=\"dataframe\">\n",
       "  <thead>\n",
       "    <tr style=\"text-align: right;\">\n",
       "      <th></th>\n",
       "      <th>user_id</th>\n",
       "      <th>month</th>\n",
       "      <th>number_calls</th>\n",
       "      <th>minutes_used</th>\n",
       "      <th>sms_used</th>\n",
       "      <th>mb_used</th>\n",
       "      <th>plan_name</th>\n",
       "      <th>city</th>\n",
       "      <th>messages_included</th>\n",
       "      <th>mb_per_month_included</th>\n",
       "      <th>minutes_included</th>\n",
       "      <th>usd_monthly_pay</th>\n",
       "      <th>usd_per_gb</th>\n",
       "      <th>usd_per_message</th>\n",
       "      <th>usd_per_minute</th>\n",
       "      <th>gb_per_month_included</th>\n",
       "    </tr>\n",
       "  </thead>\n",
       "  <tbody>\n",
       "    <tr>\n",
       "      <th>0</th>\n",
       "      <td>1000</td>\n",
       "      <td>12</td>\n",
       "      <td>16.0</td>\n",
       "      <td>124.0</td>\n",
       "      <td>11.0</td>\n",
       "      <td>1901.47</td>\n",
       "      <td>ultimate</td>\n",
       "      <td>Atlanta-Sandy Springs-Roswell, GA MSA</td>\n",
       "      <td>1000</td>\n",
       "      <td>30720</td>\n",
       "      <td>3000</td>\n",
       "      <td>70.0</td>\n",
       "      <td>7.0</td>\n",
       "      <td>0.01</td>\n",
       "      <td>0.01</td>\n",
       "      <td>30</td>\n",
       "    </tr>\n",
       "    <tr>\n",
       "      <th>1</th>\n",
       "      <td>1006</td>\n",
       "      <td>11</td>\n",
       "      <td>2.0</td>\n",
       "      <td>10.0</td>\n",
       "      <td>15.0</td>\n",
       "      <td>2068.37</td>\n",
       "      <td>ultimate</td>\n",
       "      <td>San Francisco-Oakland-Berkeley, CA MSA</td>\n",
       "      <td>1000</td>\n",
       "      <td>30720</td>\n",
       "      <td>3000</td>\n",
       "      <td>70.0</td>\n",
       "      <td>7.0</td>\n",
       "      <td>0.01</td>\n",
       "      <td>0.01</td>\n",
       "      <td>30</td>\n",
       "    </tr>\n",
       "    <tr>\n",
       "      <th>2</th>\n",
       "      <td>1006</td>\n",
       "      <td>12</td>\n",
       "      <td>9.0</td>\n",
       "      <td>59.0</td>\n",
       "      <td>139.0</td>\n",
       "      <td>32118.82</td>\n",
       "      <td>ultimate</td>\n",
       "      <td>San Francisco-Oakland-Berkeley, CA MSA</td>\n",
       "      <td>1000</td>\n",
       "      <td>30720</td>\n",
       "      <td>3000</td>\n",
       "      <td>70.0</td>\n",
       "      <td>7.0</td>\n",
       "      <td>0.01</td>\n",
       "      <td>0.01</td>\n",
       "      <td>30</td>\n",
       "    </tr>\n",
       "    <tr>\n",
       "      <th>3</th>\n",
       "      <td>1008</td>\n",
       "      <td>10</td>\n",
       "      <td>71.0</td>\n",
       "      <td>476.0</td>\n",
       "      <td>21.0</td>\n",
       "      <td>17106.99</td>\n",
       "      <td>ultimate</td>\n",
       "      <td>Orlando-Kissimmee-Sanford, FL MSA</td>\n",
       "      <td>1000</td>\n",
       "      <td>30720</td>\n",
       "      <td>3000</td>\n",
       "      <td>70.0</td>\n",
       "      <td>7.0</td>\n",
       "      <td>0.01</td>\n",
       "      <td>0.01</td>\n",
       "      <td>30</td>\n",
       "    </tr>\n",
       "    <tr>\n",
       "      <th>4</th>\n",
       "      <td>1008</td>\n",
       "      <td>11</td>\n",
       "      <td>63.0</td>\n",
       "      <td>446.0</td>\n",
       "      <td>37.0</td>\n",
       "      <td>23676.72</td>\n",
       "      <td>ultimate</td>\n",
       "      <td>Orlando-Kissimmee-Sanford, FL MSA</td>\n",
       "      <td>1000</td>\n",
       "      <td>30720</td>\n",
       "      <td>3000</td>\n",
       "      <td>70.0</td>\n",
       "      <td>7.0</td>\n",
       "      <td>0.01</td>\n",
       "      <td>0.01</td>\n",
       "      <td>30</td>\n",
       "    </tr>\n",
       "    <tr>\n",
       "      <th>...</th>\n",
       "      <td>...</td>\n",
       "      <td>...</td>\n",
       "      <td>...</td>\n",
       "      <td>...</td>\n",
       "      <td>...</td>\n",
       "      <td>...</td>\n",
       "      <td>...</td>\n",
       "      <td>...</td>\n",
       "      <td>...</td>\n",
       "      <td>...</td>\n",
       "      <td>...</td>\n",
       "      <td>...</td>\n",
       "      <td>...</td>\n",
       "      <td>...</td>\n",
       "      <td>...</td>\n",
       "      <td>...</td>\n",
       "    </tr>\n",
       "    <tr>\n",
       "      <th>2288</th>\n",
       "      <td>1498</td>\n",
       "      <td>12</td>\n",
       "      <td>39.0</td>\n",
       "      <td>339.0</td>\n",
       "      <td>0.0</td>\n",
       "      <td>23137.69</td>\n",
       "      <td>surf</td>\n",
       "      <td>New York-Newark-Jersey City, NY-NJ-PA MSA</td>\n",
       "      <td>50</td>\n",
       "      <td>15360</td>\n",
       "      <td>500</td>\n",
       "      <td>20.0</td>\n",
       "      <td>10.0</td>\n",
       "      <td>0.03</td>\n",
       "      <td>0.03</td>\n",
       "      <td>15</td>\n",
       "    </tr>\n",
       "    <tr>\n",
       "      <th>2289</th>\n",
       "      <td>1499</td>\n",
       "      <td>9</td>\n",
       "      <td>41.0</td>\n",
       "      <td>346.0</td>\n",
       "      <td>0.0</td>\n",
       "      <td>12984.76</td>\n",
       "      <td>surf</td>\n",
       "      <td>Orlando-Kissimmee-Sanford, FL MSA</td>\n",
       "      <td>50</td>\n",
       "      <td>15360</td>\n",
       "      <td>500</td>\n",
       "      <td>20.0</td>\n",
       "      <td>10.0</td>\n",
       "      <td>0.03</td>\n",
       "      <td>0.03</td>\n",
       "      <td>15</td>\n",
       "    </tr>\n",
       "    <tr>\n",
       "      <th>2290</th>\n",
       "      <td>1499</td>\n",
       "      <td>10</td>\n",
       "      <td>53.0</td>\n",
       "      <td>385.0</td>\n",
       "      <td>0.0</td>\n",
       "      <td>19492.43</td>\n",
       "      <td>surf</td>\n",
       "      <td>Orlando-Kissimmee-Sanford, FL MSA</td>\n",
       "      <td>50</td>\n",
       "      <td>15360</td>\n",
       "      <td>500</td>\n",
       "      <td>20.0</td>\n",
       "      <td>10.0</td>\n",
       "      <td>0.03</td>\n",
       "      <td>0.03</td>\n",
       "      <td>15</td>\n",
       "    </tr>\n",
       "    <tr>\n",
       "      <th>2291</th>\n",
       "      <td>1499</td>\n",
       "      <td>11</td>\n",
       "      <td>45.0</td>\n",
       "      <td>308.0</td>\n",
       "      <td>0.0</td>\n",
       "      <td>16813.83</td>\n",
       "      <td>surf</td>\n",
       "      <td>Orlando-Kissimmee-Sanford, FL MSA</td>\n",
       "      <td>50</td>\n",
       "      <td>15360</td>\n",
       "      <td>500</td>\n",
       "      <td>20.0</td>\n",
       "      <td>10.0</td>\n",
       "      <td>0.03</td>\n",
       "      <td>0.03</td>\n",
       "      <td>15</td>\n",
       "    </tr>\n",
       "    <tr>\n",
       "      <th>2292</th>\n",
       "      <td>1499</td>\n",
       "      <td>12</td>\n",
       "      <td>65.0</td>\n",
       "      <td>496.0</td>\n",
       "      <td>0.0</td>\n",
       "      <td>22059.21</td>\n",
       "      <td>surf</td>\n",
       "      <td>Orlando-Kissimmee-Sanford, FL MSA</td>\n",
       "      <td>50</td>\n",
       "      <td>15360</td>\n",
       "      <td>500</td>\n",
       "      <td>20.0</td>\n",
       "      <td>10.0</td>\n",
       "      <td>0.03</td>\n",
       "      <td>0.03</td>\n",
       "      <td>15</td>\n",
       "    </tr>\n",
       "  </tbody>\n",
       "</table>\n",
       "<p>2293 rows × 16 columns</p>\n",
       "</div>"
      ],
      "text/plain": [
       "      user_id  month  number_calls  minutes_used  sms_used   mb_used  \\\n",
       "0        1000     12          16.0         124.0      11.0   1901.47   \n",
       "1        1006     11           2.0          10.0      15.0   2068.37   \n",
       "2        1006     12           9.0          59.0     139.0  32118.82   \n",
       "3        1008     10          71.0         476.0      21.0  17106.99   \n",
       "4        1008     11          63.0         446.0      37.0  23676.72   \n",
       "...       ...    ...           ...           ...       ...       ...   \n",
       "2288     1498     12          39.0         339.0       0.0  23137.69   \n",
       "2289     1499      9          41.0         346.0       0.0  12984.76   \n",
       "2290     1499     10          53.0         385.0       0.0  19492.43   \n",
       "2291     1499     11          45.0         308.0       0.0  16813.83   \n",
       "2292     1499     12          65.0         496.0       0.0  22059.21   \n",
       "\n",
       "     plan_name                                       city  messages_included  \\\n",
       "0     ultimate      Atlanta-Sandy Springs-Roswell, GA MSA               1000   \n",
       "1     ultimate     San Francisco-Oakland-Berkeley, CA MSA               1000   \n",
       "2     ultimate     San Francisco-Oakland-Berkeley, CA MSA               1000   \n",
       "3     ultimate          Orlando-Kissimmee-Sanford, FL MSA               1000   \n",
       "4     ultimate          Orlando-Kissimmee-Sanford, FL MSA               1000   \n",
       "...        ...                                        ...                ...   \n",
       "2288      surf  New York-Newark-Jersey City, NY-NJ-PA MSA                 50   \n",
       "2289      surf          Orlando-Kissimmee-Sanford, FL MSA                 50   \n",
       "2290      surf          Orlando-Kissimmee-Sanford, FL MSA                 50   \n",
       "2291      surf          Orlando-Kissimmee-Sanford, FL MSA                 50   \n",
       "2292      surf          Orlando-Kissimmee-Sanford, FL MSA                 50   \n",
       "\n",
       "      mb_per_month_included  minutes_included  usd_monthly_pay  usd_per_gb  \\\n",
       "0                     30720              3000             70.0         7.0   \n",
       "1                     30720              3000             70.0         7.0   \n",
       "2                     30720              3000             70.0         7.0   \n",
       "3                     30720              3000             70.0         7.0   \n",
       "4                     30720              3000             70.0         7.0   \n",
       "...                     ...               ...              ...         ...   \n",
       "2288                  15360               500             20.0        10.0   \n",
       "2289                  15360               500             20.0        10.0   \n",
       "2290                  15360               500             20.0        10.0   \n",
       "2291                  15360               500             20.0        10.0   \n",
       "2292                  15360               500             20.0        10.0   \n",
       "\n",
       "      usd_per_message  usd_per_minute  gb_per_month_included  \n",
       "0                0.01            0.01                     30  \n",
       "1                0.01            0.01                     30  \n",
       "2                0.01            0.01                     30  \n",
       "3                0.01            0.01                     30  \n",
       "4                0.01            0.01                     30  \n",
       "...               ...             ...                    ...  \n",
       "2288             0.03            0.03                     15  \n",
       "2289             0.03            0.03                     15  \n",
       "2290             0.03            0.03                     15  \n",
       "2291             0.03            0.03                     15  \n",
       "2292             0.03            0.03                     15  \n",
       "\n",
       "[2293 rows x 16 columns]"
      ]
     },
     "execution_count": 36,
     "metadata": {},
     "output_type": "execute_result"
    }
   ],
   "source": [
    "# El data frame anterior se une con la información del plan \n",
    "final_consumo=consumo_plan.merge(megaline_plans,on='plan_name')\n",
    "final_consumo"
   ]
  },
  {
   "cell_type": "markdown",
   "metadata": {},
   "source": [
    "Calcula los ingresos mensuales por usuario "
   ]
  },
  {
   "cell_type": "code",
   "execution_count": 37,
   "metadata": {},
   "outputs": [],
   "source": [
    "#Se hace una función con las condiciones de cada plan\n",
    "def additional_cost (row):\n",
    "    monthly_pay=row['usd_monthly_pay']\n",
    "    \n",
    "    minutes_used=row['minutes_used']\n",
    "    minutes_included=row['minutes_included']\n",
    "    usd_per_minute=row['usd_per_minute']   \n",
    "    \n",
    "    mb_used=row['mb_used']\n",
    "    mb_per_month_included=row['mb_per_month_included']\n",
    "    usd_per_gb=row['usd_per_gb']\n",
    "    \n",
    "    sms_used=row['sms_used']\n",
    "    sms_included=row['messages_included']\n",
    "    usd_per_sms=row['usd_per_message']\n",
    "    \n",
    "    #Variable con el valor total que pago al mes cada usuario\n",
    "    total_pay=monthly_pay\n",
    "    \n",
    "    #Se mira si gasto más minutos de los que incluye el plan, de ser así se suma el costo adicional\n",
    "    if minutes_used>minutes_included:\n",
    "        total_pay+=(minutes_used-minutes_included)*usd_per_minute\n",
    "    else:\n",
    "        total_pay=total_pay\n",
    "        \n",
    "    #Se mira las gb que uso y son más de las incluidas se cobra el adicional por gb    \n",
    "    if mb_used>mb_per_month_included:\n",
    "        extra_gb=math.ceil((mb_used-mb_per_month_included)/1000)\n",
    "        total_pay+=extra_gb*usd_per_gb        \n",
    "    else: \n",
    "        total_pay=total_pay\n",
    "        \n",
    "    #Se mira cuantos mensajes usaron y si usaron de más se cobra el adicional por mensaje\n",
    "    if sms_used>sms_included:\n",
    "        total_pay+=(sms_used-sms_included)*usd_per_sms\n",
    "    else:\n",
    "        total_pay=total_pay\n",
    "    \n",
    "    return total_pay"
   ]
  },
  {
   "cell_type": "code",
   "execution_count": 38,
   "metadata": {},
   "outputs": [
    {
     "data": {
      "text/html": [
       "<div>\n",
       "<style scoped>\n",
       "    .dataframe tbody tr th:only-of-type {\n",
       "        vertical-align: middle;\n",
       "    }\n",
       "\n",
       "    .dataframe tbody tr th {\n",
       "        vertical-align: top;\n",
       "    }\n",
       "\n",
       "    .dataframe thead th {\n",
       "        text-align: right;\n",
       "    }\n",
       "</style>\n",
       "<table border=\"1\" class=\"dataframe\">\n",
       "  <thead>\n",
       "    <tr style=\"text-align: right;\">\n",
       "      <th></th>\n",
       "      <th>user_id</th>\n",
       "      <th>month</th>\n",
       "      <th>number_calls</th>\n",
       "      <th>minutes_used</th>\n",
       "      <th>sms_used</th>\n",
       "      <th>mb_used</th>\n",
       "      <th>plan_name</th>\n",
       "      <th>city</th>\n",
       "      <th>messages_included</th>\n",
       "      <th>mb_per_month_included</th>\n",
       "      <th>minutes_included</th>\n",
       "      <th>usd_monthly_pay</th>\n",
       "      <th>usd_per_gb</th>\n",
       "      <th>usd_per_message</th>\n",
       "      <th>usd_per_minute</th>\n",
       "      <th>gb_per_month_included</th>\n",
       "      <th>total_pay</th>\n",
       "    </tr>\n",
       "  </thead>\n",
       "  <tbody>\n",
       "    <tr>\n",
       "      <th>0</th>\n",
       "      <td>1000</td>\n",
       "      <td>12</td>\n",
       "      <td>16.0</td>\n",
       "      <td>124.0</td>\n",
       "      <td>11.0</td>\n",
       "      <td>1901.47</td>\n",
       "      <td>ultimate</td>\n",
       "      <td>Atlanta-Sandy Springs-Roswell, GA MSA</td>\n",
       "      <td>1000</td>\n",
       "      <td>30720</td>\n",
       "      <td>3000</td>\n",
       "      <td>70.0</td>\n",
       "      <td>7.0</td>\n",
       "      <td>0.01</td>\n",
       "      <td>0.01</td>\n",
       "      <td>30</td>\n",
       "      <td>70.0</td>\n",
       "    </tr>\n",
       "    <tr>\n",
       "      <th>1</th>\n",
       "      <td>1006</td>\n",
       "      <td>11</td>\n",
       "      <td>2.0</td>\n",
       "      <td>10.0</td>\n",
       "      <td>15.0</td>\n",
       "      <td>2068.37</td>\n",
       "      <td>ultimate</td>\n",
       "      <td>San Francisco-Oakland-Berkeley, CA MSA</td>\n",
       "      <td>1000</td>\n",
       "      <td>30720</td>\n",
       "      <td>3000</td>\n",
       "      <td>70.0</td>\n",
       "      <td>7.0</td>\n",
       "      <td>0.01</td>\n",
       "      <td>0.01</td>\n",
       "      <td>30</td>\n",
       "      <td>70.0</td>\n",
       "    </tr>\n",
       "    <tr>\n",
       "      <th>2</th>\n",
       "      <td>1006</td>\n",
       "      <td>12</td>\n",
       "      <td>9.0</td>\n",
       "      <td>59.0</td>\n",
       "      <td>139.0</td>\n",
       "      <td>32118.82</td>\n",
       "      <td>ultimate</td>\n",
       "      <td>San Francisco-Oakland-Berkeley, CA MSA</td>\n",
       "      <td>1000</td>\n",
       "      <td>30720</td>\n",
       "      <td>3000</td>\n",
       "      <td>70.0</td>\n",
       "      <td>7.0</td>\n",
       "      <td>0.01</td>\n",
       "      <td>0.01</td>\n",
       "      <td>30</td>\n",
       "      <td>84.0</td>\n",
       "    </tr>\n",
       "    <tr>\n",
       "      <th>3</th>\n",
       "      <td>1008</td>\n",
       "      <td>10</td>\n",
       "      <td>71.0</td>\n",
       "      <td>476.0</td>\n",
       "      <td>21.0</td>\n",
       "      <td>17106.99</td>\n",
       "      <td>ultimate</td>\n",
       "      <td>Orlando-Kissimmee-Sanford, FL MSA</td>\n",
       "      <td>1000</td>\n",
       "      <td>30720</td>\n",
       "      <td>3000</td>\n",
       "      <td>70.0</td>\n",
       "      <td>7.0</td>\n",
       "      <td>0.01</td>\n",
       "      <td>0.01</td>\n",
       "      <td>30</td>\n",
       "      <td>70.0</td>\n",
       "    </tr>\n",
       "    <tr>\n",
       "      <th>4</th>\n",
       "      <td>1008</td>\n",
       "      <td>11</td>\n",
       "      <td>63.0</td>\n",
       "      <td>446.0</td>\n",
       "      <td>37.0</td>\n",
       "      <td>23676.72</td>\n",
       "      <td>ultimate</td>\n",
       "      <td>Orlando-Kissimmee-Sanford, FL MSA</td>\n",
       "      <td>1000</td>\n",
       "      <td>30720</td>\n",
       "      <td>3000</td>\n",
       "      <td>70.0</td>\n",
       "      <td>7.0</td>\n",
       "      <td>0.01</td>\n",
       "      <td>0.01</td>\n",
       "      <td>30</td>\n",
       "      <td>70.0</td>\n",
       "    </tr>\n",
       "    <tr>\n",
       "      <th>...</th>\n",
       "      <td>...</td>\n",
       "      <td>...</td>\n",
       "      <td>...</td>\n",
       "      <td>...</td>\n",
       "      <td>...</td>\n",
       "      <td>...</td>\n",
       "      <td>...</td>\n",
       "      <td>...</td>\n",
       "      <td>...</td>\n",
       "      <td>...</td>\n",
       "      <td>...</td>\n",
       "      <td>...</td>\n",
       "      <td>...</td>\n",
       "      <td>...</td>\n",
       "      <td>...</td>\n",
       "      <td>...</td>\n",
       "      <td>...</td>\n",
       "    </tr>\n",
       "    <tr>\n",
       "      <th>2288</th>\n",
       "      <td>1498</td>\n",
       "      <td>12</td>\n",
       "      <td>39.0</td>\n",
       "      <td>339.0</td>\n",
       "      <td>0.0</td>\n",
       "      <td>23137.69</td>\n",
       "      <td>surf</td>\n",
       "      <td>New York-Newark-Jersey City, NY-NJ-PA MSA</td>\n",
       "      <td>50</td>\n",
       "      <td>15360</td>\n",
       "      <td>500</td>\n",
       "      <td>20.0</td>\n",
       "      <td>10.0</td>\n",
       "      <td>0.03</td>\n",
       "      <td>0.03</td>\n",
       "      <td>15</td>\n",
       "      <td>100.0</td>\n",
       "    </tr>\n",
       "    <tr>\n",
       "      <th>2289</th>\n",
       "      <td>1499</td>\n",
       "      <td>9</td>\n",
       "      <td>41.0</td>\n",
       "      <td>346.0</td>\n",
       "      <td>0.0</td>\n",
       "      <td>12984.76</td>\n",
       "      <td>surf</td>\n",
       "      <td>Orlando-Kissimmee-Sanford, FL MSA</td>\n",
       "      <td>50</td>\n",
       "      <td>15360</td>\n",
       "      <td>500</td>\n",
       "      <td>20.0</td>\n",
       "      <td>10.0</td>\n",
       "      <td>0.03</td>\n",
       "      <td>0.03</td>\n",
       "      <td>15</td>\n",
       "      <td>20.0</td>\n",
       "    </tr>\n",
       "    <tr>\n",
       "      <th>2290</th>\n",
       "      <td>1499</td>\n",
       "      <td>10</td>\n",
       "      <td>53.0</td>\n",
       "      <td>385.0</td>\n",
       "      <td>0.0</td>\n",
       "      <td>19492.43</td>\n",
       "      <td>surf</td>\n",
       "      <td>Orlando-Kissimmee-Sanford, FL MSA</td>\n",
       "      <td>50</td>\n",
       "      <td>15360</td>\n",
       "      <td>500</td>\n",
       "      <td>20.0</td>\n",
       "      <td>10.0</td>\n",
       "      <td>0.03</td>\n",
       "      <td>0.03</td>\n",
       "      <td>15</td>\n",
       "      <td>70.0</td>\n",
       "    </tr>\n",
       "    <tr>\n",
       "      <th>2291</th>\n",
       "      <td>1499</td>\n",
       "      <td>11</td>\n",
       "      <td>45.0</td>\n",
       "      <td>308.0</td>\n",
       "      <td>0.0</td>\n",
       "      <td>16813.83</td>\n",
       "      <td>surf</td>\n",
       "      <td>Orlando-Kissimmee-Sanford, FL MSA</td>\n",
       "      <td>50</td>\n",
       "      <td>15360</td>\n",
       "      <td>500</td>\n",
       "      <td>20.0</td>\n",
       "      <td>10.0</td>\n",
       "      <td>0.03</td>\n",
       "      <td>0.03</td>\n",
       "      <td>15</td>\n",
       "      <td>40.0</td>\n",
       "    </tr>\n",
       "    <tr>\n",
       "      <th>2292</th>\n",
       "      <td>1499</td>\n",
       "      <td>12</td>\n",
       "      <td>65.0</td>\n",
       "      <td>496.0</td>\n",
       "      <td>0.0</td>\n",
       "      <td>22059.21</td>\n",
       "      <td>surf</td>\n",
       "      <td>Orlando-Kissimmee-Sanford, FL MSA</td>\n",
       "      <td>50</td>\n",
       "      <td>15360</td>\n",
       "      <td>500</td>\n",
       "      <td>20.0</td>\n",
       "      <td>10.0</td>\n",
       "      <td>0.03</td>\n",
       "      <td>0.03</td>\n",
       "      <td>15</td>\n",
       "      <td>90.0</td>\n",
       "    </tr>\n",
       "  </tbody>\n",
       "</table>\n",
       "<p>2293 rows × 17 columns</p>\n",
       "</div>"
      ],
      "text/plain": [
       "      user_id  month  number_calls  minutes_used  sms_used   mb_used  \\\n",
       "0        1000     12          16.0         124.0      11.0   1901.47   \n",
       "1        1006     11           2.0          10.0      15.0   2068.37   \n",
       "2        1006     12           9.0          59.0     139.0  32118.82   \n",
       "3        1008     10          71.0         476.0      21.0  17106.99   \n",
       "4        1008     11          63.0         446.0      37.0  23676.72   \n",
       "...       ...    ...           ...           ...       ...       ...   \n",
       "2288     1498     12          39.0         339.0       0.0  23137.69   \n",
       "2289     1499      9          41.0         346.0       0.0  12984.76   \n",
       "2290     1499     10          53.0         385.0       0.0  19492.43   \n",
       "2291     1499     11          45.0         308.0       0.0  16813.83   \n",
       "2292     1499     12          65.0         496.0       0.0  22059.21   \n",
       "\n",
       "     plan_name                                       city  messages_included  \\\n",
       "0     ultimate      Atlanta-Sandy Springs-Roswell, GA MSA               1000   \n",
       "1     ultimate     San Francisco-Oakland-Berkeley, CA MSA               1000   \n",
       "2     ultimate     San Francisco-Oakland-Berkeley, CA MSA               1000   \n",
       "3     ultimate          Orlando-Kissimmee-Sanford, FL MSA               1000   \n",
       "4     ultimate          Orlando-Kissimmee-Sanford, FL MSA               1000   \n",
       "...        ...                                        ...                ...   \n",
       "2288      surf  New York-Newark-Jersey City, NY-NJ-PA MSA                 50   \n",
       "2289      surf          Orlando-Kissimmee-Sanford, FL MSA                 50   \n",
       "2290      surf          Orlando-Kissimmee-Sanford, FL MSA                 50   \n",
       "2291      surf          Orlando-Kissimmee-Sanford, FL MSA                 50   \n",
       "2292      surf          Orlando-Kissimmee-Sanford, FL MSA                 50   \n",
       "\n",
       "      mb_per_month_included  minutes_included  usd_monthly_pay  usd_per_gb  \\\n",
       "0                     30720              3000             70.0         7.0   \n",
       "1                     30720              3000             70.0         7.0   \n",
       "2                     30720              3000             70.0         7.0   \n",
       "3                     30720              3000             70.0         7.0   \n",
       "4                     30720              3000             70.0         7.0   \n",
       "...                     ...               ...              ...         ...   \n",
       "2288                  15360               500             20.0        10.0   \n",
       "2289                  15360               500             20.0        10.0   \n",
       "2290                  15360               500             20.0        10.0   \n",
       "2291                  15360               500             20.0        10.0   \n",
       "2292                  15360               500             20.0        10.0   \n",
       "\n",
       "      usd_per_message  usd_per_minute  gb_per_month_included  total_pay  \n",
       "0                0.01            0.01                     30       70.0  \n",
       "1                0.01            0.01                     30       70.0  \n",
       "2                0.01            0.01                     30       84.0  \n",
       "3                0.01            0.01                     30       70.0  \n",
       "4                0.01            0.01                     30       70.0  \n",
       "...               ...             ...                    ...        ...  \n",
       "2288             0.03            0.03                     15      100.0  \n",
       "2289             0.03            0.03                     15       20.0  \n",
       "2290             0.03            0.03                     15       70.0  \n",
       "2291             0.03            0.03                     15       40.0  \n",
       "2292             0.03            0.03                     15       90.0  \n",
       "\n",
       "[2293 rows x 17 columns]"
      ]
     },
     "execution_count": 38,
     "metadata": {},
     "output_type": "execute_result"
    }
   ],
   "source": [
    "#Se usa la función y se adiciona una columan con el total pagado por mes para cada usuario\n",
    "final_consumo['total_pay'] = final_consumo.apply(additional_cost, axis=1)\n",
    "final_consumo"
   ]
  },
  {
   "cell_type": "markdown",
   "metadata": {
    "id": "-jtyHzJb0q1I"
   },
   "source": [
    "## Estudia el comportamiento de usuario"
   ]
  },
  {
   "cell_type": "markdown",
   "metadata": {
    "id": "vtW4CJEe0q1J"
   },
   "source": [
    "### Llamadas"
   ]
  },
  {
   "cell_type": "code",
   "execution_count": 39,
   "metadata": {
    "id": "Jf5v5--k0q1J"
   },
   "outputs": [
    {
     "data": {
      "text/html": [
       "<div>\n",
       "<style scoped>\n",
       "    .dataframe tbody tr th:only-of-type {\n",
       "        vertical-align: middle;\n",
       "    }\n",
       "\n",
       "    .dataframe tbody tr th {\n",
       "        vertical-align: top;\n",
       "    }\n",
       "\n",
       "    .dataframe thead th {\n",
       "        text-align: right;\n",
       "    }\n",
       "</style>\n",
       "<table border=\"1\" class=\"dataframe\">\n",
       "  <thead>\n",
       "    <tr style=\"text-align: right;\">\n",
       "      <th></th>\n",
       "      <th>month</th>\n",
       "      <th>ultimate</th>\n",
       "      <th>surf</th>\n",
       "    </tr>\n",
       "  </thead>\n",
       "  <tbody>\n",
       "    <tr>\n",
       "      <th>0</th>\n",
       "      <td>1</td>\n",
       "      <td>193.500000</td>\n",
       "      <td>203.000000</td>\n",
       "    </tr>\n",
       "    <tr>\n",
       "      <th>1</th>\n",
       "      <td>2</td>\n",
       "      <td>403.142857</td>\n",
       "      <td>297.000000</td>\n",
       "    </tr>\n",
       "    <tr>\n",
       "      <th>2</th>\n",
       "      <td>3</td>\n",
       "      <td>304.250000</td>\n",
       "      <td>330.000000</td>\n",
       "    </tr>\n",
       "    <tr>\n",
       "      <th>3</th>\n",
       "      <td>4</td>\n",
       "      <td>336.857143</td>\n",
       "      <td>351.540000</td>\n",
       "    </tr>\n",
       "    <tr>\n",
       "      <th>4</th>\n",
       "      <td>5</td>\n",
       "      <td>406.241379</td>\n",
       "      <td>399.584416</td>\n",
       "    </tr>\n",
       "    <tr>\n",
       "      <th>5</th>\n",
       "      <td>6</td>\n",
       "      <td>370.957447</td>\n",
       "      <td>431.298969</td>\n",
       "    </tr>\n",
       "    <tr>\n",
       "      <th>6</th>\n",
       "      <td>7</td>\n",
       "      <td>427.067797</td>\n",
       "      <td>449.983471</td>\n",
       "    </tr>\n",
       "    <tr>\n",
       "      <th>7</th>\n",
       "      <td>8</td>\n",
       "      <td>421.436620</td>\n",
       "      <td>410.111111</td>\n",
       "    </tr>\n",
       "    <tr>\n",
       "      <th>8</th>\n",
       "      <td>9</td>\n",
       "      <td>437.511628</td>\n",
       "      <td>414.226804</td>\n",
       "    </tr>\n",
       "    <tr>\n",
       "      <th>9</th>\n",
       "      <td>10</td>\n",
       "      <td>450.735849</td>\n",
       "      <td>429.729958</td>\n",
       "    </tr>\n",
       "    <tr>\n",
       "      <th>10</th>\n",
       "      <td>11</td>\n",
       "      <td>445.196850</td>\n",
       "      <td>423.325088</td>\n",
       "    </tr>\n",
       "    <tr>\n",
       "      <th>11</th>\n",
       "      <td>12</td>\n",
       "      <td>459.099338</td>\n",
       "      <td>473.836478</td>\n",
       "    </tr>\n",
       "  </tbody>\n",
       "</table>\n",
       "</div>"
      ],
      "text/plain": [
       "    month    ultimate        surf\n",
       "0       1  193.500000  203.000000\n",
       "1       2  403.142857  297.000000\n",
       "2       3  304.250000  330.000000\n",
       "3       4  336.857143  351.540000\n",
       "4       5  406.241379  399.584416\n",
       "5       6  370.957447  431.298969\n",
       "6       7  427.067797  449.983471\n",
       "7       8  421.436620  410.111111\n",
       "8       9  437.511628  414.226804\n",
       "9      10  450.735849  429.729958\n",
       "10     11  445.196850  423.325088\n",
       "11     12  459.099338  473.836478"
      ]
     },
     "execution_count": 39,
     "metadata": {},
     "output_type": "execute_result"
    }
   ],
   "source": [
    "# Compara la duración promedio de llamadas por cada plan y por cada mes. Traza un gráfico de barras para visualizarla.\n",
    "\n",
    "##Del archivo completo obtengo la duración promedio de la llamadas para cada mes para el plan ultimate\n",
    "#Filtra el archivo final_consumo por los que tengan plan ultimate\n",
    "ultimate_call_duration=final_consumo[final_consumo['plan_name']=='ultimate'][['month','minutes_used']]\n",
    "#De este filtro los agrupo por mes y obtengo la media de los minutos usados \n",
    "ultimate_call_duration_mean=ultimate_call_duration.groupby(['month'])['minutes_used'].mean()\n",
    "\n",
    "##Del archivo completo obtengo la duración promedio de la llamadas para cada mes para el plan surf\n",
    "#Filtra el archivo final_consumo por los que tengan plan surf\n",
    "surf_call_duration=final_consumo[final_consumo['plan_name']=='surf'][['month','minutes_used']]\n",
    "#De este filtro los agrupo por mes y obtengo la media de los minutos usados para este plan\n",
    "surf_call_duration_mean=surf_call_duration.groupby(['month'])['minutes_used'].mean()\n",
    "\n",
    "#Se crea un nuevo dataframe con los datos de la duración promedio de llamada por mes para cada plan \n",
    "surf_ultimate_calls=pd.concat([ultimate_call_duration_mean,surf_call_duration_mean],axis=1).reset_index()\n",
    "surf_ultimate_calls.columns=['month','ultimate','surf']\n",
    "surf_ultimate_calls"
   ]
  },
  {
   "cell_type": "code",
   "execution_count": 40,
   "metadata": {},
   "outputs": [
    {
     "data": {
      "image/png": "[encoded data removed]",
      "text/plain": [
       "<Figure size 640x480 with 1 Axes>"
      ]
     },
     "metadata": {},
     "output_type": "display_data"
    }
   ],
   "source": [
    "#Se crea un gráfico de barras para compara la duración promedio de llamadas por cada plan y por cada mes.\n",
    "surf_ultimate_calls.plot(x='month',kind='bar', title='Duración promedio de llamadas por mes para cada plan',xlabel='Mes', ylabel='Duración promedio de llamadas')\n",
    "plt.legend(['ultimate','surf'])\n",
    "plt.show()"
   ]
  },
  {
   "cell_type": "code",
   "execution_count": 41,
   "metadata": {
    "id": "QoLqW1S_0q1J"
   },
   "outputs": [
    {
     "data": {
      "image/png": "[encoded data removed]",
      "text/plain": [
       "<Figure size 640x480 with 1 Axes>"
      ]
     },
     "metadata": {},
     "output_type": "display_data"
    }
   ],
   "source": [
    "# Compara el número de minutos mensuales que necesitan los usuarios de cada plan. Traza un histograma.\n",
    "\n",
    "final_consumo[final_consumo['plan_name']=='ultimate']['minutes_used'].plot(kind='hist')\n",
    "final_consumo[final_consumo['plan_name']=='surf']['minutes_used'].plot(kind='hist',alpha=0.3)\n",
    "plt.legend(['ultimate','surf'])\n",
    "plt.title('Minutos mensuales usados por plan')\n",
    "plt.xlabel('Cantidad de minutos usados')\n",
    "plt.show()"
   ]
  },
  {
   "cell_type": "code",
   "execution_count": 42,
   "metadata": {
    "id": "oSndbAnt0q1K"
   },
   "outputs": [
    {
     "name": "stdout",
     "output_type": "stream",
     "text": [
      "la media de la duración de llamadas para el plan surf es:384.4696912581946\n",
      "la varianza de la duración de llamadas para el plan surf es:5369.551951906404\n"
     ]
    }
   ],
   "source": [
    "# Calcula la media y la varianza de la duración mensual de llamadas para el plan surf\n",
    "\n",
    "surf_calls_mean=surf_ultimate_calls['surf'].mean()\n",
    "surf_calls_varianza=np.var(surf_ultimate_calls['surf'])\n",
    "print (f'la media de la duración de llamadas para el plan surf es:{surf_calls_mean}')\n",
    "print (f'la varianza de la duración de llamadas para el plan surf es:{surf_calls_varianza}')"
   ]
  },
  {
   "cell_type": "code",
   "execution_count": 43,
   "metadata": {},
   "outputs": [
    {
     "name": "stdout",
     "output_type": "stream",
     "text": [
      "la media de la duración de llamadas para el plan surf es:387.99974229608006\n",
      "la varianza de la duración de llamadas para el plan surf es:5472.540903753354\n"
     ]
    }
   ],
   "source": [
    "# Calcula la media y la varianza de la duración mensual de llamadas para el plan ultimate\n",
    "ultimate_calls_mean=surf_ultimate_calls['ultimate'].mean()\n",
    "ultimate_calls_varianza=np.var(surf_ultimate_calls['ultimate'])\n",
    "print (f'la media de la duración de llamadas para el plan surf es:{ultimate_calls_mean}')\n",
    "print (f'la varianza de la duración de llamadas para el plan surf es:{ultimate_calls_varianza}')"
   ]
  },
  {
   "cell_type": "code",
   "execution_count": 44,
   "metadata": {
    "id": "nZzoRUKc0q1K"
   },
   "outputs": [
    {
     "data": {
      "text/plain": [
       "<AxesSubplot:xlabel='surf'>"
      ]
     },
     "execution_count": 44,
     "metadata": {},
     "output_type": "execute_result"
    },
    {
     "data": {
      "image/png": "[encoded data removed]",
      "text/plain": [
       "<Figure size 640x480 with 1 Axes>"
      ]
     },
     "metadata": {},
     "output_type": "display_data"
    }
   ],
   "source": [
    "# Traza un diagrama de caja para visualizar la distribución de la duración mensual de llamadas para plan surf\n",
    "sns.boxplot(surf_ultimate_calls['surf'])\n"
   ]
  },
  {
   "cell_type": "code",
   "execution_count": 45,
   "metadata": {},
   "outputs": [
    {
     "data": {
      "text/plain": [
       "<AxesSubplot:xlabel='ultimate'>"
      ]
     },
     "execution_count": 45,
     "metadata": {},
     "output_type": "execute_result"
    },
    {
     "data": {
      "image/png": "[encoded data removed]",
      "text/plain": [
       "<Figure size 640x480 with 1 Axes>"
      ]
     },
     "metadata": {},
     "output_type": "display_data"
    }
   ],
   "source": [
    "# Traza un diagrama de caja para visualizar la distribución de la duración mensual de llamadas para plan ultimate\n",
    "sns.boxplot(surf_ultimate_calls['ultimate'])"
   ]
  },
  {
   "cell_type": "markdown",
   "metadata": {},
   "source": [
    "#### Conclusiones\n",
    "El comportamiento de los usuarios respecto a el uso de minutos no varia mucho en función del plan que cada uno tiene. La media de los minutos usados en llamandas es muy similar en los dos planes. Para el plan surf es aproximadamente 384 y para el plan ultimate es de 387, la diferencia es muy mínima. De los diagramas se puede ver que realmente los usuarios no gastan más minutos de los que tienen en el plan. "
   ]
  },
  {
   "cell_type": "markdown",
   "metadata": {
    "id": "8idKy8Wh0q1L"
   },
   "source": [
    "### Mensajes"
   ]
  },
  {
   "cell_type": "code",
   "execution_count": 46,
   "metadata": {
    "id": "NXLxiTit0q1L"
   },
   "outputs": [
    {
     "data": {
      "text/html": [
       "<div>\n",
       "<style scoped>\n",
       "    .dataframe tbody tr th:only-of-type {\n",
       "        vertical-align: middle;\n",
       "    }\n",
       "\n",
       "    .dataframe tbody tr th {\n",
       "        vertical-align: top;\n",
       "    }\n",
       "\n",
       "    .dataframe thead th {\n",
       "        text-align: right;\n",
       "    }\n",
       "</style>\n",
       "<table border=\"1\" class=\"dataframe\">\n",
       "  <thead>\n",
       "    <tr style=\"text-align: right;\">\n",
       "      <th></th>\n",
       "      <th>month</th>\n",
       "      <th>ultimate</th>\n",
       "      <th>surf</th>\n",
       "    </tr>\n",
       "  </thead>\n",
       "  <tbody>\n",
       "    <tr>\n",
       "      <th>0</th>\n",
       "      <td>1</td>\n",
       "      <td>15.500000</td>\n",
       "      <td>10.500000</td>\n",
       "    </tr>\n",
       "    <tr>\n",
       "      <th>1</th>\n",
       "      <td>2</td>\n",
       "      <td>21.571429</td>\n",
       "      <td>12.000000</td>\n",
       "    </tr>\n",
       "    <tr>\n",
       "      <th>2</th>\n",
       "      <td>3</td>\n",
       "      <td>20.250000</td>\n",
       "      <td>15.260870</td>\n",
       "    </tr>\n",
       "    <tr>\n",
       "      <th>3</th>\n",
       "      <td>4</td>\n",
       "      <td>22.047619</td>\n",
       "      <td>17.400000</td>\n",
       "    </tr>\n",
       "    <tr>\n",
       "      <th>4</th>\n",
       "      <td>5</td>\n",
       "      <td>32.103448</td>\n",
       "      <td>24.012987</td>\n",
       "    </tr>\n",
       "    <tr>\n",
       "      <th>5</th>\n",
       "      <td>6</td>\n",
       "      <td>29.340426</td>\n",
       "      <td>25.298969</td>\n",
       "    </tr>\n",
       "    <tr>\n",
       "      <th>6</th>\n",
       "      <td>7</td>\n",
       "      <td>32.830508</td>\n",
       "      <td>27.033058</td>\n",
       "    </tr>\n",
       "    <tr>\n",
       "      <th>7</th>\n",
       "      <td>8</td>\n",
       "      <td>38.478873</td>\n",
       "      <td>28.777778</td>\n",
       "    </tr>\n",
       "    <tr>\n",
       "      <th>8</th>\n",
       "      <td>9</td>\n",
       "      <td>37.895349</td>\n",
       "      <td>30.762887</td>\n",
       "    </tr>\n",
       "    <tr>\n",
       "      <th>9</th>\n",
       "      <td>10</td>\n",
       "      <td>39.443396</td>\n",
       "      <td>33.839662</td>\n",
       "    </tr>\n",
       "    <tr>\n",
       "      <th>10</th>\n",
       "      <td>11</td>\n",
       "      <td>38.606299</td>\n",
       "      <td>32.385159</td>\n",
       "    </tr>\n",
       "    <tr>\n",
       "      <th>11</th>\n",
       "      <td>12</td>\n",
       "      <td>45.006623</td>\n",
       "      <td>38.600629</td>\n",
       "    </tr>\n",
       "  </tbody>\n",
       "</table>\n",
       "</div>"
      ],
      "text/plain": [
       "    month   ultimate       surf\n",
       "0       1  15.500000  10.500000\n",
       "1       2  21.571429  12.000000\n",
       "2       3  20.250000  15.260870\n",
       "3       4  22.047619  17.400000\n",
       "4       5  32.103448  24.012987\n",
       "5       6  29.340426  25.298969\n",
       "6       7  32.830508  27.033058\n",
       "7       8  38.478873  28.777778\n",
       "8       9  37.895349  30.762887\n",
       "9      10  39.443396  33.839662\n",
       "10     11  38.606299  32.385159\n",
       "11     12  45.006623  38.600629"
      ]
     },
     "execution_count": 46,
     "metadata": {},
     "output_type": "execute_result"
    }
   ],
   "source": [
    "# Comprara el número de mensajes que tienden a enviar cada mes los usuarios de cada plan\n",
    "\n",
    "##Del archivo completo obtengo los mensajes promedio para cada mes para el plan ultimate\n",
    "#Filtra el archivo final_consumo por los que tengan plan ultimate\n",
    "ultimate_sms=final_consumo[final_consumo['plan_name']=='ultimate'][['month','sms_used']]\n",
    "#De este filtro los agrupo por mes y obtengo la media de los mensajes enviados\n",
    "ultimate_sms_mean=ultimate_sms.groupby(['month'])['sms_used'].mean()\n",
    "\n",
    "##Del archivo completo obtengo los mensajes promedio para cada mes para el plan surf\n",
    "#Filtra el archivo final_consumo por los que tengan plan surf\n",
    "surf_sms=final_consumo[final_consumo['plan_name']=='surf'][['month','sms_used']]\n",
    "#De este filtro los agrupo por mes y obtengo la media de los mensajes usados para este plan\n",
    "surf_sms_mean=surf_sms.groupby(['month'])['sms_used'].mean()\n",
    "\n",
    "#Se crea un nuevo dataframe con los datos del promdeio de los mensajes usados por mes para cada plan \n",
    "surf_ultimate_sms=pd.concat([ultimate_sms_mean,surf_sms_mean],axis=1).reset_index()\n",
    "surf_ultimate_sms.columns=['month','ultimate','surf']\n",
    "surf_ultimate_sms"
   ]
  },
  {
   "cell_type": "code",
   "execution_count": 47,
   "metadata": {},
   "outputs": [
    {
     "data": {
      "image/png": "[encoded data removed]",
      "text/plain": [
       "<Figure size 640x480 with 1 Axes>"
      ]
     },
     "metadata": {},
     "output_type": "display_data"
    }
   ],
   "source": [
    "#Se crea un gráfico de barras para compara los mensajes usados por cada plan y por cada mes.\n",
    "surf_ultimate_sms.plot(x='month',kind='bar', title='Mensajes usados por mes para cada plan',xlabel='Mes', ylabel='Promedio mensajes usados')\n",
    "plt.legend(['ultimate','surf'])\n",
    "plt.show()"
   ]
  },
  {
   "cell_type": "code",
   "execution_count": 48,
   "metadata": {
    "id": "GRI_R7xF0q1L"
   },
   "outputs": [
    {
     "data": {
      "image/png": "[encoded data removed]",
      "text/plain": [
       "<Figure size 640x480 with 1 Axes>"
      ]
     },
     "metadata": {},
     "output_type": "display_data"
    }
   ],
   "source": [
    "# Compara la cantidad de mensajes usados por usuarios por plan\n",
    "\n",
    "final_consumo[final_consumo['plan_name']=='ultimate']['sms_used'].plot(kind='hist')\n",
    "final_consumo[final_consumo['plan_name']=='surf']['sms_used'].plot(kind='hist',alpha=0.3)\n",
    "plt.legend(['ultimate','surf'])\n",
    "plt.title('Mensajes usados mensualmente por plan')\n",
    "plt.xlabel('Cantidad de mensajes usados')\n",
    "plt.show()"
   ]
  },
  {
   "cell_type": "code",
   "execution_count": 49,
   "metadata": {
    "id": "dtFwCGAp0q1M"
   },
   "outputs": [
    {
     "name": "stdout",
     "output_type": "stream",
     "text": [
      "la media de los mensajes usados para el plan surf es:24.655999855500053\n",
      "la varianza de los mensajes usados para el plan surf es:75.06477581565973\n"
     ]
    }
   ],
   "source": [
    "# Calcula la media y la varianza de los mensajes usados mensualmente para el plan surf\n",
    "\n",
    "surf_sms_mean=surf_ultimate_sms['surf'].mean()\n",
    "surf_sms_varianza=np.var(surf_ultimate_sms['surf'])\n",
    "print (f'la media de los mensajes usados para el plan surf es:{surf_sms_mean}')\n",
    "print (f'la varianza de los mensajes usados para el plan surf es:{surf_sms_varianza}')"
   ]
  },
  {
   "cell_type": "code",
   "execution_count": 50,
   "metadata": {},
   "outputs": [
    {
     "name": "stdout",
     "output_type": "stream",
     "text": [
      "la media de los mensajes usados para el plan ultimate es:31.08949749446805\n",
      "la varianza de los mensajes usados para el plan ultimate es:80.07446628813626\n"
     ]
    }
   ],
   "source": [
    "# Calcula la media y la varianza de de los mensajes usados mensualmente para el plan ultimate\n",
    "\n",
    "ultimate_sms_mean=surf_ultimate_sms['ultimate'].mean()\n",
    "ultimate_sms_varianza=np.var(surf_ultimate_sms['ultimate'])\n",
    "print (f'la media de los mensajes usados para el plan ultimate es:{ultimate_sms_mean}')\n",
    "print (f'la varianza de los mensajes usados para el plan ultimate es:{ultimate_sms_varianza}')"
   ]
  },
  {
   "cell_type": "code",
   "execution_count": 51,
   "metadata": {},
   "outputs": [
    {
     "data": {
      "text/plain": [
       "<AxesSubplot:xlabel='surf'>"
      ]
     },
     "execution_count": 51,
     "metadata": {},
     "output_type": "execute_result"
    },
    {
     "data": {
      "image/png": "[encoded data removed]",
      "text/plain": [
       "<Figure size 640x480 with 1 Axes>"
      ]
     },
     "metadata": {},
     "output_type": "display_data"
    }
   ],
   "source": [
    "# Traza un diagrama de caja para visualizar la distribución de los mensajes usados mensualmente para plan surf\n",
    "sns.boxplot(surf_ultimate_sms['surf'])"
   ]
  },
  {
   "cell_type": "code",
   "execution_count": 52,
   "metadata": {},
   "outputs": [
    {
     "data": {
      "text/plain": [
       "<AxesSubplot:xlabel='ultimate'>"
      ]
     },
     "execution_count": 52,
     "metadata": {},
     "output_type": "execute_result"
    },
    {
     "data": {
      "image/png": "[encoded data removed]",
      "text/plain": [
       "<Figure size 640x480 with 1 Axes>"
      ]
     },
     "metadata": {},
     "output_type": "display_data"
    }
   ],
   "source": [
    "# Traza un diagrama de caja para visualizar la distribución de los mensajes usados mensualmente para plan surf\n",
    "sns.boxplot(surf_ultimate_sms['ultimate'])"
   ]
  },
  {
   "cell_type": "markdown",
   "metadata": {},
   "source": [
    "#### Conclusiones\n",
    "En el caso de el uso de los mensajes si se vio que vario la cantidad de mensajes usados en función del plan, en promedio los que tenían el plan ultimate usaron más que los que tenían el plan surf. También se puede observar que no hay usuarios que hayan gastado más de los mensajes que tenían incluidos en su plan."
   ]
  },
  {
   "cell_type": "markdown",
   "metadata": {
    "id": "42YSypXz0q1M"
   },
   "source": [
    "### Internet"
   ]
  },
  {
   "cell_type": "code",
   "execution_count": 53,
   "metadata": {
    "id": "lSuKPtjh0q1M"
   },
   "outputs": [
    {
     "data": {
      "text/html": [
       "<div>\n",
       "<style scoped>\n",
       "    .dataframe tbody tr th:only-of-type {\n",
       "        vertical-align: middle;\n",
       "    }\n",
       "\n",
       "    .dataframe tbody tr th {\n",
       "        vertical-align: top;\n",
       "    }\n",
       "\n",
       "    .dataframe thead th {\n",
       "        text-align: right;\n",
       "    }\n",
       "</style>\n",
       "<table border=\"1\" class=\"dataframe\">\n",
       "  <thead>\n",
       "    <tr style=\"text-align: right;\">\n",
       "      <th></th>\n",
       "      <th>month</th>\n",
       "      <th>ultimate</th>\n",
       "      <th>surf</th>\n",
       "    </tr>\n",
       "  </thead>\n",
       "  <tbody>\n",
       "    <tr>\n",
       "      <th>0</th>\n",
       "      <td>1</td>\n",
       "      <td>6918.092500</td>\n",
       "      <td>4874.860000</td>\n",
       "    </tr>\n",
       "    <tr>\n",
       "      <th>1</th>\n",
       "      <td>2</td>\n",
       "      <td>17128.808571</td>\n",
       "      <td>12178.843333</td>\n",
       "    </tr>\n",
       "    <tr>\n",
       "      <th>2</th>\n",
       "      <td>3</td>\n",
       "      <td>18321.518333</td>\n",
       "      <td>13345.440000</td>\n",
       "    </tr>\n",
       "    <tr>\n",
       "      <th>3</th>\n",
       "      <td>4</td>\n",
       "      <td>16121.654762</td>\n",
       "      <td>11984.203000</td>\n",
       "    </tr>\n",
       "    <tr>\n",
       "      <th>4</th>\n",
       "      <td>5</td>\n",
       "      <td>16624.482414</td>\n",
       "      <td>13936.354935</td>\n",
       "    </tr>\n",
       "    <tr>\n",
       "      <th>5</th>\n",
       "      <td>6</td>\n",
       "      <td>15337.921064</td>\n",
       "      <td>15301.529175</td>\n",
       "    </tr>\n",
       "    <tr>\n",
       "      <th>6</th>\n",
       "      <td>7</td>\n",
       "      <td>16344.744407</td>\n",
       "      <td>16783.600579</td>\n",
       "    </tr>\n",
       "    <tr>\n",
       "      <th>7</th>\n",
       "      <td>8</td>\n",
       "      <td>17814.720141</td>\n",
       "      <td>16795.331358</td>\n",
       "    </tr>\n",
       "    <tr>\n",
       "      <th>8</th>\n",
       "      <td>9</td>\n",
       "      <td>16969.869535</td>\n",
       "      <td>16591.431289</td>\n",
       "    </tr>\n",
       "    <tr>\n",
       "      <th>9</th>\n",
       "      <td>10</td>\n",
       "      <td>17612.553396</td>\n",
       "      <td>17311.335063</td>\n",
       "    </tr>\n",
       "    <tr>\n",
       "      <th>10</th>\n",
       "      <td>11</td>\n",
       "      <td>17033.685354</td>\n",
       "      <td>16339.254417</td>\n",
       "    </tr>\n",
       "    <tr>\n",
       "      <th>11</th>\n",
       "      <td>12</td>\n",
       "      <td>18323.191854</td>\n",
       "      <td>18132.469371</td>\n",
       "    </tr>\n",
       "  </tbody>\n",
       "</table>\n",
       "</div>"
      ],
      "text/plain": [
       "    month      ultimate          surf\n",
       "0       1   6918.092500   4874.860000\n",
       "1       2  17128.808571  12178.843333\n",
       "2       3  18321.518333  13345.440000\n",
       "3       4  16121.654762  11984.203000\n",
       "4       5  16624.482414  13936.354935\n",
       "5       6  15337.921064  15301.529175\n",
       "6       7  16344.744407  16783.600579\n",
       "7       8  17814.720141  16795.331358\n",
       "8       9  16969.869535  16591.431289\n",
       "9      10  17612.553396  17311.335063\n",
       "10     11  17033.685354  16339.254417\n",
       "11     12  18323.191854  18132.469371"
      ]
     },
     "execution_count": 53,
     "metadata": {},
     "output_type": "execute_result"
    }
   ],
   "source": [
    "# Comprara la cantida de mb que tienden a usar cada mes los usuarios de cada plan\n",
    "\n",
    "#Filtra el archivo final_consumo por los que tengan plan ultimate\n",
    "ultimate_mb=final_consumo[final_consumo['plan_name']=='ultimate'][['month','mb_used']]\n",
    "#De este filtro los agrupo por mes y obtengo la media de los mb usados\n",
    "ultimate_mb_mean=ultimate_mb.groupby(['month'])['mb_used'].mean()\n",
    "\n",
    "\n",
    "#Filtra el archivo final_consumo por los que tengan plan surf\n",
    "surf_mb=final_consumo[final_consumo['plan_name']=='surf'][['month','mb_used']]\n",
    "#De este filtro los agrupo por mes y obtengo la media los mb usados para este plan\n",
    "surf_mb_mean=surf_mb.groupby(['month'])['mb_used'].mean()\n",
    "\n",
    "#Se crea un nuevo dataframe con los datos de los mb usados por mes para cada plan \n",
    "surf_ultimate_mb=pd.concat([ultimate_mb_mean,surf_mb_mean],axis=1).reset_index()\n",
    "surf_ultimate_mb.columns=['month','ultimate','surf']\n",
    "surf_ultimate_mb"
   ]
  },
  {
   "cell_type": "code",
   "execution_count": 54,
   "metadata": {
    "id": "wnh8jYXi0q1N"
   },
   "outputs": [
    {
     "data": {
      "image/png": "[encoded data removed]",
      "text/plain": [
       "<Figure size 640x480 with 1 Axes>"
      ]
     },
     "metadata": {},
     "output_type": "display_data"
    }
   ],
   "source": [
    "#Se crea un gráfico de barras para compara los mb usados por cada plan y por cada mes.\n",
    "surf_ultimate_mb.plot(x='month',kind='bar', title='mb usados por mes para cada plan',xlabel='Mes', ylabel='Promedio de mb usados')\n",
    "plt.legend(['ultimate','surf'])\n",
    "plt.show()"
   ]
  },
  {
   "cell_type": "code",
   "execution_count": 55,
   "metadata": {
    "id": "5VlyJ9ry0q1N"
   },
   "outputs": [
    {
     "data": {
      "image/png": "[encoded data removed]",
      "text/plain": [
       "<Figure size 640x480 with 1 Axes>"
      ]
     },
     "metadata": {},
     "output_type": "display_data"
    }
   ],
   "source": [
    "# Compara la cantidad de tráfico de Internet consumido por usuarios por plan\n",
    "\n",
    "final_consumo[final_consumo['plan_name']=='ultimate']['mb_used'].plot(kind='hist', bins=10)\n",
    "final_consumo[final_consumo['plan_name']=='surf']['mb_used'].plot(kind='hist',alpha=0.3, bins=10)\n",
    "plt.legend(['ultimate','surf'])\n",
    "plt.title('mb usados mensualmente por plan')\n",
    "plt.xlabel('Cantidad de mb usados')\n",
    "plt.show()"
   ]
  },
  {
   "cell_type": "code",
   "execution_count": 56,
   "metadata": {},
   "outputs": [
    {
     "name": "stdout",
     "output_type": "stream",
     "text": [
      "la media de mb usados para el plan surf es:14464.554376681192\n",
      "la varianza de los mb usados para el plan surf es:12164763.13014511\n"
     ]
    }
   ],
   "source": [
    "# Calcula la media y la varianza de los mb usados mensualmente para el plan surf\n",
    "\n",
    "surf_mb_mean=surf_ultimate_mb['surf'].mean()\n",
    "surf_mb_varianza=np.var(surf_ultimate_mb['surf'])\n",
    "print (f'la media de mb usados para el plan surf es:{surf_mb_mean}')\n",
    "print (f'la varianza de los mb usados para el plan surf es:{surf_mb_varianza}')"
   ]
  },
  {
   "cell_type": "code",
   "execution_count": 57,
   "metadata": {},
   "outputs": [
    {
     "name": "stdout",
     "output_type": "stream",
     "text": [
      "la media de mb usados para el plan ultimate es:16212.603527638312\n",
      "la varianza de los mb usados para el plan ultimate es:8572015.219625546\n"
     ]
    }
   ],
   "source": [
    "# Calcula la media y la varianza de los mb usados mensualmente para el plan ultimate\n",
    "\n",
    "ultimate_mb_mean=surf_ultimate_mb['ultimate'].mean()\n",
    "ultimate_mb_varianza=np.var(surf_ultimate_mb['ultimate'])\n",
    "print (f'la media de mb usados para el plan ultimate es:{ultimate_mb_mean}')\n",
    "print (f'la varianza de los mb usados para el plan ultimate es:{ultimate_mb_varianza}')"
   ]
  },
  {
   "cell_type": "code",
   "execution_count": 58,
   "metadata": {},
   "outputs": [
    {
     "data": {
      "text/plain": [
       "<AxesSubplot:xlabel='surf'>"
      ]
     },
     "execution_count": 58,
     "metadata": {},
     "output_type": "execute_result"
    },
    {
     "data": {
      "image/png": "[encoded data removed]",
      "text/plain": [
       "<Figure size 640x480 with 1 Axes>"
      ]
     },
     "metadata": {},
     "output_type": "display_data"
    }
   ],
   "source": [
    "# Traza un diagrama de caja para visualizar la distribución de mb usados mensualmente para plan surf\n",
    "sns.boxplot(surf_ultimate_mb['surf'])"
   ]
  },
  {
   "cell_type": "code",
   "execution_count": 59,
   "metadata": {},
   "outputs": [
    {
     "data": {
      "text/plain": [
       "<AxesSubplot:xlabel='ultimate'>"
      ]
     },
     "execution_count": 59,
     "metadata": {},
     "output_type": "execute_result"
    },
    {
     "data": {
      "image/png": "[encoded data removed]",
      "text/plain": [
       "<Figure size 640x480 with 1 Axes>"
      ]
     },
     "metadata": {},
     "output_type": "display_data"
    }
   ],
   "source": [
    "# Traza un diagrama de caja para visualizar la distribución de mb usados mensualmente para plan ultimate\n",
    "sns.boxplot(surf_ultimate_mb['ultimate'])"
   ]
  },
  {
   "cell_type": "markdown",
   "metadata": {},
   "source": [
    "#### Conclusiones\n",
    "La cantidad de internet que consumen los usuarios si depende del plan que tengas, se ve que los que tienen el plan ultimate, que es el que tiene más gb usan mayor cantidad de gb al mes, sin embargo hay varios del plan surf que usan más cantidad de gb que las que tienen incluidas en el plan. La mayoria de los usuarios usa entre 15 y 20 gb mesuales"
   ]
  },
  {
   "cell_type": "markdown",
   "metadata": {
    "id": "tCijq3260q1N"
   },
   "source": [
    "## Ingreso"
   ]
  },
  {
   "cell_type": "code",
   "execution_count": 60,
   "metadata": {
    "id": "0Y1v8ZUz0q1P"
   },
   "outputs": [],
   "source": [
    "#Filtrar mi archivo por plan y obtengo el ingreso mesual para cada uno\n",
    "ingresos_ultimate=final_consumo[final_consumo['plan_name']=='ultimate'][['month','total_pay']]\n",
    "ingresos_ultimate=ingresos_ultimate.groupby(['month'])['total_pay'].sum()\n",
    "\n",
    "ingresos_surf=final_consumo[final_consumo['plan_name']=='surf'][['month','total_pay']]\n",
    "ingresos_surf=ingresos_surf.groupby(['month'])['total_pay'].sum()\n",
    "\n",
    "#Se crea un dataframe con los datos de los ingresos mensuales totales para cada plan\n",
    "ingresos_totales=pd.concat([ingresos_ultimate,ingresos_surf],axis=1).reset_index()\n",
    "\n",
    "ingresos_totales.columns=['month','ultimate','surf']\n"
   ]
  },
  {
   "cell_type": "code",
   "execution_count": 61,
   "metadata": {
    "id": "bYmwxyVh0q1P"
   },
   "outputs": [
    {
     "data": {
      "image/png": "[encoded data removed]",
      "text/plain": [
       "<Figure size 640x480 with 1 Axes>"
      ]
     },
     "metadata": {},
     "output_type": "display_data"
    }
   ],
   "source": [
    "ingresos_totales.plot(kind='bar',x='month', title='Ingresos mensuales por plan', xlabel='Mes',ylabel='Ingresos mesuales (USD)')\n",
    "plt.legend(['ultimate','surf'])\n",
    "plt.show()"
   ]
  },
  {
   "cell_type": "code",
   "execution_count": 62,
   "metadata": {},
   "outputs": [
    {
     "name": "stdout",
     "output_type": "stream",
     "text": [
      "La media de los ingresos mensuales para el  plan surf es:8052.598333333334\n",
      "La varianza de los ingresos mensuales para el plan surf es:50040370.048897244\n",
      "\n",
      "La media de los ingresos mensuales para el  plan ultimate es:4342.916666666667\n",
      "La varianza de los ingresos mensuales para el plan ultimate es:11732139.076388888\n"
     ]
    }
   ],
   "source": [
    "#Se obtiene la media y la varianza de los ingresos mensuales para cada plan \n",
    "ingresos_surf_mean=ingresos_totales['surf'].mean()\n",
    "ingresos_surf_varianza=np.var(ingresos_totales['surf'])\n",
    "\n",
    "ingresos_ultimate_mean=ingresos_totales['ultimate'].mean()\n",
    "ingresos_ultimate_varianza=np.var(ingresos_totales['ultimate'])\n",
    "\n",
    "print (f'La media de los ingresos mensuales para el  plan surf es:{ingresos_surf_mean}')\n",
    "print (f'La varianza de los ingresos mensuales para el plan surf es:{ingresos_surf_varianza}')\n",
    "print()\n",
    "print (f'La media de los ingresos mensuales para el  plan ultimate es:{ingresos_ultimate_mean}')\n",
    "print (f'La varianza de los ingresos mensuales para el plan ultimate es:{ingresos_ultimate_varianza}')"
   ]
  },
  {
   "cell_type": "code",
   "execution_count": 63,
   "metadata": {},
   "outputs": [
    {
     "data": {
      "text/plain": [
       "<AxesSubplot:xlabel='surf'>"
      ]
     },
     "execution_count": 63,
     "metadata": {},
     "output_type": "execute_result"
    },
    {
     "data": {
      "image/png": "[encoded data removed]",
      "text/plain": [
       "<Figure size 640x480 with 1 Axes>"
      ]
     },
     "metadata": {},
     "output_type": "display_data"
    }
   ],
   "source": [
    "# Traza un diagrama de caja para visualizar la distribución ingresos para plan surf\n",
    "sns.boxplot(ingresos_totales['surf'])"
   ]
  },
  {
   "cell_type": "code",
   "execution_count": 64,
   "metadata": {},
   "outputs": [
    {
     "data": {
      "text/plain": [
       "<AxesSubplot:xlabel='ultimate'>"
      ]
     },
     "execution_count": 64,
     "metadata": {},
     "output_type": "execute_result"
    },
    {
     "data": {
      "image/png": "[encoded data removed]",
      "text/plain": [
       "<Figure size 640x480 with 1 Axes>"
      ]
     },
     "metadata": {},
     "output_type": "display_data"
    }
   ],
   "source": [
    "# Traza un diagrama de caja para visualizar la distribución de ingresos para plan ultimate\n",
    "sns.boxplot(ingresos_totales['ultimate'])"
   ]
  },
  {
   "cell_type": "markdown",
   "metadata": {},
   "source": [
    "#### Conclusiones\n",
    "Se puede ver que los ingresos mensuales para cada plan iban ingrementado cada mes. Del mes 1 al mes 6 los ingresos que la compañia tenía por cada plan eran muy similares, sin embargo a partir del mes 7 los ingresos que la compañia optenía del plan surf eran mucho mayores que lo que obtenían del plan ultimate. Comparando  la media de cada plan se observa que los ingresos por el plan surf son casi del doble de lo que otiene por el plan ultimate. "
   ]
  },
  {
   "cell_type": "markdown",
   "metadata": {
    "id": "ajJ7VKeI0q1Q"
   },
   "source": [
    "## Prueba las hipótesis estadísticas"
   ]
  },
  {
   "cell_type": "markdown",
   "metadata": {},
   "source": [
    "### Prueba la hipótesis de que son diferentes los ingresos promedio procedentes de los usuarios de los planes de llamada Ultimate y Surf.\n",
    "\n",
    "Hipótesis nula: Los ingresos promedio del plan Ultimate y Surf son iguales\n",
    "\n",
    "Hipótesis alternativa: Los ingresos promedio del plan Ultimate es diferente a la del plan Surf\n",
    "\n",
    "Prueba estadística: hipótesis sobre la igualdad de las medias de 2 poblaciones\n",
    "Valor alpha: 5%"
   ]
  },
  {
   "cell_type": "code",
   "execution_count": 65,
   "metadata": {},
   "outputs": [
    {
     "name": "stdout",
     "output_type": "stream",
     "text": [
      "valor p: [3.14002226e-13]\n",
      "Rechaza la hipótesis nula\n"
     ]
    }
   ],
   "source": [
    "# Prueba las hipótesis\n",
    "alpha=0.05\n",
    "sample1=final_consumo[final_consumo['plan_name']=='ultimate'][['total_pay']]\n",
    "sample2=final_consumo[final_consumo['plan_name']=='surf'][['total_pay']]\n",
    "\n",
    "results=st.ttest_ind(sample1,sample2, equal_var=False)\n",
    "\n",
    "#impirmir el valor p\n",
    "print('valor p:', results.pvalue)\n",
    "\n",
    "#compara los valores p obtenidos con el nivel de significación estadística):\n",
    "if results.pvalue<alpha:\n",
    "    print('Rechaza la hipótesis nula')\n",
    "else:\n",
    "    print('No se puede rechazar la hipótesis')"
   ]
  },
  {
   "cell_type": "markdown",
   "metadata": {},
   "source": [
    "### Prueba la hipótesis de que el ingreso promedio de los usuarios del área NY-NJ es diferente al de los usuarios de otras regiones.\n",
    "\n",
    "Hipótesis nula: Los ingresos promedio de los usuarios del área NY-NJ son iguales al de los usuarios de otras regiones\n",
    "\n",
    "Hipótesis alternativa: Los ingresos promedio de los usuarios del área NY-NJ son diferentes al de los usuarios de otras regiones.\n",
    "\n",
    "Prueba estadística: hipótesis sobre la igualdad de las medias de 2 poblaciones"
   ]
  },
  {
   "cell_type": "code",
   "execution_count": 66,
   "metadata": {
    "id": "Cqcj7wrZ0q1S"
   },
   "outputs": [
    {
     "name": "stdout",
     "output_type": "stream",
     "text": [
      "valor p: [0.03978851]\n",
      "Rechaza la hipótesis nula\n"
     ]
    }
   ],
   "source": [
    "# Prueba las hipótesis\n",
    "\n",
    "alpha=0.05\n",
    "sample1=final_consumo[final_consumo['city']=='New York-Newark-Jersey City, NY-NJ-PA MSA'][['total_pay']]\n",
    "sample2=final_consumo[final_consumo['city']!='New York-Newark-Jersey City, NY-NJ-PA MSA'][['total_pay']]\n",
    "# probar la hipótesis de que las medias de los dos planes independientes son iguales\n",
    "results=st.ttest_ind(sample1,sample2, equal_var=False)\n",
    "\n",
    "#impirmir el valor p\n",
    "print('valor p:', results.pvalue)\n",
    "\n",
    "#compara los valores p obtenidos con el nivel de significación estadística):\n",
    "if results.pvalue<alpha:\n",
    "    print('Rechaza la hipótesis nula')\n",
    "else:\n",
    "    print('No se puede rechazar la hipótesis')"
   ]
  },
  {
   "cell_type": "markdown",
   "metadata": {},
   "source": [
    "## Conclusión general\n",
    "\n",
    "Lo primero que se realizo es visualizar los archivos que datos tenían y que tipo estaban, los datos que eran de fechas se cambioron a tipo datetime, para poder manejar esta información mejor y poder de una manera más facil los gastos de cada usuario mensualmente. También habían unos datos de precios que estaban como enteros que los pase a float ya que habían valores que eran con decimales. Debido a que la compañia aproxima los segundo de las llamandas a minutos se calculo el total de minutos que la compañia con base en esto, también se cambio los mb que gastan los usuarios a gb y también se redondeo hacia arriba para saber gastaron más de lo que incluida el plan y poderles cobrar por gb adicional. Con base en lo que gastaron mensualmente cada usuario se obtuvo el precio final que pago cada usuario. \n",
    "\n",
    "Analizando lo que uso de minutos, mensajes y GB cada usuario de los dos planes se ve que no hay mucha diferencia en la cantidad de uso de minutos y mensajes en los usuarios del plan ultimate y surf. No se observo que gastaran más de lo que incluye el plan. Se observa una diferencia mayor en la cantidad de GB usadas en los usuarios de cada plan. Los que tienen el plan ultimate usan más GB que los que tienen el plan surf. Sin embargo si se observan que hay usuarios que tienen el plan surf y se pasan de las GB que tienen incluidas en el plan. \n",
    "\n",
    "Con base en la prueba de hipótesis estadística de que son diferentes los ingresos promedio de los planes ultimate y surf, se tomo la hipótesis nula como: Los ingresos promedio del plan Ultimate y Surf son iguales. Se puso un valor alpha de 5%. Obtuvimos un valor p de 3.14e-13, esto nos dice que la hipótesis nula se rechaza, por lo tanto los ingresos por el plan ultimate y surf no son iguales. \n",
    "\n",
    "\n",
    "Prueba la hipótesis de que el ingreso promedio de los usuarios del área NY-NJ es diferente al de los usuarios de otras regiones. Para esta se tomo como hipótesis nula que  Los ingresos promedio de los usuarios del área NY-NJ son iguales al de los usuarios de otras regiones. Se obtuvo un valor p de 0.03 por lo que se rechaza la hipótesis nula. De lo que se puede decir que el ingreso promedio de los usuarios de NY-NJ si difiere al de los usuarios de otras regiones.  "
   ]
  }
 ],
 "metadata": {
  "ExecuteTimeLog": [
   {
    "duration": 828,
    "start_time": "2021-11-16T09:21:11.304Z"
   },
   {
    "duration": 893,
    "start_time": "2021-11-16T09:21:17.728Z"
   },
   {
    "duration": 1150,
    "start_time": "2021-11-16T09:21:29.568Z"
   },
   {
    "duration": 3,
    "start_time": "2021-11-16T09:24:14.495Z"
   },
   {
    "duration": 120,
    "start_time": "2021-11-16T09:24:46.630Z"
   },
   {
    "duration": 3,
    "start_time": "2021-11-16T09:28:27.882Z"
   },
   {
    "duration": 4,
    "start_time": "2021-11-16T09:29:54.281Z"
   },
   {
    "duration": 3,
    "start_time": "2021-11-16T09:30:45.936Z"
   },
   {
    "duration": 4,
    "start_time": "2021-11-16T09:31:06.300Z"
   },
   {
    "duration": 113,
    "start_time": "2021-11-16T09:31:37.208Z"
   },
   {
    "duration": 143,
    "start_time": "2021-11-16T09:31:48.656Z"
   },
   {
    "duration": 98,
    "start_time": "2021-11-16T09:31:55.678Z"
   },
   {
    "duration": 3,
    "start_time": "2021-11-16T09:32:08.535Z"
   },
   {
    "duration": 111,
    "start_time": "2021-11-16T09:32:10.120Z"
   },
   {
    "duration": 3,
    "start_time": "2021-11-16T09:32:15.732Z"
   },
   {
    "duration": 4,
    "start_time": "2021-11-16T09:32:29.423Z"
   },
   {
    "duration": 3,
    "start_time": "2021-11-16T10:03:03.074Z"
   },
   {
    "duration": 3,
    "start_time": "2021-11-16T10:10:01.288Z"
   },
   {
    "duration": 3,
    "start_time": "2021-11-16T10:10:46.923Z"
   },
   {
    "duration": 121,
    "start_time": "2021-11-16T10:37:46.494Z"
   },
   {
    "duration": 125,
    "start_time": "2021-11-16T10:38:20.632Z"
   },
   {
    "duration": 112,
    "start_time": "2021-11-16T10:46:53.001Z"
   },
   {
    "duration": 110,
    "start_time": "2021-11-16T10:48:25.775Z"
   },
   {
    "duration": 3,
    "start_time": "2021-11-16T10:50:18.720Z"
   },
   {
    "duration": 4,
    "start_time": "2021-11-16T10:50:37.649Z"
   },
   {
    "duration": 2,
    "start_time": "2021-11-16T10:50:51.884Z"
   },
   {
    "duration": 3,
    "start_time": "2021-11-16T10:51:56.237Z"
   },
   {
    "duration": 101,
    "start_time": "2021-11-16T10:53:13.791Z"
   },
   {
    "duration": 3,
    "start_time": "2021-11-16T10:55:59.186Z"
   },
   {
    "duration": 3,
    "start_time": "2021-11-16T10:56:10.751Z"
   },
   {
    "duration": 3,
    "start_time": "2021-11-16T10:56:49.038Z"
   },
   {
    "duration": 3,
    "start_time": "2021-11-16T10:56:49.174Z"
   },
   {
    "duration": 4,
    "start_time": "2021-11-16T10:56:49.414Z"
   },
   {
    "duration": 3,
    "start_time": "2021-11-16T10:56:49.680Z"
   },
   {
    "duration": 3,
    "start_time": "2021-11-16T10:56:50.370Z"
   },
   {
    "duration": 114,
    "start_time": "2021-11-16T10:59:34.518Z"
   },
   {
    "duration": 3,
    "start_time": "2021-11-16T11:01:41.201Z"
   },
   {
    "duration": 116,
    "start_time": "2021-11-16T11:01:48.754Z"
   },
   {
    "duration": 3,
    "start_time": "2021-11-16T11:02:16.685Z"
   },
   {
    "duration": 3,
    "start_time": "2021-11-16T11:02:19.479Z"
   },
   {
    "duration": 3,
    "start_time": "2021-11-16T11:02:47.067Z"
   },
   {
    "duration": 3,
    "start_time": "2021-11-16T11:02:49.353Z"
   },
   {
    "duration": 3,
    "start_time": "2021-11-16T11:03:07.835Z"
   },
   {
    "duration": 3,
    "start_time": "2021-11-16T11:03:07.953Z"
   },
   {
    "duration": 112,
    "start_time": "2021-11-16T11:07:52.072Z"
   },
   {
    "duration": 187,
    "start_time": "2021-11-16T11:09:23.468Z"
   },
   {
    "duration": 4,
    "start_time": "2021-11-16T11:10:01.455Z"
   },
   {
    "duration": 3,
    "start_time": "2021-11-16T11:10:05.069Z"
   },
   {
    "duration": 4,
    "start_time": "2021-11-16T11:10:13.376Z"
   },
   {
    "duration": 3,
    "start_time": "2021-11-16T11:10:14.434Z"
   },
   {
    "duration": 3,
    "start_time": "2021-11-16T11:10:22.853Z"
   },
   {
    "duration": 4,
    "start_time": "2021-11-16T11:27:29.279Z"
   },
   {
    "duration": 4,
    "start_time": "2021-11-16T11:29:08.919Z"
   },
   {
    "duration": 118,
    "start_time": "2021-11-16T11:29:46.703Z"
   },
   {
    "duration": 437,
    "start_time": "2021-11-16T11:36:02.181Z"
   },
   {
    "duration": 157,
    "start_time": "2021-11-16T11:36:14.388Z"
   },
   {
    "duration": 207,
    "start_time": "2021-11-16T11:47:15.898Z"
   },
   {
    "duration": 3,
    "start_time": "2021-11-16T11:53:52.092Z"
   },
   {
    "duration": 3,
    "start_time": "2021-11-16T11:53:52.236Z"
   },
   {
    "duration": 3,
    "start_time": "2021-11-16T11:59:12.005Z"
   },
   {
    "duration": 112,
    "start_time": "2021-11-16T12:00:33.446Z"
   },
   {
    "duration": 3,
    "start_time": "2021-11-16T12:02:14.453Z"
   },
   {
    "duration": 3,
    "start_time": "2021-11-16T12:02:39.512Z"
   },
   {
    "duration": 106,
    "start_time": "2021-11-16T12:03:03.460Z"
   },
   {
    "duration": 3,
    "start_time": "2021-11-17T20:37:21.139Z"
   },
   {
    "duration": 3,
    "start_time": "2021-11-17T20:37:22.229Z"
   },
   {
    "duration": 3,
    "start_time": "2021-11-17T20:38:38.806Z"
   },
   {
    "duration": 3,
    "start_time": "2021-11-17T20:38:41.958Z"
   },
   {
    "duration": 3,
    "start_time": "2021-11-17T20:43:46.551Z"
   },
   {
    "duration": 4,
    "start_time": "2021-11-17T20:58:21.835Z"
   },
   {
    "duration": 3,
    "start_time": "2021-11-17T20:59:21.872Z"
   },
   {
    "duration": 4,
    "start_time": "2021-11-17T20:59:45.352Z"
   },
   {
    "duration": 4,
    "start_time": "2021-11-17T20:59:49.646Z"
   },
   {
    "duration": 159,
    "start_time": "2021-11-17T21:02:26.949Z"
   },
   {
    "duration": 3,
    "start_time": "2021-11-17T21:03:53.461Z"
   },
   {
    "duration": 3,
    "start_time": "2021-11-17T21:03:53.694Z"
   },
   {
    "duration": 3,
    "start_time": "2021-11-17T21:05:28.145Z"
   },
   {
    "duration": 116,
    "start_time": "2021-11-17T21:05:57.787Z"
   },
   {
    "duration": 3,
    "start_time": "2021-11-17T21:06:37.993Z"
   },
   {
    "duration": 3,
    "start_time": "2021-11-17T21:06:38.261Z"
   },
   {
    "duration": 3,
    "start_time": "2021-11-17T21:11:54.358Z"
   },
   {
    "duration": 3,
    "start_time": "2021-11-17T21:12:43.846Z"
   },
   {
    "duration": 4,
    "start_time": "2021-11-17T21:13:08.773Z"
   },
   {
    "duration": 3,
    "start_time": "2021-11-17T21:14:44.441Z"
   },
   {
    "duration": 3,
    "start_time": "2021-11-17T21:15:42.059Z"
   },
   {
    "duration": 4,
    "start_time": "2021-11-17T21:15:51.995Z"
   },
   {
    "duration": 3,
    "start_time": "2021-11-17T21:15:53.923Z"
   },
   {
    "duration": 3,
    "start_time": "2021-11-17T21:15:55.282Z"
   },
   {
    "duration": 3,
    "start_time": "2021-11-17T21:16:28.492Z"
   },
   {
    "duration": 3,
    "start_time": "2021-11-17T21:16:32.603Z"
   },
   {
    "duration": 3,
    "start_time": "2021-11-17T21:17:06.941Z"
   },
   {
    "duration": 98,
    "start_time": "2021-11-17T21:18:05.733Z"
   },
   {
    "duration": 4,
    "start_time": "2021-11-17T21:21:35.255Z"
   },
   {
    "duration": 3,
    "start_time": "2021-11-17T21:21:37.804Z"
   },
   {
    "duration": 4,
    "start_time": "2021-11-17T21:23:06.071Z"
   },
   {
    "duration": 3,
    "start_time": "2021-11-17T21:23:24.799Z"
   },
   {
    "duration": 3,
    "start_time": "2021-11-17T21:23:32.591Z"
   },
   {
    "duration": 98,
    "start_time": "2021-11-17T21:28:31.559Z"
   },
   {
    "duration": 3,
    "start_time": "2021-11-17T21:28:45.448Z"
   },
   {
    "duration": 3,
    "start_time": "2021-11-17T21:29:17.303Z"
   },
   {
    "duration": 3,
    "start_time": "2021-11-17T21:29:29.617Z"
   },
   {
    "duration": 3,
    "start_time": "2021-11-17T21:29:32.681Z"
   },
   {
    "duration": 3,
    "start_time": "2021-11-17T21:36:11.474Z"
   },
   {
    "duration": 3,
    "start_time": "2021-11-17T21:36:14.791Z"
   },
   {
    "duration": 3,
    "start_time": "2021-11-17T21:36:53.943Z"
   },
   {
    "duration": 3,
    "start_time": "2021-11-17T21:36:56.165Z"
   },
   {
    "duration": 4,
    "start_time": "2021-11-17T21:37:16.590Z"
   },
   {
    "duration": 3,
    "start_time": "2021-11-17T21:37:22.702Z"
   },
   {
    "duration": 4,
    "start_time": "2021-11-17T21:38:03.479Z"
   },
   {
    "duration": 3,
    "start_time": "2021-11-17T21:38:08.601Z"
   },
   {
    "duration": 3,
    "start_time": "2021-11-17T21:38:12.928Z"
   },
   {
    "duration": 3,
    "start_time": "2021-11-17T21:38:48.896Z"
   },
   {
    "duration": 2,
    "start_time": "2021-11-17T21:38:49.171Z"
   },
   {
    "duration": 4,
    "start_time": "2021-11-17T21:39:57.889Z"
   },
   {
    "duration": 3,
    "start_time": "2021-11-17T21:39:58.057Z"
   },
   {
    "duration": 3,
    "start_time": "2021-11-17T21:41:20.108Z"
   },
   {
    "duration": 3,
    "start_time": "2021-11-17T21:41:20.629Z"
   },
   {
    "duration": 3,
    "start_time": "2021-11-17T21:42:49.136Z"
   },
   {
    "duration": 3,
    "start_time": "2021-11-17T21:43:15.137Z"
   },
   {
    "duration": 4,
    "start_time": "2021-11-17T21:43:16.766Z"
   },
   {
    "duration": 4,
    "start_time": "2021-11-17T21:43:31.711Z"
   },
   {
    "duration": 3,
    "start_time": "2021-11-17T21:43:36.312Z"
   },
   {
    "duration": 4,
    "start_time": "2021-11-17T21:45:08.825Z"
   },
   {
    "duration": 4,
    "start_time": "2021-11-17T21:45:10.119Z"
   },
   {
    "duration": 4,
    "start_time": "2021-11-17T21:45:13.748Z"
   },
   {
    "duration": 3,
    "start_time": "2021-11-17T21:45:22.219Z"
   },
   {
    "duration": 3,
    "start_time": "2021-11-17T21:45:33.412Z"
   },
   {
    "duration": 2,
    "start_time": "2021-11-17T21:46:01.885Z"
   },
   {
    "duration": 3,
    "start_time": "2021-11-17T21:46:03.628Z"
   },
   {
    "duration": 107,
    "start_time": "2021-11-17T21:47:32.512Z"
   },
   {
    "duration": 103,
    "start_time": "2021-11-17T21:50:36.243Z"
   },
   {
    "duration": 3,
    "start_time": "2021-11-18T06:28:31.440Z"
   },
   {
    "duration": 3,
    "start_time": "2021-11-18T06:29:00.168Z"
   },
   {
    "duration": 3,
    "start_time": "2021-11-18T06:31:27.008Z"
   },
   {
    "duration": 2,
    "start_time": "2021-11-18T06:35:34.288Z"
   },
   {
    "duration": 2,
    "start_time": "2021-11-18T06:38:04.527Z"
   },
   {
    "duration": 2474,
    "start_time": "2024-09-23T14:38:28.324Z"
   },
   {
    "duration": 100,
    "start_time": "2024-09-23T14:39:51.167Z"
   },
   {
    "duration": 78,
    "start_time": "2024-09-23T14:40:01.706Z"
   },
   {
    "duration": 224,
    "start_time": "2024-09-23T14:42:16.638Z"
   },
   {
    "duration": 9,
    "start_time": "2024-09-23T14:43:59.669Z"
   },
   {
    "duration": 8,
    "start_time": "2024-09-23T14:45:42.715Z"
   },
   {
    "duration": 7,
    "start_time": "2024-09-23T14:45:56.507Z"
   },
   {
    "duration": 3,
    "start_time": "2024-09-23T15:04:08.145Z"
   },
   {
    "duration": 8,
    "start_time": "2024-09-23T15:05:31.268Z"
   },
   {
    "duration": 9,
    "start_time": "2024-09-23T15:05:50.136Z"
   },
   {
    "duration": 8,
    "start_time": "2024-09-23T15:23:26.583Z"
   },
   {
    "duration": 8,
    "start_time": "2024-09-23T15:23:35.910Z"
   },
   {
    "duration": 9,
    "start_time": "2024-09-23T15:24:54.012Z"
   },
   {
    "duration": 3,
    "start_time": "2024-09-23T15:35:04.748Z"
   },
   {
    "duration": 9,
    "start_time": "2024-09-23T15:35:18.884Z"
   },
   {
    "duration": 634,
    "start_time": "2024-09-23T15:37:02.380Z"
   },
   {
    "duration": 5,
    "start_time": "2024-09-23T15:37:10.094Z"
   },
   {
    "duration": 5,
    "start_time": "2024-09-23T15:37:27.249Z"
   },
   {
    "duration": 11,
    "start_time": "2024-09-23T15:37:30.348Z"
   },
   {
    "duration": 13,
    "start_time": "2024-09-23T15:44:01.965Z"
   },
   {
    "duration": 15,
    "start_time": "2024-09-23T15:44:05.960Z"
   },
   {
    "duration": 12,
    "start_time": "2024-09-23T15:44:29.712Z"
   },
   {
    "duration": 6,
    "start_time": "2024-09-23T15:44:43.935Z"
   },
   {
    "duration": 10,
    "start_time": "2024-09-23T15:46:28.929Z"
   },
   {
    "duration": 2478,
    "start_time": "2024-09-23T19:59:08.753Z"
   },
   {
    "duration": 260,
    "start_time": "2024-09-23T19:59:13.024Z"
   },
   {
    "duration": 10,
    "start_time": "2024-09-23T19:59:20.282Z"
   },
   {
    "duration": 4,
    "start_time": "2024-09-23T19:59:24.987Z"
   },
   {
    "duration": 9,
    "start_time": "2024-09-23T19:59:29.718Z"
   },
   {
    "duration": 5,
    "start_time": "2024-09-23T19:59:34.514Z"
   },
   {
    "duration": 16,
    "start_time": "2024-09-23T19:59:39.300Z"
   },
   {
    "duration": 222,
    "start_time": "2024-09-23T20:00:56.708Z"
   },
   {
    "duration": 18,
    "start_time": "2024-09-23T20:01:01.450Z"
   },
   {
    "duration": 7,
    "start_time": "2024-09-23T20:10:33.216Z"
   },
   {
    "duration": 16,
    "start_time": "2024-09-23T20:11:30.339Z"
   },
   {
    "duration": 16,
    "start_time": "2024-09-23T20:11:40.033Z"
   },
   {
    "duration": 16,
    "start_time": "2024-09-23T20:12:48.330Z"
   },
   {
    "duration": 27,
    "start_time": "2024-09-23T20:15:29.726Z"
   },
   {
    "duration": 14,
    "start_time": "2024-09-23T20:15:34.387Z"
   },
   {
    "duration": 11,
    "start_time": "2024-09-23T20:15:45.925Z"
   },
   {
    "duration": 160,
    "start_time": "2024-09-23T20:16:38.547Z"
   },
   {
    "duration": 17,
    "start_time": "2024-09-23T20:16:56.435Z"
   },
   {
    "duration": 25,
    "start_time": "2024-09-23T20:19:21.290Z"
   },
   {
    "duration": 13,
    "start_time": "2024-09-23T20:19:58.238Z"
   },
   {
    "duration": 28,
    "start_time": "2024-09-23T20:21:02.871Z"
   },
   {
    "duration": 27,
    "start_time": "2024-09-23T20:21:17.094Z"
   },
   {
    "duration": 10,
    "start_time": "2024-09-23T20:21:39.467Z"
   },
   {
    "duration": 24,
    "start_time": "2024-09-23T20:21:41.960Z"
   },
   {
    "duration": 13,
    "start_time": "2024-09-23T20:22:10.703Z"
   },
   {
    "duration": 158,
    "start_time": "2024-09-23T20:22:26.413Z"
   },
   {
    "duration": 13,
    "start_time": "2024-09-23T20:22:37.319Z"
   },
   {
    "duration": 11,
    "start_time": "2024-09-23T20:22:56.706Z"
   },
   {
    "duration": 13,
    "start_time": "2024-09-23T20:26:09.029Z"
   },
   {
    "duration": 16,
    "start_time": "2024-09-23T20:26:40.103Z"
   },
   {
    "duration": 14,
    "start_time": "2024-09-23T20:27:13.787Z"
   },
   {
    "duration": 8,
    "start_time": "2024-09-23T20:27:27.662Z"
   },
   {
    "duration": 13,
    "start_time": "2024-09-23T20:27:47.887Z"
   },
   {
    "duration": 13,
    "start_time": "2024-09-23T20:28:08.022Z"
   },
   {
    "duration": 10,
    "start_time": "2024-09-23T20:28:17.218Z"
   },
   {
    "duration": 13,
    "start_time": "2024-09-23T20:32:36.223Z"
   },
   {
    "duration": 13,
    "start_time": "2024-09-23T20:34:05.685Z"
   },
   {
    "duration": 28,
    "start_time": "2024-09-23T20:34:09.372Z"
   },
   {
    "duration": 16,
    "start_time": "2024-09-23T20:34:47.766Z"
   },
   {
    "duration": 5,
    "start_time": "2024-09-23T20:35:03.640Z"
   },
   {
    "duration": 14,
    "start_time": "2024-09-23T20:35:11.731Z"
   },
   {
    "duration": 35,
    "start_time": "2024-09-23T20:44:11.574Z"
   },
   {
    "duration": 3,
    "start_time": "2024-09-23T20:46:22.062Z"
   },
   {
    "duration": 13,
    "start_time": "2024-09-23T20:47:44.840Z"
   },
   {
    "duration": 88,
    "start_time": "2024-09-23T20:47:50.744Z"
   },
   {
    "duration": 347,
    "start_time": "2024-09-23T20:48:41.436Z"
   },
   {
    "duration": 6,
    "start_time": "2024-09-23T20:50:24.644Z"
   },
   {
    "duration": 4,
    "start_time": "2024-09-23T20:52:05.815Z"
   },
   {
    "duration": 13,
    "start_time": "2024-09-23T20:52:19.743Z"
   },
   {
    "duration": 3,
    "start_time": "2024-09-23T20:54:37.629Z"
   },
   {
    "duration": 9,
    "start_time": "2024-09-23T20:54:41.664Z"
   },
   {
    "duration": 7,
    "start_time": "2024-09-23T20:57:55.441Z"
   },
   {
    "duration": 16,
    "start_time": "2024-09-23T20:58:11.362Z"
   },
   {
    "duration": 7,
    "start_time": "2024-09-23T20:58:26.536Z"
   },
   {
    "duration": 15,
    "start_time": "2024-09-23T20:58:27.430Z"
   },
   {
    "duration": 24,
    "start_time": "2024-09-23T20:59:23.592Z"
   },
   {
    "duration": 18,
    "start_time": "2024-09-23T20:59:27.602Z"
   },
   {
    "duration": 7,
    "start_time": "2024-09-23T21:01:04.337Z"
   },
   {
    "duration": 11,
    "start_time": "2024-09-23T21:01:16.117Z"
   },
   {
    "duration": 151,
    "start_time": "2024-09-23T21:01:50.475Z"
   },
   {
    "duration": 17,
    "start_time": "2024-09-23T21:02:00.219Z"
   },
   {
    "duration": 7,
    "start_time": "2024-09-23T21:02:02.942Z"
   },
   {
    "duration": 10,
    "start_time": "2024-09-23T21:02:09.277Z"
   },
   {
    "duration": 155,
    "start_time": "2024-09-23T21:05:49.599Z"
   },
   {
    "duration": 5,
    "start_time": "2024-09-23T21:06:11.991Z"
   },
   {
    "duration": 10,
    "start_time": "2024-09-23T21:06:16.391Z"
   },
   {
    "duration": 743,
    "start_time": "2024-09-23T21:08:05.401Z"
   },
   {
    "duration": 161,
    "start_time": "2024-09-23T21:08:06.147Z"
   },
   {
    "duration": 9,
    "start_time": "2024-09-23T21:08:06.310Z"
   },
   {
    "duration": 10,
    "start_time": "2024-09-23T21:08:06.323Z"
   },
   {
    "duration": 3,
    "start_time": "2024-09-23T21:08:06.336Z"
   },
   {
    "duration": 8,
    "start_time": "2024-09-23T21:08:06.341Z"
   },
   {
    "duration": 11,
    "start_time": "2024-09-23T21:08:06.351Z"
   },
   {
    "duration": 5,
    "start_time": "2024-09-23T21:08:06.364Z"
   },
   {
    "duration": 18,
    "start_time": "2024-09-23T21:08:06.404Z"
   },
   {
    "duration": 10,
    "start_time": "2024-09-23T21:08:06.423Z"
   },
   {
    "duration": 16,
    "start_time": "2024-09-23T21:08:06.435Z"
   },
   {
    "duration": 54,
    "start_time": "2024-09-23T21:08:06.453Z"
   },
   {
    "duration": 4,
    "start_time": "2024-09-23T21:08:06.509Z"
   },
   {
    "duration": 12,
    "start_time": "2024-09-23T21:08:13.040Z"
   },
   {
    "duration": 210,
    "start_time": "2024-09-23T21:18:53.778Z"
   },
   {
    "duration": 4,
    "start_time": "2024-09-23T21:19:07.158Z"
   },
   {
    "duration": 3,
    "start_time": "2024-09-23T21:19:30.569Z"
   },
   {
    "duration": 3,
    "start_time": "2024-09-23T21:20:39.279Z"
   },
   {
    "duration": 422,
    "start_time": "2024-09-23T21:38:46.312Z"
   },
   {
    "duration": 4,
    "start_time": "2024-09-23T21:39:56.364Z"
   },
   {
    "duration": 16,
    "start_time": "2024-09-23T21:41:38.320Z"
   },
   {
    "duration": 14,
    "start_time": "2024-09-23T21:41:47.285Z"
   },
   {
    "duration": 4,
    "start_time": "2024-09-23T21:42:41.821Z"
   },
   {
    "duration": 13,
    "start_time": "2024-09-23T21:48:02.770Z"
   },
   {
    "duration": 4,
    "start_time": "2024-09-23T21:48:31.652Z"
   },
   {
    "duration": 7,
    "start_time": "2024-09-23T21:48:42.233Z"
   },
   {
    "duration": 323,
    "start_time": "2024-09-23T21:49:00.741Z"
   },
   {
    "duration": 8,
    "start_time": "2024-09-23T21:49:30.946Z"
   },
   {
    "duration": 3,
    "start_time": "2024-09-23T21:49:49.431Z"
   },
   {
    "duration": 15,
    "start_time": "2024-09-23T21:49:51.681Z"
   },
   {
    "duration": 4,
    "start_time": "2024-09-23T21:50:01.208Z"
   },
   {
    "duration": 8,
    "start_time": "2024-09-23T21:50:02.654Z"
   },
   {
    "duration": 4,
    "start_time": "2024-09-23T21:50:14.782Z"
   },
   {
    "duration": 4,
    "start_time": "2024-09-23T21:50:25.029Z"
   },
   {
    "duration": 8,
    "start_time": "2024-09-23T21:50:25.769Z"
   },
   {
    "duration": 6,
    "start_time": "2024-09-23T21:50:46.569Z"
   },
   {
    "duration": 13,
    "start_time": "2024-09-23T21:50:49.243Z"
   },
   {
    "duration": 5,
    "start_time": "2024-09-23T21:51:01.780Z"
   },
   {
    "duration": 18,
    "start_time": "2024-09-23T21:51:02.314Z"
   },
   {
    "duration": 4,
    "start_time": "2024-09-23T21:52:32.739Z"
   },
   {
    "duration": 9,
    "start_time": "2024-09-23T21:52:33.434Z"
   },
   {
    "duration": 5,
    "start_time": "2024-09-23T21:55:21.530Z"
   },
   {
    "duration": 4,
    "start_time": "2024-09-23T21:55:42.239Z"
   },
   {
    "duration": 3,
    "start_time": "2024-09-23T21:56:10.119Z"
   },
   {
    "duration": 17,
    "start_time": "2024-09-23T21:58:09.317Z"
   },
   {
    "duration": 8,
    "start_time": "2024-09-23T22:04:03.168Z"
   },
   {
    "duration": 13,
    "start_time": "2024-09-23T22:04:09.486Z"
   },
   {
    "duration": 13,
    "start_time": "2024-09-23T22:04:47.358Z"
   },
   {
    "duration": 14,
    "start_time": "2024-09-23T22:06:10.583Z"
   },
   {
    "duration": 14,
    "start_time": "2024-09-23T22:06:45.440Z"
   },
   {
    "duration": 10,
    "start_time": "2024-09-23T22:07:50.283Z"
   },
   {
    "duration": 13,
    "start_time": "2024-09-23T22:08:21.417Z"
   },
   {
    "duration": 17,
    "start_time": "2024-09-23T22:08:27.887Z"
   },
   {
    "duration": 24,
    "start_time": "2024-09-23T22:12:33.748Z"
   },
   {
    "duration": 14,
    "start_time": "2024-09-23T22:18:35.064Z"
   },
   {
    "duration": 15,
    "start_time": "2024-09-23T22:18:45.966Z"
   },
   {
    "duration": 10,
    "start_time": "2024-09-23T22:20:06.452Z"
   },
   {
    "duration": 14,
    "start_time": "2024-09-23T22:20:13.544Z"
   },
   {
    "duration": 13,
    "start_time": "2024-09-23T22:21:29.800Z"
   },
   {
    "duration": 12,
    "start_time": "2024-09-23T22:21:57.373Z"
   },
   {
    "duration": 19,
    "start_time": "2024-09-23T22:23:37.442Z"
   },
   {
    "duration": 41,
    "start_time": "2024-09-23T22:25:10.348Z"
   },
   {
    "duration": 67,
    "start_time": "2024-09-23T22:25:39.398Z"
   },
   {
    "duration": 9,
    "start_time": "2024-09-23T22:26:20.648Z"
   },
   {
    "duration": 6,
    "start_time": "2024-09-23T22:26:23.686Z"
   },
   {
    "duration": 11,
    "start_time": "2024-09-23T22:26:40.663Z"
   },
   {
    "duration": 11,
    "start_time": "2024-09-23T22:27:09.259Z"
   },
   {
    "duration": 14,
    "start_time": "2024-09-23T22:27:36.878Z"
   },
   {
    "duration": 13,
    "start_time": "2024-09-23T22:27:48.542Z"
   },
   {
    "duration": 9,
    "start_time": "2024-09-23T22:27:53.298Z"
   },
   {
    "duration": 11,
    "start_time": "2024-09-23T22:28:04.815Z"
   },
   {
    "duration": 49,
    "start_time": "2024-09-23T22:28:57.283Z"
   },
   {
    "duration": 26,
    "start_time": "2024-09-23T22:30:16.670Z"
   },
   {
    "duration": 12,
    "start_time": "2024-09-23T22:30:30.897Z"
   },
   {
    "duration": 11,
    "start_time": "2024-09-23T22:30:33.743Z"
   },
   {
    "duration": 11,
    "start_time": "2024-09-23T22:32:11.020Z"
   },
   {
    "duration": 14,
    "start_time": "2024-09-23T22:32:51.600Z"
   },
   {
    "duration": 7,
    "start_time": "2024-09-23T22:32:59.542Z"
   },
   {
    "duration": 9,
    "start_time": "2024-09-23T22:33:22.619Z"
   },
   {
    "duration": 4,
    "start_time": "2024-09-23T22:57:31.032Z"
   },
   {
    "duration": 8,
    "start_time": "2024-09-23T22:57:37.807Z"
   },
   {
    "duration": 13,
    "start_time": "2024-09-23T22:58:34.567Z"
   },
   {
    "duration": 9,
    "start_time": "2024-09-23T22:58:40.603Z"
   },
   {
    "duration": 13,
    "start_time": "2024-09-23T22:59:20.496Z"
   },
   {
    "duration": 13,
    "start_time": "2024-09-23T22:59:54.436Z"
   },
   {
    "duration": 14,
    "start_time": "2024-09-23T23:00:02.126Z"
   },
   {
    "duration": 23,
    "start_time": "2024-09-23T23:01:50.660Z"
   },
   {
    "duration": 260,
    "start_time": "2024-09-23T23:04:10.771Z"
   },
   {
    "duration": 13,
    "start_time": "2024-09-23T23:04:42.868Z"
   },
   {
    "duration": 19,
    "start_time": "2024-09-23T23:04:49.554Z"
   },
   {
    "duration": 14,
    "start_time": "2024-09-23T23:06:23.335Z"
   },
   {
    "duration": 17,
    "start_time": "2024-09-23T23:06:32.044Z"
   },
   {
    "duration": 16,
    "start_time": "2024-09-23T23:06:55.341Z"
   },
   {
    "duration": 21,
    "start_time": "2024-09-23T23:11:43.387Z"
   },
   {
    "duration": 14,
    "start_time": "2024-09-23T23:12:49.171Z"
   },
   {
    "duration": 21,
    "start_time": "2024-09-23T23:12:56.426Z"
   },
   {
    "duration": 24,
    "start_time": "2024-09-23T23:13:47.612Z"
   },
   {
    "duration": 22,
    "start_time": "2024-09-23T23:14:02.146Z"
   },
   {
    "duration": 6,
    "start_time": "2024-09-23T23:15:04.423Z"
   },
   {
    "duration": 14,
    "start_time": "2024-09-23T23:15:08.638Z"
   },
   {
    "duration": 816,
    "start_time": "2024-09-23T23:15:31.905Z"
   },
   {
    "duration": 160,
    "start_time": "2024-09-23T23:15:34.579Z"
   },
   {
    "duration": 9,
    "start_time": "2024-09-23T23:15:39.485Z"
   },
   {
    "duration": 9,
    "start_time": "2024-09-23T23:15:44.289Z"
   },
   {
    "duration": 4,
    "start_time": "2024-09-23T23:15:49.021Z"
   },
   {
    "duration": 8,
    "start_time": "2024-09-23T23:15:51.613Z"
   },
   {
    "duration": 9,
    "start_time": "2024-09-23T23:15:53.436Z"
   },
   {
    "duration": 9,
    "start_time": "2024-09-23T23:16:01.747Z"
   },
   {
    "duration": 818,
    "start_time": "2024-09-23T23:16:19.017Z"
   },
   {
    "duration": 156,
    "start_time": "2024-09-23T23:16:25.920Z"
   },
   {
    "duration": 11,
    "start_time": "2024-09-23T23:16:29.148Z"
   },
   {
    "duration": 12,
    "start_time": "2024-09-23T23:16:30.747Z"
   },
   {
    "duration": 4,
    "start_time": "2024-09-23T23:16:35.500Z"
   },
   {
    "duration": 5,
    "start_time": "2024-09-23T23:16:40.472Z"
   },
   {
    "duration": 8,
    "start_time": "2024-09-23T23:16:41.636Z"
   },
   {
    "duration": 9,
    "start_time": "2024-09-23T23:16:46.344Z"
   },
   {
    "duration": 10,
    "start_time": "2024-09-23T23:16:48.363Z"
   },
   {
    "duration": 4,
    "start_time": "2024-09-23T23:16:54.544Z"
   },
   {
    "duration": 17,
    "start_time": "2024-09-23T23:17:04.715Z"
   },
   {
    "duration": 9,
    "start_time": "2024-09-23T23:17:06.667Z"
   },
   {
    "duration": 17,
    "start_time": "2024-09-23T23:17:11.933Z"
   },
   {
    "duration": 35,
    "start_time": "2024-09-23T23:17:14.700Z"
   },
   {
    "duration": 5,
    "start_time": "2024-09-23T23:17:15.936Z"
   },
   {
    "duration": 8,
    "start_time": "2024-09-23T23:17:17.660Z"
   },
   {
    "duration": 14,
    "start_time": "2024-09-23T23:17:19.808Z"
   },
   {
    "duration": 12,
    "start_time": "2024-09-23T23:17:24.536Z"
   },
   {
    "duration": 8,
    "start_time": "2024-09-23T23:17:25.885Z"
   },
   {
    "duration": 10,
    "start_time": "2024-09-23T23:17:31.161Z"
   },
   {
    "duration": 17,
    "start_time": "2024-09-23T23:17:33.621Z"
   },
   {
    "duration": 6,
    "start_time": "2024-09-23T23:17:35.138Z"
   },
   {
    "duration": 18,
    "start_time": "2024-09-23T23:17:37.360Z"
   },
   {
    "duration": 8,
    "start_time": "2024-09-23T23:17:38.450Z"
   },
   {
    "duration": 16,
    "start_time": "2024-09-23T23:17:42.135Z"
   },
   {
    "duration": 47,
    "start_time": "2024-09-23T23:17:44.683Z"
   },
   {
    "duration": 6,
    "start_time": "2024-09-23T23:17:45.687Z"
   },
   {
    "duration": 4,
    "start_time": "2024-09-23T23:17:48.673Z"
   },
   {
    "duration": 16,
    "start_time": "2024-09-23T23:17:52.625Z"
   },
   {
    "duration": 15,
    "start_time": "2024-09-23T23:17:53.535Z"
   },
   {
    "duration": 10,
    "start_time": "2024-09-23T23:17:55.149Z"
   },
   {
    "duration": 9,
    "start_time": "2024-09-23T23:17:56.096Z"
   },
   {
    "duration": 23,
    "start_time": "2024-09-23T23:17:59.865Z"
   },
   {
    "duration": 20,
    "start_time": "2024-09-23T23:18:18.768Z"
   },
   {
    "duration": 23,
    "start_time": "2024-09-23T23:19:22.745Z"
   },
   {
    "duration": 256,
    "start_time": "2024-09-23T23:28:07.426Z"
   },
   {
    "duration": 10,
    "start_time": "2024-09-23T23:28:15.988Z"
   },
   {
    "duration": 21,
    "start_time": "2024-09-23T23:28:20.772Z"
   },
   {
    "duration": 424,
    "start_time": "2024-09-23T23:30:06.258Z"
   },
   {
    "duration": 4,
    "start_time": "2024-09-23T23:30:35.650Z"
   },
   {
    "duration": 16,
    "start_time": "2024-09-23T23:30:46.250Z"
   },
   {
    "duration": 24,
    "start_time": "2024-09-23T23:33:05.889Z"
   },
   {
    "duration": 19,
    "start_time": "2024-09-23T23:34:47.587Z"
   },
   {
    "duration": 20,
    "start_time": "2024-09-23T23:35:19.792Z"
   },
   {
    "duration": 21,
    "start_time": "2024-09-23T23:39:53.827Z"
   },
   {
    "duration": 19,
    "start_time": "2024-09-23T23:40:13.001Z"
   },
   {
    "duration": 15,
    "start_time": "2024-09-23T23:41:30.656Z"
   },
   {
    "duration": 17,
    "start_time": "2024-09-23T23:44:16.077Z"
   },
   {
    "duration": 23,
    "start_time": "2024-09-23T23:47:24.166Z"
   },
   {
    "duration": 130,
    "start_time": "2024-09-23T23:48:10.751Z"
   },
   {
    "duration": 17,
    "start_time": "2024-09-23T23:48:18.700Z"
   },
   {
    "duration": 19,
    "start_time": "2024-09-23T23:49:03.074Z"
   },
   {
    "duration": 16,
    "start_time": "2024-09-23T23:51:06.954Z"
   },
   {
    "duration": 20,
    "start_time": "2024-09-23T23:51:16.114Z"
   },
   {
    "duration": 16,
    "start_time": "2024-09-24T00:02:58.470Z"
   },
   {
    "duration": 14,
    "start_time": "2024-09-24T00:03:06.074Z"
   },
   {
    "duration": 13,
    "start_time": "2024-09-24T00:08:08.661Z"
   },
   {
    "duration": 13,
    "start_time": "2024-09-24T00:14:57.677Z"
   },
   {
    "duration": 4,
    "start_time": "2024-09-24T00:15:19.774Z"
   },
   {
    "duration": 5,
    "start_time": "2024-09-24T00:15:27.196Z"
   },
   {
    "duration": 9,
    "start_time": "2024-09-24T00:15:51.803Z"
   },
   {
    "duration": 17,
    "start_time": "2024-09-24T00:16:51.135Z"
   },
   {
    "duration": 229,
    "start_time": "2024-09-24T00:17:31.145Z"
   },
   {
    "duration": 47,
    "start_time": "2024-09-24T00:17:34.615Z"
   },
   {
    "duration": 6,
    "start_time": "2024-09-24T00:20:10.907Z"
   },
   {
    "duration": 52,
    "start_time": "2024-09-24T00:20:20.788Z"
   },
   {
    "duration": 7,
    "start_time": "2024-09-24T00:21:00.748Z"
   },
   {
    "duration": 11,
    "start_time": "2024-09-24T00:21:20.139Z"
   },
   {
    "duration": 9,
    "start_time": "2024-09-24T00:21:57.880Z"
   },
   {
    "duration": 5,
    "start_time": "2024-09-24T00:31:12.813Z"
   },
   {
    "duration": 11,
    "start_time": "2024-09-24T00:32:01.739Z"
   },
   {
    "duration": 6,
    "start_time": "2024-09-24T00:32:14.390Z"
   },
   {
    "duration": 48,
    "start_time": "2024-09-24T00:33:03.375Z"
   },
   {
    "duration": 10,
    "start_time": "2024-09-24T00:33:29.110Z"
   },
   {
    "duration": 4,
    "start_time": "2024-09-24T00:33:33.593Z"
   },
   {
    "duration": 6,
    "start_time": "2024-09-24T00:33:38.346Z"
   },
   {
    "duration": 10,
    "start_time": "2024-09-24T01:15:48.196Z"
   },
   {
    "duration": 311,
    "start_time": "2024-09-24T01:17:14.492Z"
   },
   {
    "duration": 71,
    "start_time": "2024-09-24T01:19:46.272Z"
   },
   {
    "duration": 66,
    "start_time": "2024-09-24T01:19:50.926Z"
   },
   {
    "duration": 66,
    "start_time": "2024-09-24T01:19:56.848Z"
   },
   {
    "duration": 13,
    "start_time": "2024-09-24T01:23:11.886Z"
   },
   {
    "duration": 19,
    "start_time": "2024-09-24T01:24:12.665Z"
   },
   {
    "duration": 16,
    "start_time": "2024-09-24T01:28:40.611Z"
   },
   {
    "duration": 9,
    "start_time": "2024-09-24T01:28:44.462Z"
   },
   {
    "duration": 5,
    "start_time": "2024-09-24T01:28:57.998Z"
   },
   {
    "duration": 4,
    "start_time": "2024-09-24T01:29:15.015Z"
   },
   {
    "duration": 43,
    "start_time": "2024-09-24T01:29:38.212Z"
   },
   {
    "duration": 11,
    "start_time": "2024-09-24T01:30:00.836Z"
   },
   {
    "duration": 26,
    "start_time": "2024-09-24T01:32:59.556Z"
   },
   {
    "duration": 9,
    "start_time": "2024-09-24T01:35:12.180Z"
   },
   {
    "duration": 11,
    "start_time": "2024-09-24T01:35:27.231Z"
   },
   {
    "duration": 4,
    "start_time": "2024-09-24T01:37:44.404Z"
   },
   {
    "duration": 47,
    "start_time": "2024-09-24T01:38:04.750Z"
   },
   {
    "duration": 4,
    "start_time": "2024-09-24T01:39:42.298Z"
   },
   {
    "duration": 43,
    "start_time": "2024-09-24T01:40:19.784Z"
   },
   {
    "duration": 5,
    "start_time": "2024-09-24T01:40:56.777Z"
   },
   {
    "duration": 4,
    "start_time": "2024-09-24T01:41:06.090Z"
   },
   {
    "duration": 19,
    "start_time": "2024-09-24T01:41:11.534Z"
   },
   {
    "duration": 5,
    "start_time": "2024-09-24T01:41:37.590Z"
   },
   {
    "duration": 5,
    "start_time": "2024-09-24T01:41:57.682Z"
   },
   {
    "duration": 5,
    "start_time": "2024-09-24T01:43:40.834Z"
   },
   {
    "duration": 20,
    "start_time": "2024-09-24T01:43:54.061Z"
   },
   {
    "duration": 14,
    "start_time": "2024-09-24T01:48:49.480Z"
   },
   {
    "duration": 14,
    "start_time": "2024-09-24T01:53:08.126Z"
   },
   {
    "duration": 3,
    "start_time": "2024-09-24T01:56:50.284Z"
   },
   {
    "duration": 4,
    "start_time": "2024-09-24T02:05:43.782Z"
   },
   {
    "duration": 20,
    "start_time": "2024-09-24T02:05:49.883Z"
   },
   {
    "duration": 5,
    "start_time": "2024-09-24T02:21:07.874Z"
   },
   {
    "duration": 4,
    "start_time": "2024-09-24T02:21:28.581Z"
   },
   {
    "duration": 22,
    "start_time": "2024-09-24T02:22:24.000Z"
   },
   {
    "duration": 51,
    "start_time": "2024-09-24T02:22:35.014Z"
   },
   {
    "duration": 5,
    "start_time": "2024-09-24T02:22:51.836Z"
   },
   {
    "duration": 6,
    "start_time": "2024-09-24T02:24:37.664Z"
   },
   {
    "duration": 5,
    "start_time": "2024-09-24T02:24:43.902Z"
   },
   {
    "duration": 6,
    "start_time": "2024-09-24T02:26:54.300Z"
   },
   {
    "duration": 19,
    "start_time": "2024-09-24T02:27:07.297Z"
   },
   {
    "duration": 21,
    "start_time": "2024-09-24T02:28:17.955Z"
   },
   {
    "duration": 22,
    "start_time": "2024-09-24T02:29:00.307Z"
   },
   {
    "duration": 22,
    "start_time": "2024-09-24T02:32:18.360Z"
   },
   {
    "duration": 20,
    "start_time": "2024-09-24T02:34:10.260Z"
   },
   {
    "duration": 21,
    "start_time": "2024-09-24T02:34:20.300Z"
   },
   {
    "duration": 49,
    "start_time": "2024-09-24T02:38:18.170Z"
   },
   {
    "duration": 3248,
    "start_time": "2024-09-24T13:59:20.962Z"
   },
   {
    "duration": 387,
    "start_time": "2024-09-24T13:59:26.623Z"
   },
   {
    "duration": 10,
    "start_time": "2024-09-24T13:59:33.298Z"
   },
   {
    "duration": 11,
    "start_time": "2024-09-24T13:59:39.319Z"
   },
   {
    "duration": 4,
    "start_time": "2024-09-24T13:59:47.518Z"
   },
   {
    "duration": 6,
    "start_time": "2024-09-24T13:59:53.257Z"
   },
   {
    "duration": 8,
    "start_time": "2024-09-24T13:59:56.414Z"
   },
   {
    "duration": 9,
    "start_time": "2024-09-24T14:00:02.514Z"
   },
   {
    "duration": 11,
    "start_time": "2024-09-24T14:00:10.822Z"
   },
   {
    "duration": 10,
    "start_time": "2024-09-24T14:00:36.156Z"
   },
   {
    "duration": 23,
    "start_time": "2024-09-24T14:00:53.271Z"
   },
   {
    "duration": 17,
    "start_time": "2024-09-24T14:01:04.458Z"
   },
   {
    "duration": 19,
    "start_time": "2024-09-24T14:02:21.069Z"
   },
   {
    "duration": 40,
    "start_time": "2024-09-24T14:02:26.486Z"
   },
   {
    "duration": 5,
    "start_time": "2024-09-24T14:02:30.364Z"
   },
   {
    "duration": 8,
    "start_time": "2024-09-24T14:02:31.908Z"
   },
   {
    "duration": 15,
    "start_time": "2024-09-24T14:02:35.015Z"
   },
   {
    "duration": 15,
    "start_time": "2024-09-24T14:02:41.082Z"
   },
   {
    "duration": 10,
    "start_time": "2024-09-24T14:02:42.867Z"
   },
   {
    "duration": 11,
    "start_time": "2024-09-24T14:02:53.152Z"
   },
   {
    "duration": 16,
    "start_time": "2024-09-24T14:02:55.929Z"
   },
   {
    "duration": 6,
    "start_time": "2024-09-24T14:03:01.806Z"
   },
   {
    "duration": 14,
    "start_time": "2024-09-24T14:03:06.128Z"
   },
   {
    "duration": 10,
    "start_time": "2024-09-24T14:03:22.578Z"
   },
   {
    "duration": 14,
    "start_time": "2024-09-24T14:03:30.197Z"
   },
   {
    "duration": 61,
    "start_time": "2024-09-24T14:03:32.380Z"
   },
   {
    "duration": 7,
    "start_time": "2024-09-24T14:03:34.879Z"
   },
   {
    "duration": 6,
    "start_time": "2024-09-24T14:03:40.557Z"
   },
   {
    "duration": 19,
    "start_time": "2024-09-24T14:03:48.091Z"
   },
   {
    "duration": 17,
    "start_time": "2024-09-24T14:03:49.847Z"
   },
   {
    "duration": 11,
    "start_time": "2024-09-24T14:03:54.979Z"
   },
   {
    "duration": 10,
    "start_time": "2024-09-24T14:03:59.269Z"
   },
   {
    "duration": 23,
    "start_time": "2024-09-24T14:04:06.139Z"
   },
   {
    "duration": 16,
    "start_time": "2024-09-24T14:04:29.194Z"
   },
   {
    "duration": 20,
    "start_time": "2024-09-24T14:04:49.490Z"
   },
   {
    "duration": 7,
    "start_time": "2024-09-24T14:56:07.775Z"
   },
   {
    "duration": 4,
    "start_time": "2024-09-24T14:56:59.278Z"
   },
   {
    "duration": 6,
    "start_time": "2024-09-24T14:57:39.869Z"
   },
   {
    "duration": 46,
    "start_time": "2024-09-24T15:05:33.974Z"
   },
   {
    "duration": 63,
    "start_time": "2024-09-24T15:05:40.869Z"
   },
   {
    "duration": 53,
    "start_time": "2024-09-24T15:24:00.594Z"
   },
   {
    "duration": 64311,
    "start_time": "2024-09-24T15:40:55.478Z"
   },
   {
    "duration": 19594,
    "start_time": "2024-09-24T15:43:52.062Z"
   },
   {
    "duration": 5,
    "start_time": "2024-09-24T15:45:07.759Z"
   },
   {
    "duration": 4,
    "start_time": "2024-09-24T15:45:11.121Z"
   },
   {
    "duration": 5,
    "start_time": "2024-09-24T15:45:15.808Z"
   },
   {
    "duration": 127,
    "start_time": "2024-09-24T15:47:34.507Z"
   },
   {
    "duration": 4334,
    "start_time": "2024-09-24T15:47:45.229Z"
   },
   {
    "duration": 384,
    "start_time": "2024-09-24T15:49:13.781Z"
   },
   {
    "duration": 7,
    "start_time": "2024-09-24T15:49:35.724Z"
   },
   {
    "duration": 173,
    "start_time": "2024-09-24T15:50:06.171Z"
   },
   {
    "duration": 5,
    "start_time": "2024-09-24T15:52:42.393Z"
   },
   {
    "duration": 8,
    "start_time": "2024-09-24T15:52:46.370Z"
   },
   {
    "duration": 6,
    "start_time": "2024-09-24T15:53:58.218Z"
   },
   {
    "duration": 11,
    "start_time": "2024-09-24T15:54:02.458Z"
   },
   {
    "duration": 230,
    "start_time": "2024-09-24T15:54:18.397Z"
   },
   {
    "duration": 176,
    "start_time": "2024-09-24T15:54:38.344Z"
   },
   {
    "duration": 8,
    "start_time": "2024-09-24T15:56:11.397Z"
   },
   {
    "duration": 56,
    "start_time": "2024-09-24T15:58:28.888Z"
   },
   {
    "duration": 12,
    "start_time": "2024-09-24T15:58:56.470Z"
   },
   {
    "duration": 164,
    "start_time": "2024-09-24T15:59:08.666Z"
   },
   {
    "duration": 7,
    "start_time": "2024-09-24T15:59:21.217Z"
   },
   {
    "duration": 12,
    "start_time": "2024-09-24T15:59:26.182Z"
   },
   {
    "duration": 253,
    "start_time": "2024-09-24T16:02:33.466Z"
   },
   {
    "duration": 195,
    "start_time": "2024-09-24T16:03:13.621Z"
   },
   {
    "duration": 43,
    "start_time": "2024-09-24T16:07:39.775Z"
   },
   {
    "duration": 6,
    "start_time": "2024-09-24T16:08:08.239Z"
   },
   {
    "duration": 15,
    "start_time": "2024-09-24T16:09:40.326Z"
   },
   {
    "duration": 127,
    "start_time": "2024-09-24T16:09:45.462Z"
   },
   {
    "duration": 43,
    "start_time": "2024-09-24T16:09:59.721Z"
   },
   {
    "duration": 20,
    "start_time": "2024-09-24T16:10:41.812Z"
   },
   {
    "duration": 6,
    "start_time": "2024-09-24T16:11:08.202Z"
   },
   {
    "duration": 32,
    "start_time": "2024-09-24T16:11:34.341Z"
   },
   {
    "duration": 10,
    "start_time": "2024-09-24T16:12:01.497Z"
   },
   {
    "duration": 15,
    "start_time": "2024-09-24T16:14:23.585Z"
   },
   {
    "duration": 6,
    "start_time": "2024-09-24T16:14:50.620Z"
   },
   {
    "duration": 8,
    "start_time": "2024-09-24T16:15:02.021Z"
   },
   {
    "duration": 407,
    "start_time": "2024-09-24T16:17:31.236Z"
   },
   {
    "duration": 23,
    "start_time": "2024-09-24T16:17:50.479Z"
   },
   {
    "duration": 14,
    "start_time": "2024-09-24T16:18:15.329Z"
   },
   {
    "duration": 147,
    "start_time": "2024-09-24T16:19:18.423Z"
   },
   {
    "duration": 146,
    "start_time": "2024-09-24T16:19:36.745Z"
   },
   {
    "duration": 161,
    "start_time": "2024-09-24T16:24:48.319Z"
   },
   {
    "duration": 148,
    "start_time": "2024-09-24T16:26:17.330Z"
   },
   {
    "duration": 4,
    "start_time": "2024-09-24T17:50:14.223Z"
   },
   {
    "duration": 10,
    "start_time": "2024-09-24T17:50:18.116Z"
   },
   {
    "duration": 149,
    "start_time": "2024-09-24T17:51:00.481Z"
   },
   {
    "duration": 9,
    "start_time": "2024-09-24T17:51:37.537Z"
   },
   {
    "duration": 111,
    "start_time": "2024-09-24T17:52:04.407Z"
   },
   {
    "duration": 101,
    "start_time": "2024-09-24T17:53:48.732Z"
   },
   {
    "duration": 12,
    "start_time": "2024-09-24T17:55:50.539Z"
   },
   {
    "duration": 9,
    "start_time": "2024-09-24T17:56:17.953Z"
   },
   {
    "duration": 13,
    "start_time": "2024-09-24T18:00:46.963Z"
   },
   {
    "duration": 8,
    "start_time": "2024-09-24T18:11:13.726Z"
   },
   {
    "duration": 3,
    "start_time": "2024-09-24T18:11:30.844Z"
   },
   {
    "duration": 4,
    "start_time": "2024-09-24T18:11:35.519Z"
   },
   {
    "duration": 12,
    "start_time": "2024-09-24T18:11:54.404Z"
   },
   {
    "duration": 15,
    "start_time": "2024-09-24T18:12:27.284Z"
   },
   {
    "duration": 155,
    "start_time": "2024-09-24T18:12:34.341Z"
   },
   {
    "duration": 7,
    "start_time": "2024-09-24T18:12:49.924Z"
   },
   {
    "duration": 4,
    "start_time": "2024-09-24T18:14:24.126Z"
   },
   {
    "duration": 16,
    "start_time": "2024-09-24T18:16:21.821Z"
   },
   {
    "duration": 3,
    "start_time": "2024-09-24T18:16:36.088Z"
   },
   {
    "duration": 4,
    "start_time": "2024-09-24T18:17:51.587Z"
   },
   {
    "duration": 7,
    "start_time": "2024-09-24T18:19:10.500Z"
   },
   {
    "duration": 5,
    "start_time": "2024-09-24T18:23:30.243Z"
   },
   {
    "duration": 4,
    "start_time": "2024-09-24T18:23:52.720Z"
   },
   {
    "duration": 2,
    "start_time": "2024-09-24T18:25:28.696Z"
   },
   {
    "duration": 64,
    "start_time": "2024-09-24T18:28:41.988Z"
   },
   {
    "duration": 63,
    "start_time": "2024-09-24T18:30:27.595Z"
   },
   {
    "duration": 501,
    "start_time": "2024-09-24T18:32:53.122Z"
   },
   {
    "duration": 3,
    "start_time": "2024-09-24T18:33:35.522Z"
   },
   {
    "duration": 116,
    "start_time": "2024-09-24T18:33:39.769Z"
   },
   {
    "duration": 4,
    "start_time": "2024-09-24T18:33:54.356Z"
   },
   {
    "duration": 115,
    "start_time": "2024-09-24T18:33:58.921Z"
   },
   {
    "duration": 2,
    "start_time": "2024-09-24T18:34:20.826Z"
   },
   {
    "duration": 14,
    "start_time": "2024-09-24T19:56:37.169Z"
   },
   {
    "duration": 113,
    "start_time": "2024-09-24T19:56:45.073Z"
   },
   {
    "duration": 146,
    "start_time": "2024-09-24T19:57:45.527Z"
   },
   {
    "duration": 147,
    "start_time": "2024-09-24T19:58:43.597Z"
   },
   {
    "duration": 145,
    "start_time": "2024-09-24T19:58:56.456Z"
   },
   {
    "duration": 145,
    "start_time": "2024-09-24T19:59:21.626Z"
   },
   {
    "duration": 146,
    "start_time": "2024-09-24T19:59:36.097Z"
   },
   {
    "duration": 4,
    "start_time": "2024-09-24T20:06:51.620Z"
   },
   {
    "duration": 4,
    "start_time": "2024-09-24T20:06:53.309Z"
   },
   {
    "duration": 4,
    "start_time": "2024-09-24T20:07:12.926Z"
   },
   {
    "duration": 74,
    "start_time": "2024-09-24T20:09:47.700Z"
   },
   {
    "duration": 154,
    "start_time": "2024-09-24T20:11:32.175Z"
   },
   {
    "duration": 154,
    "start_time": "2024-09-24T20:11:37.518Z"
   },
   {
    "duration": 73,
    "start_time": "2024-09-24T20:14:07.081Z"
   },
   {
    "duration": 74,
    "start_time": "2024-09-24T20:15:05.434Z"
   },
   {
    "duration": 23,
    "start_time": "2024-09-24T20:16:08.918Z"
   },
   {
    "duration": 81,
    "start_time": "2024-09-24T20:16:21.600Z"
   },
   {
    "duration": 13,
    "start_time": "2024-09-24T20:52:54.477Z"
   },
   {
    "duration": 152,
    "start_time": "2024-09-24T20:54:25.770Z"
   },
   {
    "duration": 147,
    "start_time": "2024-09-24T20:54:32.799Z"
   },
   {
    "duration": 152,
    "start_time": "2024-09-24T20:56:07.161Z"
   },
   {
    "duration": 15,
    "start_time": "2024-09-24T20:58:29.566Z"
   },
   {
    "duration": 15,
    "start_time": "2024-09-24T20:58:36.640Z"
   },
   {
    "duration": 3,
    "start_time": "2024-09-24T20:59:40.127Z"
   },
   {
    "duration": 4,
    "start_time": "2024-09-24T21:00:26.019Z"
   },
   {
    "duration": 4,
    "start_time": "2024-09-24T21:00:26.927Z"
   },
   {
    "duration": 76,
    "start_time": "2024-09-24T21:00:38.462Z"
   },
   {
    "duration": 82,
    "start_time": "2024-09-24T21:00:51.920Z"
   },
   {
    "duration": 4,
    "start_time": "2024-09-24T21:03:14.302Z"
   },
   {
    "duration": 76,
    "start_time": "2024-09-24T21:04:03.211Z"
   },
   {
    "duration": 74,
    "start_time": "2024-09-24T21:04:18.844Z"
   },
   {
    "duration": 13,
    "start_time": "2024-09-24T21:23:03.360Z"
   },
   {
    "duration": 166,
    "start_time": "2024-09-24T21:23:57.851Z"
   },
   {
    "duration": 152,
    "start_time": "2024-09-24T21:29:43.564Z"
   },
   {
    "duration": 5,
    "start_time": "2024-09-24T21:31:16.090Z"
   },
   {
    "duration": 5,
    "start_time": "2024-09-24T21:31:43.567Z"
   },
   {
    "duration": 4,
    "start_time": "2024-09-24T21:33:23.751Z"
   },
   {
    "duration": 280,
    "start_time": "2024-09-24T21:34:37.368Z"
   },
   {
    "duration": 74,
    "start_time": "2024-09-24T21:34:57.321Z"
   },
   {
    "duration": 172,
    "start_time": "2024-09-24T21:44:26.958Z"
   },
   {
    "duration": 2482,
    "start_time": "2024-09-25T14:47:44.271Z"
   },
   {
    "duration": 254,
    "start_time": "2024-09-25T14:47:48.918Z"
   },
   {
    "duration": 9,
    "start_time": "2024-09-25T14:47:52.492Z"
   },
   {
    "duration": 11,
    "start_time": "2024-09-25T14:47:53.964Z"
   },
   {
    "duration": 3,
    "start_time": "2024-09-25T14:48:01.815Z"
   },
   {
    "duration": 6,
    "start_time": "2024-09-25T14:48:04.120Z"
   },
   {
    "duration": 8,
    "start_time": "2024-09-25T14:48:06.085Z"
   },
   {
    "duration": 8,
    "start_time": "2024-09-25T14:48:12.264Z"
   },
   {
    "duration": 11,
    "start_time": "2024-09-25T14:48:13.623Z"
   },
   {
    "duration": 5,
    "start_time": "2024-09-25T14:49:14.224Z"
   },
   {
    "duration": 15,
    "start_time": "2024-09-25T14:49:19.169Z"
   },
   {
    "duration": 9,
    "start_time": "2024-09-25T14:49:20.273Z"
   },
   {
    "duration": 17,
    "start_time": "2024-09-25T14:49:27.738Z"
   },
   {
    "duration": 32,
    "start_time": "2024-09-25T14:49:30.217Z"
   },
   {
    "duration": 5,
    "start_time": "2024-09-25T14:49:31.364Z"
   },
   {
    "duration": 8,
    "start_time": "2024-09-25T14:49:33.008Z"
   },
   {
    "duration": 13,
    "start_time": "2024-09-25T14:49:34.171Z"
   },
   {
    "duration": 12,
    "start_time": "2024-09-25T14:49:40.065Z"
   },
   {
    "duration": 8,
    "start_time": "2024-09-25T14:49:41.246Z"
   },
   {
    "duration": 10,
    "start_time": "2024-09-25T14:49:48.866Z"
   },
   {
    "duration": 15,
    "start_time": "2024-09-25T14:49:51.584Z"
   },
   {
    "duration": 6,
    "start_time": "2024-09-25T14:49:52.679Z"
   },
   {
    "duration": 14,
    "start_time": "2024-09-25T14:49:55.344Z"
   },
   {
    "duration": 9,
    "start_time": "2024-09-25T14:49:56.561Z"
   },
   {
    "duration": 12,
    "start_time": "2024-09-25T14:50:04.332Z"
   },
   {
    "duration": 41,
    "start_time": "2024-09-25T14:50:06.881Z"
   },
   {
    "duration": 6,
    "start_time": "2024-09-25T14:50:11.412Z"
   },
   {
    "duration": 3,
    "start_time": "2024-09-25T14:50:19.047Z"
   },
   {
    "duration": 15,
    "start_time": "2024-09-25T14:50:26.236Z"
   },
   {
    "duration": 15,
    "start_time": "2024-09-25T14:50:27.400Z"
   },
   {
    "duration": 11,
    "start_time": "2024-09-25T14:50:28.649Z"
   },
   {
    "duration": 9,
    "start_time": "2024-09-25T14:50:29.808Z"
   },
   {
    "duration": 22,
    "start_time": "2024-09-25T14:50:36.324Z"
   },
   {
    "duration": 16,
    "start_time": "2024-09-25T14:50:37.657Z"
   },
   {
    "duration": 20,
    "start_time": "2024-09-25T14:50:38.792Z"
   },
   {
    "duration": 4,
    "start_time": "2024-09-25T14:50:45.909Z"
   },
   {
    "duration": 211,
    "start_time": "2024-09-25T14:50:46.920Z"
   },
   {
    "duration": 68,
    "start_time": "2024-09-25T14:51:36.200Z"
   },
   {
    "duration": 14,
    "start_time": "2024-09-25T14:51:48.815Z"
   },
   {
    "duration": 168,
    "start_time": "2024-09-25T14:51:49.800Z"
   },
   {
    "duration": 210,
    "start_time": "2024-09-25T14:51:50.671Z"
   },
   {
    "duration": 4,
    "start_time": "2024-09-25T14:51:57.816Z"
   },
   {
    "duration": 4,
    "start_time": "2024-09-25T14:51:59.476Z"
   },
   {
    "duration": 75,
    "start_time": "2024-09-25T14:52:05.005Z"
   },
   {
    "duration": 75,
    "start_time": "2024-09-25T14:52:06.598Z"
   },
   {
    "duration": 14,
    "start_time": "2024-09-25T14:52:15.652Z"
   },
   {
    "duration": 154,
    "start_time": "2024-09-25T14:52:17.109Z"
   },
   {
    "duration": 154,
    "start_time": "2024-09-25T14:52:22.376Z"
   },
   {
    "duration": 4,
    "start_time": "2024-09-25T14:52:29.729Z"
   },
   {
    "duration": 3,
    "start_time": "2024-09-25T14:52:30.843Z"
   },
   {
    "duration": 77,
    "start_time": "2024-09-25T14:52:36.252Z"
   },
   {
    "duration": 77,
    "start_time": "2024-09-25T14:52:37.594Z"
   },
   {
    "duration": 13,
    "start_time": "2024-09-25T14:52:45.138Z"
   },
   {
    "duration": 163,
    "start_time": "2024-09-25T14:52:46.238Z"
   },
   {
    "duration": 151,
    "start_time": "2024-09-25T14:52:47.318Z"
   },
   {
    "duration": 4,
    "start_time": "2024-09-25T14:52:52.515Z"
   },
   {
    "duration": 4,
    "start_time": "2024-09-25T14:52:53.519Z"
   },
   {
    "duration": 79,
    "start_time": "2024-09-25T14:52:54.990Z"
   },
   {
    "duration": 74,
    "start_time": "2024-09-25T14:52:55.972Z"
   },
   {
    "duration": 15,
    "start_time": "2024-09-25T14:57:29.931Z"
   },
   {
    "duration": 6,
    "start_time": "2024-09-25T14:57:34.994Z"
   },
   {
    "duration": 5,
    "start_time": "2024-09-25T14:59:19.343Z"
   },
   {
    "duration": 13,
    "start_time": "2024-09-25T15:01:38.581Z"
   },
   {
    "duration": 7,
    "start_time": "2024-09-25T15:01:51.654Z"
   },
   {
    "duration": 5,
    "start_time": "2024-09-25T15:05:14.552Z"
   },
   {
    "duration": 5,
    "start_time": "2024-09-25T15:06:50.981Z"
   },
   {
    "duration": 250,
    "start_time": "2024-09-25T15:07:06.972Z"
   },
   {
    "duration": 428,
    "start_time": "2024-09-25T15:11:35.919Z"
   },
   {
    "duration": 45,
    "start_time": "2024-09-25T15:12:08.653Z"
   },
   {
    "duration": 16,
    "start_time": "2024-09-25T15:12:22.660Z"
   },
   {
    "duration": 13,
    "start_time": "2024-09-25T15:13:11.922Z"
   },
   {
    "duration": 9,
    "start_time": "2024-09-25T15:14:02.383Z"
   },
   {
    "duration": 212,
    "start_time": "2024-09-25T15:18:33.293Z"
   },
   {
    "duration": 334,
    "start_time": "2024-09-25T15:19:47.540Z"
   },
   {
    "duration": 47,
    "start_time": "2024-09-25T15:25:08.032Z"
   },
   {
    "duration": 13,
    "start_time": "2024-09-25T15:25:33.658Z"
   },
   {
    "duration": 13,
    "start_time": "2024-09-25T15:26:16.466Z"
   },
   {
    "duration": 9,
    "start_time": "2024-09-25T15:29:05.298Z"
   },
   {
    "duration": 162,
    "start_time": "2024-09-25T15:29:16.729Z"
   },
   {
    "duration": 142,
    "start_time": "2024-09-25T15:29:30.534Z"
   },
   {
    "duration": 186,
    "start_time": "2024-09-25T15:31:26.310Z"
   },
   {
    "duration": 3,
    "start_time": "2024-09-25T15:35:22.231Z"
   },
   {
    "duration": 5,
    "start_time": "2024-09-25T15:36:41.025Z"
   },
   {
    "duration": 4,
    "start_time": "2024-09-25T15:36:55.674Z"
   },
   {
    "duration": 142,
    "start_time": "2024-09-25T15:38:39.995Z"
   },
   {
    "duration": 72,
    "start_time": "2024-09-25T15:40:08.525Z"
   },
   {
    "duration": 13,
    "start_time": "2024-09-25T15:40:36.196Z"
   },
   {
    "duration": 69,
    "start_time": "2024-09-25T15:40:44.408Z"
   },
   {
    "duration": 72,
    "start_time": "2024-09-25T15:40:54.937Z"
   },
   {
    "duration": 73,
    "start_time": "2024-09-25T15:41:02.168Z"
   },
   {
    "duration": 7,
    "start_time": "2024-09-25T17:15:15.701Z"
   },
   {
    "duration": 4,
    "start_time": "2024-09-25T17:15:27.038Z"
   },
   {
    "duration": 5,
    "start_time": "2024-09-25T17:19:48.224Z"
   },
   {
    "duration": 3,
    "start_time": "2024-09-25T17:20:19.205Z"
   },
   {
    "duration": 5,
    "start_time": "2024-09-25T17:20:40.777Z"
   },
   {
    "duration": 4,
    "start_time": "2024-09-25T17:20:48.464Z"
   },
   {
    "duration": 4,
    "start_time": "2024-09-25T17:27:47.435Z"
   },
   {
    "duration": 12,
    "start_time": "2024-09-25T17:33:59.608Z"
   },
   {
    "duration": 4,
    "start_time": "2024-09-25T17:34:04.372Z"
   },
   {
    "duration": 4,
    "start_time": "2024-09-25T17:34:21.359Z"
   },
   {
    "duration": 4,
    "start_time": "2024-09-25T17:53:08.135Z"
   },
   {
    "duration": 13,
    "start_time": "2024-09-25T17:54:08.229Z"
   },
   {
    "duration": 4,
    "start_time": "2024-09-25T17:54:12.995Z"
   },
   {
    "duration": 3,
    "start_time": "2024-09-25T17:54:18.807Z"
   },
   {
    "duration": 434,
    "start_time": "2024-09-25T17:55:52.759Z"
   },
   {
    "duration": 16,
    "start_time": "2024-09-25T17:56:06.487Z"
   },
   {
    "duration": 21,
    "start_time": "2024-09-25T17:57:01.175Z"
   },
   {
    "duration": 6,
    "start_time": "2024-09-25T17:57:17.991Z"
   },
   {
    "duration": 70,
    "start_time": "2024-09-25T17:57:20.039Z"
   },
   {
    "duration": 14,
    "start_time": "2024-09-25T17:57:29.140Z"
   },
   {
    "duration": 824,
    "start_time": "2024-09-25T17:57:54.792Z"
   },
   {
    "duration": 157,
    "start_time": "2024-09-25T17:57:55.618Z"
   },
   {
    "duration": 9,
    "start_time": "2024-09-25T17:57:55.777Z"
   },
   {
    "duration": 10,
    "start_time": "2024-09-25T17:57:55.788Z"
   },
   {
    "duration": 3,
    "start_time": "2024-09-25T17:57:55.800Z"
   },
   {
    "duration": 5,
    "start_time": "2024-09-25T17:57:55.812Z"
   },
   {
    "duration": 8,
    "start_time": "2024-09-25T17:57:55.818Z"
   },
   {
    "duration": 9,
    "start_time": "2024-09-25T17:57:55.827Z"
   },
   {
    "duration": 8,
    "start_time": "2024-09-25T17:57:55.838Z"
   },
   {
    "duration": 4,
    "start_time": "2024-09-25T17:57:55.850Z"
   },
   {
    "duration": 15,
    "start_time": "2024-09-25T17:57:55.856Z"
   },
   {
    "duration": 47,
    "start_time": "2024-09-25T17:57:55.873Z"
   },
   {
    "duration": 16,
    "start_time": "2024-09-25T17:57:55.922Z"
   },
   {
    "duration": 33,
    "start_time": "2024-09-25T17:57:55.940Z"
   },
   {
    "duration": 5,
    "start_time": "2024-09-25T17:57:55.975Z"
   },
   {
    "duration": 32,
    "start_time": "2024-09-25T17:57:55.982Z"
   },
   {
    "duration": 12,
    "start_time": "2024-09-25T17:57:56.016Z"
   },
   {
    "duration": 12,
    "start_time": "2024-09-25T17:57:56.030Z"
   },
   {
    "duration": 8,
    "start_time": "2024-09-25T17:57:56.043Z"
   },
   {
    "duration": 10,
    "start_time": "2024-09-25T17:57:56.052Z"
   },
   {
    "duration": 14,
    "start_time": "2024-09-25T17:57:56.063Z"
   },
   {
    "duration": 6,
    "start_time": "2024-09-25T17:57:56.111Z"
   },
   {
    "duration": 12,
    "start_time": "2024-09-25T17:57:56.119Z"
   },
   {
    "duration": 8,
    "start_time": "2024-09-25T17:57:56.133Z"
   },
   {
    "duration": 13,
    "start_time": "2024-09-25T17:57:56.144Z"
   },
   {
    "duration": 66,
    "start_time": "2024-09-25T17:57:56.158Z"
   },
   {
    "duration": 7,
    "start_time": "2024-09-25T17:57:56.227Z"
   },
   {
    "duration": 3,
    "start_time": "2024-09-25T17:57:56.238Z"
   },
   {
    "duration": 15,
    "start_time": "2024-09-25T17:57:56.243Z"
   },
   {
    "duration": 15,
    "start_time": "2024-09-25T17:57:56.259Z"
   },
   {
    "duration": 37,
    "start_time": "2024-09-25T17:57:56.275Z"
   },
   {
    "duration": 8,
    "start_time": "2024-09-25T17:57:56.314Z"
   },
   {
    "duration": 22,
    "start_time": "2024-09-25T17:57:56.324Z"
   },
   {
    "duration": 16,
    "start_time": "2024-09-25T17:57:56.348Z"
   },
   {
    "duration": 49,
    "start_time": "2024-09-25T17:57:56.365Z"
   },
   {
    "duration": 4,
    "start_time": "2024-09-25T17:57:56.416Z"
   },
   {
    "duration": 72,
    "start_time": "2024-09-25T17:57:56.423Z"
   },
   {
    "duration": 26,
    "start_time": "2024-09-25T17:57:56.497Z"
   },
   {
    "duration": 228,
    "start_time": "2024-09-25T17:57:56.525Z"
   },
   {
    "duration": 162,
    "start_time": "2024-09-25T17:57:56.755Z"
   },
   {
    "duration": 4,
    "start_time": "2024-09-25T17:57:56.919Z"
   },
   {
    "duration": 5,
    "start_time": "2024-09-25T17:57:56.924Z"
   },
   {
    "duration": 94,
    "start_time": "2024-09-25T17:57:56.931Z"
   },
   {
    "duration": 85,
    "start_time": "2024-09-25T17:57:57.028Z"
   },
   {
    "duration": 13,
    "start_time": "2024-09-25T17:57:57.114Z"
   },
   {
    "duration": 161,
    "start_time": "2024-09-25T17:57:57.129Z"
   },
   {
    "duration": 157,
    "start_time": "2024-09-25T17:57:57.292Z"
   },
   {
    "duration": 4,
    "start_time": "2024-09-25T17:57:57.450Z"
   },
   {
    "duration": 5,
    "start_time": "2024-09-25T17:57:57.456Z"
   },
   {
    "duration": 96,
    "start_time": "2024-09-25T17:57:57.462Z"
   },
   {
    "duration": 87,
    "start_time": "2024-09-25T17:57:57.561Z"
   },
   {
    "duration": 14,
    "start_time": "2024-09-25T17:57:57.650Z"
   },
   {
    "duration": 172,
    "start_time": "2024-09-25T17:57:57.665Z"
   },
   {
    "duration": 157,
    "start_time": "2024-09-25T17:57:57.839Z"
   },
   {
    "duration": 13,
    "start_time": "2024-09-25T17:57:57.998Z"
   },
   {
    "duration": 4,
    "start_time": "2024-09-25T17:57:58.013Z"
   },
   {
    "duration": 151,
    "start_time": "2024-09-25T17:57:58.019Z"
   },
   {
    "duration": 84,
    "start_time": "2024-09-25T17:57:58.171Z"
   },
   {
    "duration": 10,
    "start_time": "2024-09-25T17:57:58.257Z"
   },
   {
    "duration": 158,
    "start_time": "2024-09-25T17:57:58.268Z"
   },
   {
    "duration": 5,
    "start_time": "2024-09-25T17:57:58.428Z"
   },
   {
    "duration": 87,
    "start_time": "2024-09-25T17:57:58.434Z"
   },
   {
    "duration": 88,
    "start_time": "2024-09-25T17:57:58.523Z"
   },
   {
    "duration": 4,
    "start_time": "2024-09-25T17:57:58.614Z"
   },
   {
    "duration": 5,
    "start_time": "2024-09-25T18:10:49.060Z"
   },
   {
    "duration": 8,
    "start_time": "2024-09-25T18:11:28.734Z"
   },
   {
    "duration": 5,
    "start_time": "2024-09-25T18:11:59.405Z"
   },
   {
    "duration": 7,
    "start_time": "2024-09-25T18:13:02.124Z"
   },
   {
    "duration": 8,
    "start_time": "2024-09-25T19:06:11.108Z"
   },
   {
    "duration": 638,
    "start_time": "2024-09-25T20:54:40.953Z"
   },
   {
    "duration": 14,
    "start_time": "2024-09-25T20:54:53.314Z"
   },
   {
    "duration": 3,
    "start_time": "2024-09-25T20:55:00.127Z"
   },
   {
    "duration": 827,
    "start_time": "2024-09-25T20:55:28.469Z"
   },
   {
    "duration": 158,
    "start_time": "2024-09-25T20:55:29.298Z"
   },
   {
    "duration": 9,
    "start_time": "2024-09-25T20:55:29.457Z"
   },
   {
    "duration": 10,
    "start_time": "2024-09-25T20:55:29.468Z"
   },
   {
    "duration": 3,
    "start_time": "2024-09-25T20:55:29.480Z"
   },
   {
    "duration": 4,
    "start_time": "2024-09-25T20:55:29.484Z"
   },
   {
    "duration": 24,
    "start_time": "2024-09-25T20:55:29.490Z"
   },
   {
    "duration": 8,
    "start_time": "2024-09-25T20:55:29.516Z"
   },
   {
    "duration": 9,
    "start_time": "2024-09-25T20:55:29.526Z"
   },
   {
    "duration": 4,
    "start_time": "2024-09-25T20:55:29.537Z"
   },
   {
    "duration": 3,
    "start_time": "2024-09-25T20:55:29.543Z"
   },
   {
    "duration": 14,
    "start_time": "2024-09-25T20:55:29.548Z"
   },
   {
    "duration": 10,
    "start_time": "2024-09-25T20:55:29.564Z"
   },
   {
    "duration": 49,
    "start_time": "2024-09-25T20:55:29.577Z"
   },
   {
    "duration": 31,
    "start_time": "2024-09-25T20:55:29.627Z"
   },
   {
    "duration": 4,
    "start_time": "2024-09-25T20:55:29.660Z"
   },
   {
    "duration": 8,
    "start_time": "2024-09-25T20:55:29.666Z"
   },
   {
    "duration": 37,
    "start_time": "2024-09-25T20:55:29.675Z"
   },
   {
    "duration": 12,
    "start_time": "2024-09-25T20:55:29.714Z"
   },
   {
    "duration": 8,
    "start_time": "2024-09-25T20:55:29.728Z"
   },
   {
    "duration": 10,
    "start_time": "2024-09-25T20:55:29.737Z"
   },
   {
    "duration": 15,
    "start_time": "2024-09-25T20:55:29.748Z"
   },
   {
    "duration": 5,
    "start_time": "2024-09-25T20:55:29.765Z"
   },
   {
    "duration": 50,
    "start_time": "2024-09-25T20:55:29.772Z"
   },
   {
    "duration": 9,
    "start_time": "2024-09-25T20:55:29.824Z"
   },
   {
    "duration": 13,
    "start_time": "2024-09-25T20:55:29.835Z"
   },
   {
    "duration": 40,
    "start_time": "2024-09-25T20:55:29.850Z"
   },
   {
    "duration": 7,
    "start_time": "2024-09-25T20:55:29.911Z"
   },
   {
    "duration": 3,
    "start_time": "2024-09-25T20:55:29.920Z"
   },
   {
    "duration": 15,
    "start_time": "2024-09-25T20:55:29.925Z"
   },
   {
    "duration": 16,
    "start_time": "2024-09-25T20:55:29.942Z"
   },
   {
    "duration": 11,
    "start_time": "2024-09-25T20:55:29.959Z"
   },
   {
    "duration": 45,
    "start_time": "2024-09-25T20:55:29.972Z"
   },
   {
    "duration": 22,
    "start_time": "2024-09-25T20:55:30.018Z"
   },
   {
    "duration": 16,
    "start_time": "2024-09-25T20:55:30.042Z"
   },
   {
    "duration": 19,
    "start_time": "2024-09-25T20:55:30.059Z"
   },
   {
    "duration": 4,
    "start_time": "2024-09-25T20:55:30.079Z"
   },
   {
    "duration": 95,
    "start_time": "2024-09-25T20:55:30.085Z"
   },
   {
    "duration": 14,
    "start_time": "2024-09-25T20:55:30.183Z"
   },
   {
    "duration": 210,
    "start_time": "2024-09-25T20:55:30.211Z"
   },
   {
    "duration": 163,
    "start_time": "2024-09-25T20:55:30.427Z"
   },
   {
    "duration": 5,
    "start_time": "2024-09-25T20:55:30.591Z"
   },
   {
    "duration": 13,
    "start_time": "2024-09-25T20:55:30.598Z"
   },
   {
    "duration": 70,
    "start_time": "2024-09-25T20:55:30.613Z"
   },
   {
    "duration": 88,
    "start_time": "2024-09-25T20:55:30.685Z"
   },
   {
    "duration": 13,
    "start_time": "2024-09-25T20:55:30.775Z"
   },
   {
    "duration": 167,
    "start_time": "2024-09-25T20:55:30.790Z"
   },
   {
    "duration": 154,
    "start_time": "2024-09-25T20:55:30.959Z"
   },
   {
    "duration": 4,
    "start_time": "2024-09-25T20:55:31.115Z"
   },
   {
    "duration": 4,
    "start_time": "2024-09-25T20:55:31.121Z"
   },
   {
    "duration": 95,
    "start_time": "2024-09-25T20:55:31.127Z"
   },
   {
    "duration": 99,
    "start_time": "2024-09-25T20:55:31.224Z"
   },
   {
    "duration": 18,
    "start_time": "2024-09-25T20:55:31.325Z"
   },
   {
    "duration": 173,
    "start_time": "2024-09-25T20:55:31.345Z"
   },
   {
    "duration": 160,
    "start_time": "2024-09-25T20:55:31.521Z"
   },
   {
    "duration": 4,
    "start_time": "2024-09-25T20:55:31.683Z"
   },
   {
    "duration": 4,
    "start_time": "2024-09-25T20:55:31.689Z"
   },
   {
    "duration": 154,
    "start_time": "2024-09-25T20:55:31.694Z"
   },
   {
    "duration": 82,
    "start_time": "2024-09-25T20:55:31.849Z"
   },
   {
    "duration": 9,
    "start_time": "2024-09-25T20:55:31.933Z"
   },
   {
    "duration": 162,
    "start_time": "2024-09-25T20:55:31.944Z"
   },
   {
    "duration": 5,
    "start_time": "2024-09-25T20:55:32.107Z"
   },
   {
    "duration": 67,
    "start_time": "2024-09-25T20:55:32.114Z"
   },
   {
    "duration": 87,
    "start_time": "2024-09-25T20:55:32.182Z"
   },
   {
    "duration": 9,
    "start_time": "2024-09-25T20:55:32.273Z"
   },
   {
    "duration": 6,
    "start_time": "2024-09-25T20:55:32.285Z"
   },
   {
    "duration": 786,
    "start_time": "2024-09-25T21:08:52.117Z"
   },
   {
    "duration": 154,
    "start_time": "2024-09-25T21:08:52.905Z"
   },
   {
    "duration": 9,
    "start_time": "2024-09-25T21:08:53.061Z"
   },
   {
    "duration": 9,
    "start_time": "2024-09-25T21:08:53.073Z"
   },
   {
    "duration": 3,
    "start_time": "2024-09-25T21:08:53.084Z"
   },
   {
    "duration": 22,
    "start_time": "2024-09-25T21:08:53.089Z"
   },
   {
    "duration": 10,
    "start_time": "2024-09-25T21:08:53.113Z"
   },
   {
    "duration": 8,
    "start_time": "2024-09-25T21:08:53.125Z"
   },
   {
    "duration": 8,
    "start_time": "2024-09-25T21:08:53.135Z"
   },
   {
    "duration": 4,
    "start_time": "2024-09-25T21:08:53.147Z"
   },
   {
    "duration": 4,
    "start_time": "2024-09-25T21:08:53.153Z"
   },
   {
    "duration": 15,
    "start_time": "2024-09-25T21:08:53.159Z"
   },
   {
    "duration": 44,
    "start_time": "2024-09-25T21:08:53.176Z"
   },
   {
    "duration": 19,
    "start_time": "2024-09-25T21:08:53.221Z"
   },
   {
    "duration": 41,
    "start_time": "2024-09-25T21:08:53.243Z"
   },
   {
    "duration": 5,
    "start_time": "2024-09-25T21:08:53.286Z"
   },
   {
    "duration": 25,
    "start_time": "2024-09-25T21:08:53.292Z"
   },
   {
    "duration": 13,
    "start_time": "2024-09-25T21:08:53.319Z"
   },
   {
    "duration": 11,
    "start_time": "2024-09-25T21:08:53.333Z"
   },
   {
    "duration": 7,
    "start_time": "2024-09-25T21:08:53.346Z"
   },
   {
    "duration": 9,
    "start_time": "2024-09-25T21:08:53.354Z"
   },
   {
    "duration": 47,
    "start_time": "2024-09-25T21:08:53.365Z"
   },
   {
    "duration": 6,
    "start_time": "2024-09-25T21:08:53.415Z"
   },
   {
    "duration": 14,
    "start_time": "2024-09-25T21:08:53.422Z"
   },
   {
    "duration": 9,
    "start_time": "2024-09-25T21:08:53.437Z"
   },
   {
    "duration": 13,
    "start_time": "2024-09-25T21:08:53.447Z"
   },
   {
    "duration": 70,
    "start_time": "2024-09-25T21:08:53.461Z"
   },
   {
    "duration": 6,
    "start_time": "2024-09-25T21:08:53.536Z"
   },
   {
    "duration": 5,
    "start_time": "2024-09-25T21:08:53.543Z"
   },
   {
    "duration": 13,
    "start_time": "2024-09-25T21:08:53.549Z"
   },
   {
    "duration": 11,
    "start_time": "2024-09-25T21:08:53.563Z"
   },
   {
    "duration": 8,
    "start_time": "2024-09-25T21:08:53.575Z"
   },
   {
    "duration": 31,
    "start_time": "2024-09-25T21:08:53.584Z"
   },
   {
    "duration": 23,
    "start_time": "2024-09-25T21:08:53.617Z"
   },
   {
    "duration": 18,
    "start_time": "2024-09-25T21:08:53.641Z"
   },
   {
    "duration": 19,
    "start_time": "2024-09-25T21:08:53.660Z"
   },
   {
    "duration": 4,
    "start_time": "2024-09-25T21:08:53.681Z"
   },
   {
    "duration": 94,
    "start_time": "2024-09-25T21:08:53.686Z"
   },
   {
    "duration": 13,
    "start_time": "2024-09-25T21:08:53.782Z"
   },
   {
    "duration": 209,
    "start_time": "2024-09-25T21:08:53.812Z"
   },
   {
    "duration": 175,
    "start_time": "2024-09-25T21:08:54.023Z"
   },
   {
    "duration": 3,
    "start_time": "2024-09-25T21:08:54.200Z"
   },
   {
    "duration": 4,
    "start_time": "2024-09-25T21:08:54.211Z"
   },
   {
    "duration": 94,
    "start_time": "2024-09-25T21:08:54.217Z"
   },
   {
    "duration": 72,
    "start_time": "2024-09-25T21:08:54.313Z"
   },
   {
    "duration": 29,
    "start_time": "2024-09-25T21:08:54.387Z"
   },
   {
    "duration": 164,
    "start_time": "2024-09-25T21:08:54.418Z"
   },
   {
    "duration": 169,
    "start_time": "2024-09-25T21:08:54.583Z"
   },
   {
    "duration": 5,
    "start_time": "2024-09-25T21:08:54.754Z"
   },
   {
    "duration": 4,
    "start_time": "2024-09-25T21:08:54.760Z"
   },
   {
    "duration": 103,
    "start_time": "2024-09-25T21:08:54.766Z"
   },
   {
    "duration": 83,
    "start_time": "2024-09-25T21:08:54.871Z"
   },
   {
    "duration": 13,
    "start_time": "2024-09-25T21:08:54.956Z"
   },
   {
    "duration": 189,
    "start_time": "2024-09-25T21:08:54.970Z"
   },
   {
    "duration": 163,
    "start_time": "2024-09-25T21:08:55.161Z"
   },
   {
    "duration": 4,
    "start_time": "2024-09-25T21:08:55.326Z"
   },
   {
    "duration": 4,
    "start_time": "2024-09-25T21:08:55.331Z"
   },
   {
    "duration": 156,
    "start_time": "2024-09-25T21:08:55.336Z"
   },
   {
    "duration": 84,
    "start_time": "2024-09-25T21:08:55.494Z"
   },
   {
    "duration": 9,
    "start_time": "2024-09-25T21:08:55.580Z"
   },
   {
    "duration": 166,
    "start_time": "2024-09-25T21:08:55.590Z"
   },
   {
    "duration": 4,
    "start_time": "2024-09-25T21:08:55.759Z"
   },
   {
    "duration": 81,
    "start_time": "2024-09-25T21:08:55.764Z"
   },
   {
    "duration": 85,
    "start_time": "2024-09-25T21:08:55.847Z"
   },
   {
    "duration": 7,
    "start_time": "2024-09-25T21:08:55.934Z"
   },
   {
    "duration": 7,
    "start_time": "2024-09-25T21:08:55.943Z"
   },
   {
    "duration": 8,
    "start_time": "2024-09-27T17:37:01.533Z"
   },
   {
    "duration": 5,
    "start_time": "2024-09-27T17:49:16.657Z"
   },
   {
    "duration": 4,
    "start_time": "2024-09-27T17:57:07.738Z"
   },
   {
    "duration": 4,
    "start_time": "2024-09-27T18:00:54.752Z"
   }
  ],
  "colab": {
   "provenance": []
  },
  "kernelspec": {
   "display_name": "Python 3",
   "language": "python",
   "name": "python3"
  },
  "language_info": {
   "codemirror_mode": {
    "name": "ipython",
    "version": 3
   },
   "file_extension": ".py",
   "mimetype": "text/x-python",
   "name": "python",
   "nbconvert_exporter": "python",
   "pygments_lexer": "ipython3",
   "version": "3.6.4"
  },
  "toc": {
   "base_numbering": 1,
   "nav_menu": {},
   "number_sections": true,
   "sideBar": true,
   "skip_h1_title": false,
   "title_cell": "Table of Contents",
   "title_sidebar": "Contents",
   "toc_cell": false,
   "toc_position": {},
   "toc_section_display": true,
   "toc_window_display": true
  }
 },
 "nbformat": 4,
 "nbformat_minor": 1
}
