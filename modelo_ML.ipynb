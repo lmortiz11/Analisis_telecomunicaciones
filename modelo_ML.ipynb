{
 "cells": [
  {
   "cell_type": "markdown",
   "metadata": {},
   "source": [
    "# Análisis comportamiento de clientes megaline"
   ]
  },
  {
   "cell_type": "markdown",
   "metadata": {},
   "source": [
    "## Impotar las librerias que se van a utilizar"
   ]
  },
  {
   "cell_type": "code",
   "execution_count": 1,
   "metadata": {},
   "outputs": [],
   "source": [
    "import pandas as pd\n",
    "from sklearn.tree import DecisionTreeClassifier\n",
    "from sklearn.ensemble import RandomForestClassifier\n",
    "from sklearn.linear_model import LogisticRegression\n",
    "from sklearn.model_selection import train_test_split\n",
    "from sklearn.metrics import accuracy_score, classification_report"
   ]
  },
  {
   "cell_type": "code",
   "execution_count": 2,
   "metadata": {},
   "outputs": [],
   "source": [
    "df=pd.read_csv('/datasets/users_behavior.csv')"
   ]
  },
  {
   "cell_type": "code",
   "execution_count": 3,
   "metadata": {},
   "outputs": [
    {
     "data": {
      "text/html": [
       "<div>\n",
       "<style scoped>\n",
       "    .dataframe tbody tr th:only-of-type {\n",
       "        vertical-align: middle;\n",
       "    }\n",
       "\n",
       "    .dataframe tbody tr th {\n",
       "        vertical-align: top;\n",
       "    }\n",
       "\n",
       "    .dataframe thead th {\n",
       "        text-align: right;\n",
       "    }\n",
       "</style>\n",
       "<table border=\"1\" class=\"dataframe\">\n",
       "  <thead>\n",
       "    <tr style=\"text-align: right;\">\n",
       "      <th></th>\n",
       "      <th>calls</th>\n",
       "      <th>minutes</th>\n",
       "      <th>messages</th>\n",
       "      <th>mb_used</th>\n",
       "      <th>is_ultra</th>\n",
       "    </tr>\n",
       "  </thead>\n",
       "  <tbody>\n",
       "    <tr>\n",
       "      <th>0</th>\n",
       "      <td>40.0</td>\n",
       "      <td>311.90</td>\n",
       "      <td>83.0</td>\n",
       "      <td>19915.42</td>\n",
       "      <td>0</td>\n",
       "    </tr>\n",
       "    <tr>\n",
       "      <th>1</th>\n",
       "      <td>85.0</td>\n",
       "      <td>516.75</td>\n",
       "      <td>56.0</td>\n",
       "      <td>22696.96</td>\n",
       "      <td>0</td>\n",
       "    </tr>\n",
       "    <tr>\n",
       "      <th>2</th>\n",
       "      <td>77.0</td>\n",
       "      <td>467.66</td>\n",
       "      <td>86.0</td>\n",
       "      <td>21060.45</td>\n",
       "      <td>0</td>\n",
       "    </tr>\n",
       "    <tr>\n",
       "      <th>3</th>\n",
       "      <td>106.0</td>\n",
       "      <td>745.53</td>\n",
       "      <td>81.0</td>\n",
       "      <td>8437.39</td>\n",
       "      <td>1</td>\n",
       "    </tr>\n",
       "    <tr>\n",
       "      <th>4</th>\n",
       "      <td>66.0</td>\n",
       "      <td>418.74</td>\n",
       "      <td>1.0</td>\n",
       "      <td>14502.75</td>\n",
       "      <td>0</td>\n",
       "    </tr>\n",
       "  </tbody>\n",
       "</table>\n",
       "</div>"
      ],
      "text/plain": [
       "   calls  minutes  messages   mb_used  is_ultra\n",
       "0   40.0   311.90      83.0  19915.42         0\n",
       "1   85.0   516.75      56.0  22696.96         0\n",
       "2   77.0   467.66      86.0  21060.45         0\n",
       "3  106.0   745.53      81.0   8437.39         1\n",
       "4   66.0   418.74       1.0  14502.75         0"
      ]
     },
     "execution_count": 3,
     "metadata": {},
     "output_type": "execute_result"
    }
   ],
   "source": [
    "df.head()"
   ]
  },
  {
   "cell_type": "markdown",
   "metadata": {},
   "source": [
    "## Segmentar los datos en conjunto de entrenamiento, validación y prueba"
   ]
  },
  {
   "cell_type": "markdown",
   "metadata": {},
   "source": [
    "Se divide el conjunto de datos en:\n",
    "\n",
    "60% de entrenamiento\n",
    "\n",
    "20% validación\n",
    "\n",
    "20% prueba"
   ]
  },
  {
   "cell_type": "code",
   "execution_count": 4,
   "metadata": {},
   "outputs": [],
   "source": [
    "df_train, df_valid_test = train_test_split(df, test_size=0.4, random_state=12345)\n",
    "df_valid,df_test=train_test_split(df_valid_test, test_size=0.5, random_state=12345)"
   ]
  },
  {
   "cell_type": "code",
   "execution_count": 5,
   "metadata": {},
   "outputs": [],
   "source": [
    "#Se separa cada conjunto de datos en caracteristicas y el objetivo\n",
    "features_train= df_train.drop('is_ultra',axis=1)\n",
    "target_train=df_train['is_ultra']\n",
    "\n",
    "features_valid=df_valid.drop('is_ultra',axis=1)\n",
    "target_valid=df_valid['is_ultra']\n",
    "\n",
    "features_test=df_test.drop('is_ultra',axis=1)\n",
    "target_test=df_test['is_ultra']"
   ]
  },
  {
   "cell_type": "markdown",
   "metadata": {},
   "source": [
    "##  Investigar los diferentes modelos"
   ]
  },
  {
   "cell_type": "markdown",
   "metadata": {},
   "source": [
    "### Árbol de decisión"
   ]
  },
  {
   "cell_type": "code",
   "execution_count": 6,
   "metadata": {},
   "outputs": [
    {
     "name": "stdout",
     "output_type": "stream",
     "text": [
      "La mejor exactitud fue de 0.7853810264385692, se obtuvo para un model con max_depth= 3 \n"
     ]
    }
   ],
   "source": [
    "best_accuracy=0\n",
    "best_depth=0\n",
    "for depth in range(1,11):\n",
    "    tree_model=DecisionTreeClassifier(max_depth=depth, random_state=12345)\n",
    "    tree_model.fit(features_train,target_train)\n",
    "    predictions=tree_model.predict(features_valid)\n",
    "    accuracy=accuracy_score(target_valid,predictions)\n",
    "    if accuracy>best_accuracy:\n",
    "        best_accuracy=accuracy\n",
    "        best_depth=depth\n",
    "print (f'La mejor exactitud fue de {best_accuracy}, se obtuvo para un model con max_depth= {best_depth} ')"
   ]
  },
  {
   "cell_type": "markdown",
   "metadata": {},
   "source": [
    "### Algoritmo bosques aleatorios"
   ]
  },
  {
   "cell_type": "code",
   "execution_count": 7,
   "metadata": {},
   "outputs": [
    {
     "name": "stdout",
     "output_type": "stream",
     "text": [
      "La mejor exactitud fue de 0.7853810264385692, se obtuvo para un model con n_estimators= 33 \n"
     ]
    }
   ],
   "source": [
    "# Revisa si no eliminar\n",
    "best_score = 0\n",
    "best_est = 0\n",
    "for est in range(1,40):\n",
    "    forest_model = RandomForestClassifier(random_state=54321, n_estimators=est,max_depth=3) \n",
    "    forest_model.fit(features_train,target_train) \n",
    "    score = forest_model.score(features_valid,target_valid) \n",
    "    if score > best_score:\n",
    "        best_score =score \n",
    "        best_est = est\n",
    "\n",
    "print(f'La mejor exactitud fue de {best_accuracy}, se obtuvo para un model con n_estimators= {best_est} ')"
   ]
  },
  {
   "cell_type": "code",
   "execution_count": 8,
   "metadata": {},
   "outputs": [
    {
     "name": "stdout",
     "output_type": "stream",
     "text": [
      "La mejor exactitud fue de 0.7853810264385692, se obtuvo para un model con n_estimators= 33 y max_depth= 7\n",
      "0.8609958506224067\n"
     ]
    }
   ],
   "source": [
    "best_score = 0\n",
    "best_est = 0\n",
    "best_depth=0\n",
    "for est in range(1,40):\n",
    "    for depth in range(1,11):\n",
    "        forest_model = RandomForestClassifier(random_state=54321, n_estimators=est, max_depth=depth) \n",
    "        forest_model.fit(features_train,target_train) \n",
    "        score = forest_model.score(features_valid,target_valid)\n",
    "        score_train=forest_model.score(features_train,target_train)\n",
    "        if score > best_score:\n",
    "            best_score =score \n",
    "            best_est = est\n",
    "            final_score_train=score_train\n",
    "            best_depth=depth\n",
    "\n",
    "print(f'La mejor exactitud fue de {best_accuracy}, se obtuvo para un model con n_estimators= {best_est} y max_depth= {best_depth}')\n",
    "print(final_score_train)"
   ]
  },
  {
   "cell_type": "markdown",
   "metadata": {},
   "source": [
    "### Regresión lógistica"
   ]
  },
  {
   "cell_type": "code",
   "execution_count": 9,
   "metadata": {},
   "outputs": [
    {
     "name": "stdout",
     "output_type": "stream",
     "text": [
      " La exactitud para el modelo de regresión logistica es 0.7589424572317263\n"
     ]
    }
   ],
   "source": [
    "regression_model=LogisticRegression(random_state=54321,solver='liblinear')\n",
    "regression_model.fit(features_train,target_train)\n",
    "score_valid=regression_model.score(features_valid,target_valid)\n",
    "print(f' La exactitud para el modelo de regresión logistica es {score_valid}')"
   ]
  },
  {
   "cell_type": "markdown",
   "metadata": {},
   "source": [
    "De los 3 modelos se observa que el que tiene un mejor resultado es el algoritmo de bosques aleatorios, con un hiperparametro de n_estimators de 33. Se va a reentrenar este modelo con los datos combinados de el entrenamiento y validación "
   ]
  },
  {
   "cell_type": "markdown",
   "metadata": {},
   "source": [
    "## Comprueba la calidad del modelo usando el conjunto de prueba."
   ]
  },
  {
   "cell_type": "code",
   "execution_count": 10,
   "metadata": {},
   "outputs": [],
   "source": [
    "# juntar los datos de entrenamiento y validación\n",
    "features= pd.concat([features_train,features_valid]).reset_index(drop=True)\n",
    "target=pd.concat([target_train,target_valid]).reset_index(drop=True)"
   ]
  },
  {
   "cell_type": "code",
   "execution_count": 11,
   "metadata": {},
   "outputs": [
    {
     "name": "stdout",
     "output_type": "stream",
     "text": [
      " La exactitud para el modelo es 0.7900466562986003\n"
     ]
    }
   ],
   "source": [
    "model=RandomForestClassifier(random_state=54321, n_estimators=33)\n",
    "model.fit(features,target)\n",
    "score_valid=model.score(features_test,target_test)\n",
    "print(f' La exactitud para el modelo es {score_valid}')"
   ]
  },
  {
   "cell_type": "markdown",
   "metadata": {},
   "source": [
    "## Hacer prueba de cordura al modelo"
   ]
  },
  {
   "cell_type": "markdown",
   "metadata": {},
   "source": [
    "Para obtener más información sobre el rendimiento del modelo, se examinaran las métricas de precisión, recall y la puntuacion F1\n",
    "\n",
    "Precisión es el número de miembros identificados correctamente de una clase dividido por todas las veces que el modelo predijo esa clase. \n",
    "\n",
    "Recall: la cantidad de miembros de una clase que el modelo haya indentificado correctamente dividido por el numero total de miembros de esa clase\n",
    "\n",
    "F1 score: esta combina precisión y recall en una sola métrica. Si la precisión y recall son altas, f1 también lo es. Si ambos están bajos, F1 sera bajo. Si uno está alto y el otro bajo, F1 será bajo. "
   ]
  },
  {
   "cell_type": "code",
   "execution_count": 12,
   "metadata": {},
   "outputs": [
    {
     "name": "stdout",
     "output_type": "stream",
     "text": [
      "              precision    recall  f1-score   support\n",
      "\n",
      "           0       0.82      0.89      0.85       440\n",
      "           1       0.70      0.58      0.63       203\n",
      "\n",
      "    accuracy                           0.79       643\n",
      "   macro avg       0.76      0.73      0.74       643\n",
      "weighted avg       0.78      0.79      0.78       643\n",
      "\n"
     ]
    }
   ],
   "source": [
    "#Se observa el reporte de clasificacion para la data de prueba y predicción\n",
    "target_predict=model.predict(features_test)\n",
    "print(classification_report(target_test, target_predict))"
   ]
  },
  {
   "cell_type": "markdown",
   "metadata": {},
   "source": [
    "Al observar las metricas para la clase 1 (ultra), se observa que la presición es relativamente alta, lo que significa que el modelo evito etiquetar cosas como ultra que no lo son. Por otro lado recall es baja, lo que significa que el clasficador le falta una buena cantidad de ultra debido a que es demasiado cuidadoso. Y F1 score refleja este desequilibrio.\n",
    "\n",
    "En cambio la metrica para la clase 0 (smart), la presición y recall son altos, lo que significa que el modelo no etiqueto muchos casos como smart que no lo son, y tampoco le falto clasificar muchos casos como smart cuando lo son. "
   ]
  }
 ],
 "metadata": {
  "ExecuteTimeLog": [
   {
    "duration": 764,
    "start_time": "2024-10-29T15:26:43.528Z"
   },
   {
    "duration": 579,
    "start_time": "2024-10-29T15:27:07.309Z"
   },
   {
    "duration": 59,
    "start_time": "2024-10-29T15:27:28.586Z"
   },
   {
    "duration": 10,
    "start_time": "2024-10-29T15:28:02.024Z"
   },
   {
    "duration": 13,
    "start_time": "2024-10-29T15:28:11.573Z"
   },
   {
    "duration": 3,
    "start_time": "2024-10-29T15:36:59.917Z"
   },
   {
    "duration": 8,
    "start_time": "2024-10-29T15:41:48.429Z"
   },
   {
    "duration": 3,
    "start_time": "2024-10-29T15:43:17.949Z"
   },
   {
    "duration": 8,
    "start_time": "2024-10-29T15:45:22.628Z"
   },
   {
    "duration": 7,
    "start_time": "2024-10-29T15:45:25.911Z"
   },
   {
    "duration": 6,
    "start_time": "2024-10-29T15:46:34.144Z"
   },
   {
    "duration": 5,
    "start_time": "2024-10-29T15:47:30.017Z"
   },
   {
    "duration": 6,
    "start_time": "2024-10-29T15:47:57.053Z"
   },
   {
    "duration": 17,
    "start_time": "2024-10-29T15:52:04.328Z"
   },
   {
    "duration": 5,
    "start_time": "2024-10-29T15:52:21.463Z"
   },
   {
    "duration": 26,
    "start_time": "2024-10-29T16:02:36.373Z"
   },
   {
    "duration": 2,
    "start_time": "2024-10-29T16:02:59.681Z"
   },
   {
    "duration": 24,
    "start_time": "2024-10-29T16:03:05.364Z"
   },
   {
    "duration": 41,
    "start_time": "2024-10-29T16:03:43.224Z"
   },
   {
    "duration": 40,
    "start_time": "2024-10-29T16:36:45.940Z"
   },
   {
    "duration": 41,
    "start_time": "2024-10-29T16:39:59.782Z"
   },
   {
    "duration": 54,
    "start_time": "2024-10-29T16:41:03.112Z"
   },
   {
    "duration": 206,
    "start_time": "2024-10-29T16:50:56.248Z"
   },
   {
    "duration": 2328,
    "start_time": "2024-10-29T16:51:24.532Z"
   },
   {
    "duration": 1076,
    "start_time": "2024-10-29T16:54:52.437Z"
   },
   {
    "duration": 13687,
    "start_time": "2024-10-29T16:56:49.611Z"
   },
   {
    "duration": 2308,
    "start_time": "2024-10-29T16:57:32.800Z"
   },
   {
    "duration": 14727,
    "start_time": "2024-10-29T17:08:44.896Z"
   },
   {
    "duration": 4,
    "start_time": "2024-10-29T17:09:35.629Z"
   },
   {
    "duration": 14618,
    "start_time": "2024-10-29T17:10:07.821Z"
   },
   {
    "duration": 2294,
    "start_time": "2024-10-29T17:10:38.646Z"
   },
   {
    "duration": 1102,
    "start_time": "2024-10-29T17:11:56.277Z"
   },
   {
    "duration": 1865,
    "start_time": "2024-10-29T17:12:23.046Z"
   },
   {
    "duration": 14855,
    "start_time": "2024-10-29T17:13:56.001Z"
   },
   {
    "duration": 2317,
    "start_time": "2024-10-29T17:15:42.116Z"
   },
   {
    "duration": 15,
    "start_time": "2024-10-29T17:36:30.738Z"
   },
   {
    "duration": 21,
    "start_time": "2024-10-29T17:36:39.529Z"
   },
   {
    "duration": 11,
    "start_time": "2024-10-29T17:36:50.643Z"
   },
   {
    "duration": 2293,
    "start_time": "2024-10-29T17:41:30.581Z"
   },
   {
    "duration": 768,
    "start_time": "2024-10-29T17:42:13.921Z"
   },
   {
    "duration": 9,
    "start_time": "2024-10-29T17:42:15.505Z"
   },
   {
    "duration": 14,
    "start_time": "2024-10-29T17:42:16.562Z"
   },
   {
    "duration": 5,
    "start_time": "2024-10-29T17:42:19.168Z"
   },
   {
    "duration": 5,
    "start_time": "2024-10-29T17:42:21.041Z"
   },
   {
    "duration": 56,
    "start_time": "2024-10-29T17:42:23.642Z"
   },
   {
    "duration": 2332,
    "start_time": "2024-10-29T17:42:30.264Z"
   },
   {
    "duration": 15103,
    "start_time": "2024-10-29T17:42:32.598Z"
   },
   {
    "duration": 1095,
    "start_time": "2024-10-29T17:43:49.958Z"
   },
   {
    "duration": 1176,
    "start_time": "2024-10-29T17:44:11.719Z"
   },
   {
    "duration": 2017,
    "start_time": "2024-10-29T17:44:25.978Z"
   },
   {
    "duration": 1203,
    "start_time": "2024-10-29T17:45:45.966Z"
   },
   {
    "duration": 16122,
    "start_time": "2024-10-29T17:48:31.991Z"
   },
   {
    "duration": 13,
    "start_time": "2024-10-29T18:21:29.892Z"
   },
   {
    "duration": 282,
    "start_time": "2024-10-29T18:21:33.592Z"
   },
   {
    "duration": 13,
    "start_time": "2024-10-29T18:21:38.673Z"
   },
   {
    "duration": 11,
    "start_time": "2024-10-29T18:21:41.502Z"
   },
   {
    "duration": 3,
    "start_time": "2024-10-29T18:23:03.297Z"
   },
   {
    "duration": 10,
    "start_time": "2024-10-29T18:23:07.708Z"
   },
   {
    "duration": 3,
    "start_time": "2024-10-29T18:23:25.648Z"
   },
   {
    "duration": 7,
    "start_time": "2024-10-29T18:23:26.595Z"
   },
   {
    "duration": 4,
    "start_time": "2024-10-29T18:23:34.362Z"
   },
   {
    "duration": 12,
    "start_time": "2024-10-29T18:23:34.933Z"
   },
   {
    "duration": 7,
    "start_time": "2024-10-29T18:23:51.379Z"
   },
   {
    "duration": 3,
    "start_time": "2024-10-29T18:23:52.028Z"
   },
   {
    "duration": 2,
    "start_time": "2024-10-29T18:24:01.862Z"
   },
   {
    "duration": 4,
    "start_time": "2024-10-29T18:24:53.529Z"
   },
   {
    "duration": 7,
    "start_time": "2024-10-29T18:24:54.076Z"
   },
   {
    "duration": 4,
    "start_time": "2024-10-29T18:25:04.608Z"
   },
   {
    "duration": 6,
    "start_time": "2024-10-29T18:25:05.193Z"
   },
   {
    "duration": 6,
    "start_time": "2024-10-29T18:26:10.320Z"
   },
   {
    "duration": 4,
    "start_time": "2024-10-29T18:27:16.114Z"
   },
   {
    "duration": 8,
    "start_time": "2024-10-29T18:27:16.585Z"
   },
   {
    "duration": 6,
    "start_time": "2024-10-29T18:27:23.964Z"
   },
   {
    "duration": 6,
    "start_time": "2024-10-29T18:27:35.336Z"
   },
   {
    "duration": 7,
    "start_time": "2024-10-29T18:27:51.134Z"
   },
   {
    "duration": 6,
    "start_time": "2024-10-29T18:28:08.156Z"
   },
   {
    "duration": 4,
    "start_time": "2024-10-29T18:28:49.931Z"
   },
   {
    "duration": 3,
    "start_time": "2024-10-29T18:28:57.562Z"
   },
   {
    "duration": 143,
    "start_time": "2024-10-29T19:49:38.689Z"
   },
   {
    "duration": 5,
    "start_time": "2024-10-29T19:49:59.226Z"
   },
   {
    "duration": 145,
    "start_time": "2024-10-29T19:50:03.942Z"
   },
   {
    "duration": 156,
    "start_time": "2024-10-29T19:50:18.607Z"
   },
   {
    "duration": 139,
    "start_time": "2024-10-29T19:50:23.099Z"
   },
   {
    "duration": 3,
    "start_time": "2024-10-29T19:59:37.812Z"
   },
   {
    "duration": 21,
    "start_time": "2024-10-29T20:37:51.114Z"
   },
   {
    "duration": 3,
    "start_time": "2024-10-29T20:38:57.390Z"
   },
   {
    "duration": 11,
    "start_time": "2024-10-29T20:39:03.327Z"
   },
   {
    "duration": 8,
    "start_time": "2024-10-29T21:12:27.638Z"
   },
   {
    "duration": 7,
    "start_time": "2024-10-29T21:12:43.199Z"
   },
   {
    "duration": 8,
    "start_time": "2024-10-29T21:14:54.017Z"
   },
   {
    "duration": 7,
    "start_time": "2024-10-29T21:14:54.753Z"
   },
   {
    "duration": 8,
    "start_time": "2024-10-29T21:15:36.302Z"
   },
   {
    "duration": 7,
    "start_time": "2024-10-29T21:15:38.201Z"
   },
   {
    "duration": 18,
    "start_time": "2024-10-29T21:16:34.190Z"
   },
   {
    "duration": 8,
    "start_time": "2024-10-29T21:16:35.685Z"
   },
   {
    "duration": 6,
    "start_time": "2024-10-29T21:28:11.708Z"
   },
   {
    "duration": 742,
    "start_time": "2024-10-29T21:40:19.048Z"
   },
   {
    "duration": 9,
    "start_time": "2024-10-29T21:40:19.792Z"
   },
   {
    "duration": 10,
    "start_time": "2024-10-29T21:40:19.802Z"
   },
   {
    "duration": 6,
    "start_time": "2024-10-29T21:40:19.814Z"
   },
   {
    "duration": 4,
    "start_time": "2024-10-29T21:40:19.822Z"
   },
   {
    "duration": 80,
    "start_time": "2024-10-29T21:40:19.828Z"
   },
   {
    "duration": 1181,
    "start_time": "2024-10-29T21:40:19.910Z"
   },
   {
    "duration": 16278,
    "start_time": "2024-10-29T21:40:21.092Z"
   },
   {
    "duration": 11,
    "start_time": "2024-10-29T21:40:37.371Z"
   },
   {
    "duration": 4,
    "start_time": "2024-10-29T21:40:37.384Z"
   },
   {
    "duration": 161,
    "start_time": "2024-10-29T21:40:37.389Z"
   },
   {
    "duration": 18,
    "start_time": "2024-10-29T21:40:37.552Z"
   },
   {
    "duration": 10,
    "start_time": "2024-10-29T21:42:42.518Z"
   },
   {
    "duration": 147,
    "start_time": "2024-10-29T21:44:05.731Z"
   },
   {
    "duration": 754,
    "start_time": "2024-10-29T21:44:17.845Z"
   },
   {
    "duration": 8,
    "start_time": "2024-10-29T21:44:18.601Z"
   },
   {
    "duration": 10,
    "start_time": "2024-10-29T21:44:18.612Z"
   },
   {
    "duration": 4,
    "start_time": "2024-10-29T21:44:18.625Z"
   },
   {
    "duration": 4,
    "start_time": "2024-10-29T21:44:18.632Z"
   },
   {
    "duration": 75,
    "start_time": "2024-10-29T21:44:18.638Z"
   },
   {
    "duration": 1197,
    "start_time": "2024-10-29T21:44:18.714Z"
   },
   {
    "duration": 16773,
    "start_time": "2024-10-29T21:44:19.914Z"
   },
   {
    "duration": 11,
    "start_time": "2024-10-29T21:44:36.689Z"
   },
   {
    "duration": 4,
    "start_time": "2024-10-29T21:44:36.701Z"
   },
   {
    "duration": 155,
    "start_time": "2024-10-29T21:44:36.707Z"
   },
   {
    "duration": 17,
    "start_time": "2024-10-29T21:44:36.864Z"
   }
  ],
  "kernelspec": {
   "display_name": "Python 3",
   "language": "python",
   "name": "python3"
  },
  "language_info": {
   "codemirror_mode": {
    "name": "ipython",
    "version": 3
   },
   "file_extension": ".py",
   "mimetype": "text/x-python",
   "name": "python",
   "nbconvert_exporter": "python",
   "pygments_lexer": "ipython3",
   "version": "3.6.4"
  },
  "toc": {
   "base_numbering": 1,
   "nav_menu": {},
   "number_sections": true,
   "sideBar": true,
   "skip_h1_title": true,
   "title_cell": "Table of Contents",
   "title_sidebar": "Contents",
   "toc_cell": false,
   "toc_position": {},
   "toc_section_display": true,
   "toc_window_display": false
  }
 },
 "nbformat": 4,
 "nbformat_minor": 2
}
